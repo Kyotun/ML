{
 "cells": [
  {
   "cell_type": "markdown",
   "source": [
    "# Import the libs"
   ],
   "metadata": {
    "collapsed": false
   },
   "id": "82b709a4bbb7ea5c"
  },
  {
   "cell_type": "code",
   "outputs": [],
   "source": [
    "import tensorflow as tf\n",
    "from keras.preprocessing.image import ImageDataGenerator"
   ],
   "metadata": {
    "collapsed": false,
    "ExecuteTime": {
     "end_time": "2024-04-02T16:40:01.612846Z",
     "start_time": "2024-04-02T16:39:58.746189Z"
    }
   },
   "id": "4cd0af2204054221",
   "execution_count": 2
  },
  {
   "cell_type": "markdown",
   "source": [
    "# Data Preprocessing"
   ],
   "metadata": {
    "collapsed": false
   },
   "id": "c3a7b17ab85aac41"
  },
  {
   "cell_type": "markdown",
   "source": [
    "### Preprocess the training set"
   ],
   "metadata": {
    "collapsed": false
   },
   "id": "cb339d97900c97e5"
  },
  {
   "cell_type": "code",
   "outputs": [
    {
     "name": "stdout",
     "output_type": "stream",
     "text": [
      "Found 8000 images belonging to 2 classes.\n"
     ]
    }
   ],
   "source": [
    "train_datagen = ImageDataGenerator(rescale = 1./255,\n",
    "                                   shear_range = 0.2,\n",
    "                                   zoom_range = 0.2,\n",
    "                                   horizontal_flip = True)\n",
    "training_set = train_datagen.flow_from_directory('dataset/training_set',\n",
    "                                                 target_size = (64, 64),\n",
    "                                                 batch_size = 32,\n",
    "                                                 class_mode = 'binary')"
   ],
   "metadata": {
    "collapsed": false,
    "ExecuteTime": {
     "end_time": "2024-04-02T16:40:01.778677Z",
     "start_time": "2024-04-02T16:40:01.613998Z"
    }
   },
   "id": "fb9a33d1ae5bd56a",
   "execution_count": 3
  },
  {
   "cell_type": "markdown",
   "source": [
    "### Preprocess the test set"
   ],
   "metadata": {
    "collapsed": false
   },
   "id": "d8506deab7891718"
  },
  {
   "cell_type": "code",
   "outputs": [
    {
     "name": "stdout",
     "output_type": "stream",
     "text": [
      "Found 2000 images belonging to 2 classes.\n"
     ]
    }
   ],
   "source": [
    "test_datagen = ImageDataGenerator(rescale = 1./255)\n",
    "test_set = test_datagen.flow_from_directory('dataset/test_set',\n",
    "                                            target_size = (64, 64),\n",
    "                                            batch_size = 32,\n",
    "                                            class_mode = 'binary')"
   ],
   "metadata": {
    "collapsed": false,
    "ExecuteTime": {
     "end_time": "2024-04-02T16:40:01.818019Z",
     "start_time": "2024-04-02T16:40:01.780049Z"
    }
   },
   "id": "7ce0580b54a3640c",
   "execution_count": 4
  },
  {
   "cell_type": "markdown",
   "source": [
    "# Build the CNN"
   ],
   "metadata": {
    "collapsed": false
   },
   "id": "1a029f5791f0bf91"
  },
  {
   "cell_type": "code",
   "outputs": [],
   "source": [
    "# Init\n",
    "cnn = tf.keras.models.Sequential()"
   ],
   "metadata": {
    "collapsed": false,
    "ExecuteTime": {
     "end_time": "2024-04-02T16:40:01.860028Z",
     "start_time": "2024-04-02T16:40:01.820018Z"
    }
   },
   "id": "dfd8d39f59c0323f",
   "execution_count": 5
  },
  {
   "cell_type": "markdown",
   "source": [
    "### Convolution"
   ],
   "metadata": {
    "collapsed": false
   },
   "id": "9a38d888c123cc1b"
  },
  {
   "cell_type": "code",
   "outputs": [],
   "source": [
    "cnn.add(tf.keras.layers.Conv2D(filters=32, kernel_size=3, activation='relu', input_shape=[64, 64, 3]))"
   ],
   "metadata": {
    "collapsed": false,
    "ExecuteTime": {
     "end_time": "2024-04-02T16:40:01.886082Z",
     "start_time": "2024-04-02T16:40:01.860755Z"
    }
   },
   "id": "42a2602c475f89dd",
   "execution_count": 6
  },
  {
   "cell_type": "markdown",
   "source": [
    "### Pooling"
   ],
   "metadata": {
    "collapsed": false
   },
   "id": "b42033f2a1aef604"
  },
  {
   "cell_type": "code",
   "outputs": [],
   "source": [
    "cnn.add(tf.keras.layers.MaxPool2D(pool_size=2, strides=2))"
   ],
   "metadata": {
    "collapsed": false,
    "ExecuteTime": {
     "end_time": "2024-04-02T16:40:01.892053Z",
     "start_time": "2024-04-02T16:40:01.887217Z"
    }
   },
   "id": "706698bac47f546c",
   "execution_count": 7
  },
  {
   "cell_type": "markdown",
   "source": [
    "### Second convolutional layer"
   ],
   "metadata": {
    "collapsed": false
   },
   "id": "3d3fddaaa18cc96c"
  },
  {
   "cell_type": "code",
   "outputs": [],
   "source": [
    "cnn.add(tf.keras.layers.Conv2D(filters=32, kernel_size=3, activation='relu'))\n",
    "cnn.add(tf.keras.layers.MaxPool2D(pool_size=2, strides=2))"
   ],
   "metadata": {
    "collapsed": false,
    "ExecuteTime": {
     "end_time": "2024-04-02T16:40:01.903103Z",
     "start_time": "2024-04-02T16:40:01.892744Z"
    }
   },
   "id": "d8c8f696472a3a9e",
   "execution_count": 8
  },
  {
   "cell_type": "markdown",
   "source": [
    "### Flattening"
   ],
   "metadata": {
    "collapsed": false
   },
   "id": "90d955e1d4d80b94"
  },
  {
   "cell_type": "code",
   "outputs": [],
   "source": [
    "cnn.add(tf.keras.layers.Flatten())"
   ],
   "metadata": {
    "collapsed": false,
    "ExecuteTime": {
     "end_time": "2024-04-02T16:40:01.908798Z",
     "start_time": "2024-04-02T16:40:01.903833Z"
    }
   },
   "id": "637d84b7974a5f87",
   "execution_count": 9
  },
  {
   "cell_type": "markdown",
   "source": [
    "### Full connection"
   ],
   "metadata": {
    "collapsed": false
   },
   "id": "e4a396936cea953b"
  },
  {
   "cell_type": "code",
   "outputs": [],
   "source": [
    "cnn.add(tf.keras.layers.Dense(units=128, activation='relu'))"
   ],
   "metadata": {
    "collapsed": false,
    "ExecuteTime": {
     "end_time": "2024-04-02T16:40:01.920676Z",
     "start_time": "2024-04-02T16:40:01.909530Z"
    }
   },
   "id": "e6594d55e08b47c5",
   "execution_count": 10
  },
  {
   "cell_type": "markdown",
   "source": [
    "### Output layer"
   ],
   "metadata": {
    "collapsed": false
   },
   "id": "8a3367380a60d09c"
  },
  {
   "cell_type": "code",
   "outputs": [],
   "source": [
    "cnn.add(tf.keras.layers.Dense(units=1, activation='sigmoid'))"
   ],
   "metadata": {
    "collapsed": false,
    "ExecuteTime": {
     "end_time": "2024-04-02T16:40:01.930987Z",
     "start_time": "2024-04-02T16:40:01.923058Z"
    }
   },
   "id": "70f9e6aa87912fa3",
   "execution_count": 11
  },
  {
   "cell_type": "markdown",
   "source": [
    "# Train the CNN"
   ],
   "metadata": {
    "collapsed": false
   },
   "id": "aa19b34f9cdda688"
  },
  {
   "cell_type": "markdown",
   "source": [
    "### Compile the CNN"
   ],
   "metadata": {
    "collapsed": false
   },
   "id": "5470c7fc2d1d52e0"
  },
  {
   "cell_type": "code",
   "outputs": [],
   "source": [
    "cnn.compile(optimizer = 'adam', loss = 'binary_crossentropy', metrics = ['accuracy'])"
   ],
   "metadata": {
    "collapsed": false,
    "ExecuteTime": {
     "end_time": "2024-04-02T16:40:01.938625Z",
     "start_time": "2024-04-02T16:40:01.931612Z"
    }
   },
   "id": "8ea3bd9042877d60",
   "execution_count": 12
  },
  {
   "cell_type": "markdown",
   "source": [
    "### Train the CNN on the training set and evaluate on the test set"
   ],
   "metadata": {
    "collapsed": false
   },
   "id": "184dcab45651a00b"
  },
  {
   "cell_type": "code",
   "outputs": [
    {
     "name": "stdout",
     "output_type": "stream",
     "text": [
      "Epoch 1/25\n"
     ]
    },
    {
     "name": "stderr",
     "output_type": "stream",
     "text": [
      "2024-04-02 18:40:02.078326: W tensorflow/tsl/platform/profile_utils/cpu_utils.cc:128] Failed to get CPU frequency: 0 Hz\n"
     ]
    },
    {
     "name": "stdout",
     "output_type": "stream",
     "text": [
      "250/250 [==============================] - 20s 81ms/step - loss: 0.6747 - accuracy: 0.5790 - val_loss: 0.6361 - val_accuracy: 0.6480\n",
      "Epoch 2/25\n",
      "250/250 [==============================] - 21s 82ms/step - loss: 0.6049 - accuracy: 0.6740 - val_loss: 0.5692 - val_accuracy: 0.7140\n",
      "Epoch 3/25\n",
      "250/250 [==============================] - 21s 83ms/step - loss: 0.5553 - accuracy: 0.7125 - val_loss: 0.5305 - val_accuracy: 0.7435\n",
      "Epoch 4/25\n",
      "250/250 [==============================] - 21s 84ms/step - loss: 0.5166 - accuracy: 0.7423 - val_loss: 0.5362 - val_accuracy: 0.7315\n",
      "Epoch 5/25\n",
      "250/250 [==============================] - 21s 85ms/step - loss: 0.5006 - accuracy: 0.7580 - val_loss: 0.5337 - val_accuracy: 0.7300\n",
      "Epoch 6/25\n",
      "250/250 [==============================] - 22s 89ms/step - loss: 0.4757 - accuracy: 0.7754 - val_loss: 0.4919 - val_accuracy: 0.7620\n",
      "Epoch 7/25\n",
      "250/250 [==============================] - 22s 87ms/step - loss: 0.4584 - accuracy: 0.7818 - val_loss: 0.4796 - val_accuracy: 0.7745\n",
      "Epoch 8/25\n",
      "250/250 [==============================] - 22s 89ms/step - loss: 0.4394 - accuracy: 0.7910 - val_loss: 0.4735 - val_accuracy: 0.7835\n",
      "Epoch 9/25\n",
      "250/250 [==============================] - 22s 88ms/step - loss: 0.4241 - accuracy: 0.8004 - val_loss: 0.4852 - val_accuracy: 0.7825\n",
      "Epoch 10/25\n",
      "250/250 [==============================] - 21s 85ms/step - loss: 0.4045 - accuracy: 0.8110 - val_loss: 0.4615 - val_accuracy: 0.8005\n",
      "Epoch 11/25\n",
      "250/250 [==============================] - 20s 81ms/step - loss: 0.3935 - accuracy: 0.8210 - val_loss: 0.5192 - val_accuracy: 0.7725\n",
      "Epoch 12/25\n",
      "250/250 [==============================] - 22s 86ms/step - loss: 0.3776 - accuracy: 0.8314 - val_loss: 0.4622 - val_accuracy: 0.7940\n",
      "Epoch 13/25\n",
      "250/250 [==============================] - 23s 92ms/step - loss: 0.3665 - accuracy: 0.8366 - val_loss: 0.4750 - val_accuracy: 0.7840\n",
      "Epoch 14/25\n",
      "250/250 [==============================] - 23s 90ms/step - loss: 0.3447 - accuracy: 0.8490 - val_loss: 0.4839 - val_accuracy: 0.7975\n",
      "Epoch 15/25\n",
      "250/250 [==============================] - 23s 93ms/step - loss: 0.3456 - accuracy: 0.8496 - val_loss: 0.4653 - val_accuracy: 0.8090\n",
      "Epoch 16/25\n",
      "250/250 [==============================] - 22s 87ms/step - loss: 0.3185 - accuracy: 0.8602 - val_loss: 0.4749 - val_accuracy: 0.8035\n",
      "Epoch 17/25\n",
      "250/250 [==============================] - 23s 92ms/step - loss: 0.3067 - accuracy: 0.8674 - val_loss: 0.4887 - val_accuracy: 0.8155\n",
      "Epoch 18/25\n",
      "250/250 [==============================] - 24s 95ms/step - loss: 0.2971 - accuracy: 0.8704 - val_loss: 0.4810 - val_accuracy: 0.8030\n",
      "Epoch 19/25\n",
      "250/250 [==============================] - 24s 97ms/step - loss: 0.2854 - accuracy: 0.8770 - val_loss: 0.5279 - val_accuracy: 0.7985\n",
      "Epoch 20/25\n",
      "250/250 [==============================] - 22s 88ms/step - loss: 0.2542 - accuracy: 0.8939 - val_loss: 0.5144 - val_accuracy: 0.8105\n",
      "Epoch 21/25\n",
      "250/250 [==============================] - 22s 88ms/step - loss: 0.2513 - accuracy: 0.8951 - val_loss: 0.5583 - val_accuracy: 0.7945\n",
      "Epoch 22/25\n",
      "250/250 [==============================] - 21s 84ms/step - loss: 0.2430 - accuracy: 0.9006 - val_loss: 0.5087 - val_accuracy: 0.7990\n",
      "Epoch 23/25\n",
      "250/250 [==============================] - 23s 90ms/step - loss: 0.2274 - accuracy: 0.9118 - val_loss: 0.5858 - val_accuracy: 0.7875\n",
      "Epoch 24/25\n",
      "250/250 [==============================] - 23s 91ms/step - loss: 0.2142 - accuracy: 0.9143 - val_loss: 0.5530 - val_accuracy: 0.8075\n",
      "Epoch 25/25\n",
      "250/250 [==============================] - 24s 97ms/step - loss: 0.2053 - accuracy: 0.9160 - val_loss: 0.5653 - val_accuracy: 0.8005\n"
     ]
    },
    {
     "data": {
      "text/plain": "<keras.callbacks.History at 0x2be8d6890>"
     },
     "execution_count": 13,
     "metadata": {},
     "output_type": "execute_result"
    }
   ],
   "source": [
    "cnn.fit(x = training_set, validation_data = test_set, epochs = 25)"
   ],
   "metadata": {
    "collapsed": false,
    "ExecuteTime": {
     "end_time": "2024-04-02T16:49:14.340962Z",
     "start_time": "2024-04-02T16:40:01.939457Z"
    }
   },
   "id": "456a65e793bc7196",
   "execution_count": 13
  },
  {
   "cell_type": "markdown",
   "source": [
    "### Making a single prediction"
   ],
   "metadata": {
    "collapsed": false
   },
   "id": "b9a558204281163a"
  },
  {
   "cell_type": "code",
   "outputs": [
    {
     "name": "stdout",
     "output_type": "stream",
     "text": [
      "1/1 [==============================] - 0s 44ms/step\n"
     ]
    }
   ],
   "source": [
    "import numpy as np\n",
    "from keras.utils import load_img, img_to_array\n",
    "test_image = load_img('dataset/single_prediction/cat_or_dog_1.jpg', target_size = (64, 64))\n",
    "test_image = img_to_array(test_image)\n",
    "test_image = np.expand_dims(test_image, axis = 0)\n",
    "result = cnn.predict(test_image)\n",
    "training_set.class_indices\n",
    "if result[0][0] == 1:\n",
    "  prediction = 'dog'\n",
    "else:\n",
    "  prediction = 'cat'"
   ],
   "metadata": {
    "collapsed": false,
    "ExecuteTime": {
     "end_time": "2024-04-02T17:39:00.083932Z",
     "start_time": "2024-04-02T17:38:59.985640Z"
    }
   },
   "id": "b5ee1673cd31eb43",
   "execution_count": 20
  },
  {
   "cell_type": "code",
   "outputs": [
    {
     "name": "stdout",
     "output_type": "stream",
     "text": [
      "dog\n"
     ]
    }
   ],
   "source": [
    "print(prediction)"
   ],
   "metadata": {
    "collapsed": false,
    "ExecuteTime": {
     "end_time": "2024-04-02T17:39:04.602459Z",
     "start_time": "2024-04-02T17:39:04.600600Z"
    }
   },
   "id": "5545fda31f633c5c",
   "execution_count": 21
  },
  {
   "cell_type": "code",
   "outputs": [],
   "source": [],
   "metadata": {
    "collapsed": false
   },
   "id": "3be85f7ebb946900"
  }
 ],
 "metadata": {
  "kernelspec": {
   "display_name": "Python 3",
   "language": "python",
   "name": "python3"
  },
  "language_info": {
   "codemirror_mode": {
    "name": "ipython",
    "version": 2
   },
   "file_extension": ".py",
   "mimetype": "text/x-python",
   "name": "python",
   "nbconvert_exporter": "python",
   "pygments_lexer": "ipython2",
   "version": "2.7.6"
  }
 },
 "nbformat": 4,
 "nbformat_minor": 5
}
