{
 "cells": [
  {
   "cell_type": "markdown",
   "source": [
    "# Import the libs"
   ],
   "metadata": {
    "collapsed": false
   },
   "id": "82b709a4bbb7ea5c"
  },
  {
   "cell_type": "code",
   "outputs": [],
   "source": [
    "import tensorflow as tf\n",
    "from keras.preprocessing.image import ImageDataGenerator"
   ],
   "metadata": {
    "collapsed": false,
    "ExecuteTime": {
     "end_time": "2024-04-02T16:11:54.249016Z",
     "start_time": "2024-04-02T16:11:51.942092Z"
    }
   },
   "id": "4cd0af2204054221",
   "execution_count": 1
  },
  {
   "cell_type": "markdown",
   "source": [
    "# Data Preprocessing"
   ],
   "metadata": {
    "collapsed": false
   },
   "id": "c3a7b17ab85aac41"
  },
  {
   "cell_type": "markdown",
   "source": [
    "### Preprocess the training set"
   ],
   "metadata": {
    "collapsed": false
   },
   "id": "cb339d97900c97e5"
  },
  {
   "cell_type": "code",
   "outputs": [
    {
     "name": "stdout",
     "output_type": "stream",
     "text": [
      "Found 8000 images belonging to 2 classes.\n"
     ]
    }
   ],
   "source": [
    "train_datagen = ImageDataGenerator(rescale = 1./255,\n",
    "                                   shear_range = 0.2,\n",
    "                                   zoom_range = 0.2,\n",
    "                                   horizontal_flip = True)\n",
    "training_set = train_datagen.flow_from_directory('dataset/training_set',\n",
    "                                                 target_size = (64, 64),\n",
    "                                                 batch_size = 32,\n",
    "                                                 class_mode = 'binary')"
   ],
   "metadata": {
    "collapsed": false,
    "ExecuteTime": {
     "end_time": "2024-04-02T16:13:22.287545Z",
     "start_time": "2024-04-02T16:13:22.144952Z"
    }
   },
   "id": "fb9a33d1ae5bd56a",
   "execution_count": 2
  },
  {
   "cell_type": "markdown",
   "source": [
    "### Preprocess the test set"
   ],
   "metadata": {
    "collapsed": false
   },
   "id": "d8506deab7891718"
  },
  {
   "cell_type": "code",
   "outputs": [
    {
     "name": "stdout",
     "output_type": "stream",
     "text": [
      "Found 2000 images belonging to 2 classes.\n"
     ]
    }
   ],
   "source": [
    "test_datagen = ImageDataGenerator(rescale = 1./255)\n",
    "test_set = test_datagen.flow_from_directory('dataset/test_set',\n",
    "                                            target_size = (64, 64),\n",
    "                                            batch_size = 32,\n",
    "                                            class_mode = 'binary')"
   ],
   "metadata": {
    "collapsed": false,
    "ExecuteTime": {
     "end_time": "2024-04-02T16:13:35.624750Z",
     "start_time": "2024-04-02T16:13:35.588148Z"
    }
   },
   "id": "7ce0580b54a3640c",
   "execution_count": 3
  },
  {
   "cell_type": "markdown",
   "source": [
    "# Build the CNN"
   ],
   "metadata": {
    "collapsed": false
   },
   "id": "1a029f5791f0bf91"
  },
  {
   "cell_type": "code",
   "outputs": [],
   "source": [
    "# Init\n",
    "cnn = tf.keras.models.Sequential()"
   ],
   "metadata": {
    "collapsed": false,
    "ExecuteTime": {
     "end_time": "2024-04-02T16:14:47.023605Z",
     "start_time": "2024-04-02T16:14:47.019024Z"
    }
   },
   "id": "dfd8d39f59c0323f",
   "execution_count": 6
  },
  {
   "cell_type": "markdown",
   "source": [
    "### Convolution"
   ],
   "metadata": {
    "collapsed": false
   },
   "id": "9a38d888c123cc1b"
  },
  {
   "cell_type": "code",
   "outputs": [],
   "source": [
    "cnn.add(tf.keras.layers.Conv2D(filters=32, kernel_size=3, activation='relu', input_shape=[64, 64, 3]))"
   ],
   "metadata": {
    "collapsed": false,
    "ExecuteTime": {
     "end_time": "2024-04-02T16:15:09.871663Z",
     "start_time": "2024-04-02T16:15:09.848709Z"
    }
   },
   "id": "42a2602c475f89dd",
   "execution_count": 7
  },
  {
   "cell_type": "markdown",
   "source": [
    "### Pooling"
   ],
   "metadata": {
    "collapsed": false
   },
   "id": "b42033f2a1aef604"
  },
  {
   "cell_type": "code",
   "outputs": [],
   "source": [
    "cnn.add(tf.keras.layers.MaxPool2D(pool_size=2, strides=2))"
   ],
   "metadata": {
    "collapsed": false,
    "ExecuteTime": {
     "end_time": "2024-04-02T16:15:20.563701Z",
     "start_time": "2024-04-02T16:15:20.559431Z"
    }
   },
   "id": "706698bac47f546c",
   "execution_count": 8
  },
  {
   "cell_type": "markdown",
   "source": [
    "### Second convolutional layer"
   ],
   "metadata": {
    "collapsed": false
   },
   "id": "3d3fddaaa18cc96c"
  },
  {
   "cell_type": "code",
   "outputs": [],
   "source": [
    "cnn.add(tf.keras.layers.Conv2D(filters=32, kernel_size=3, activation='relu'))\n",
    "cnn.add(tf.keras.layers.MaxPool2D(pool_size=2, strides=2))"
   ],
   "metadata": {
    "collapsed": false,
    "ExecuteTime": {
     "end_time": "2024-04-02T16:15:37.414621Z",
     "start_time": "2024-04-02T16:15:37.405688Z"
    }
   },
   "id": "d8c8f696472a3a9e",
   "execution_count": 9
  },
  {
   "cell_type": "markdown",
   "source": [
    "### Flattening"
   ],
   "metadata": {
    "collapsed": false
   },
   "id": "90d955e1d4d80b94"
  },
  {
   "cell_type": "code",
   "outputs": [],
   "source": [
    "cnn.add(tf.keras.layers.Flatten())"
   ],
   "metadata": {
    "collapsed": false,
    "ExecuteTime": {
     "end_time": "2024-04-02T16:16:08.447711Z",
     "start_time": "2024-04-02T16:16:08.440567Z"
    }
   },
   "id": "637d84b7974a5f87",
   "execution_count": 10
  },
  {
   "cell_type": "markdown",
   "source": [
    "### Full connection"
   ],
   "metadata": {
    "collapsed": false
   },
   "id": "e4a396936cea953b"
  },
  {
   "cell_type": "code",
   "outputs": [],
   "source": [
    "cnn.add(tf.keras.layers.Dense(units=128, activation='relu'))"
   ],
   "metadata": {
    "collapsed": false,
    "ExecuteTime": {
     "end_time": "2024-04-02T16:16:19.235693Z",
     "start_time": "2024-04-02T16:16:19.225186Z"
    }
   },
   "id": "e6594d55e08b47c5",
   "execution_count": 11
  },
  {
   "cell_type": "markdown",
   "source": [
    "### Output layer"
   ],
   "metadata": {
    "collapsed": false
   },
   "id": "8a3367380a60d09c"
  },
  {
   "cell_type": "code",
   "outputs": [],
   "source": [
    "cnn.add(tf.keras.layers.Dense(units=1, activation='sigmoid'))"
   ],
   "metadata": {
    "collapsed": false,
    "ExecuteTime": {
     "end_time": "2024-04-02T16:16:28.777816Z",
     "start_time": "2024-04-02T16:16:28.770159Z"
    }
   },
   "id": "70f9e6aa87912fa3",
   "execution_count": 12
  },
  {
   "cell_type": "code",
   "outputs": [],
   "source": [],
   "metadata": {
    "collapsed": false
   },
   "id": "9fd68950e59c6d77"
  }
 ],
 "metadata": {
  "kernelspec": {
   "display_name": "Python 3",
   "language": "python",
   "name": "python3"
  },
  "language_info": {
   "codemirror_mode": {
    "name": "ipython",
    "version": 2
   },
   "file_extension": ".py",
   "mimetype": "text/x-python",
   "name": "python",
   "nbconvert_exporter": "python",
   "pygments_lexer": "ipython2",
   "version": "2.7.6"
  }
 },
 "nbformat": 4,
 "nbformat_minor": 5
}
