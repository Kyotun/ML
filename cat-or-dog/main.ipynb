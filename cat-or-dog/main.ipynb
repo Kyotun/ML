{
 "cells": [
  {
   "cell_type": "markdown",
   "source": [
    "# Import the libs"
   ],
   "metadata": {
    "collapsed": false
   },
   "id": "82b709a4bbb7ea5c"
  },
  {
   "cell_type": "code",
   "outputs": [],
   "source": [
    "import tensorflow as tf\n",
    "from keras.preprocessing.image import ImageDataGenerator"
   ],
   "metadata": {
    "collapsed": false,
    "ExecuteTime": {
     "end_time": "2024-04-02T16:19:03.656106Z",
     "start_time": "2024-04-02T16:19:03.654192Z"
    }
   },
   "id": "4cd0af2204054221",
   "execution_count": 14
  },
  {
   "cell_type": "markdown",
   "source": [
    "# Data Preprocessing"
   ],
   "metadata": {
    "collapsed": false
   },
   "id": "c3a7b17ab85aac41"
  },
  {
   "cell_type": "markdown",
   "source": [
    "### Preprocess the training set"
   ],
   "metadata": {
    "collapsed": false
   },
   "id": "cb339d97900c97e5"
  },
  {
   "cell_type": "code",
   "outputs": [
    {
     "name": "stdout",
     "output_type": "stream",
     "text": [
      "Found 8000 images belonging to 2 classes.\n"
     ]
    }
   ],
   "source": [
    "train_datagen = ImageDataGenerator(rescale = 1./255,\n",
    "                                   shear_range = 0.2,\n",
    "                                   zoom_range = 0.2,\n",
    "                                   horizontal_flip = True)\n",
    "training_set = train_datagen.flow_from_directory('dataset/training_set',\n",
    "                                                 target_size = (64, 64),\n",
    "                                                 batch_size = 32,\n",
    "                                                 class_mode = 'binary')"
   ],
   "metadata": {
    "collapsed": false,
    "ExecuteTime": {
     "end_time": "2024-04-02T16:19:03.802119Z",
     "start_time": "2024-04-02T16:19:03.674771Z"
    }
   },
   "id": "fb9a33d1ae5bd56a",
   "execution_count": 15
  },
  {
   "cell_type": "markdown",
   "source": [
    "### Preprocess the test set"
   ],
   "metadata": {
    "collapsed": false
   },
   "id": "d8506deab7891718"
  },
  {
   "cell_type": "code",
   "outputs": [
    {
     "name": "stdout",
     "output_type": "stream",
     "text": [
      "Found 2000 images belonging to 2 classes.\n"
     ]
    }
   ],
   "source": [
    "test_datagen = ImageDataGenerator(rescale = 1./255)\n",
    "test_set = test_datagen.flow_from_directory('dataset/test_set',\n",
    "                                            target_size = (64, 64),\n",
    "                                            batch_size = 32,\n",
    "                                            class_mode = 'binary')"
   ],
   "metadata": {
    "collapsed": false,
    "ExecuteTime": {
     "end_time": "2024-04-02T16:19:03.836585Z",
     "start_time": "2024-04-02T16:19:03.803157Z"
    }
   },
   "id": "7ce0580b54a3640c",
   "execution_count": 16
  },
  {
   "cell_type": "markdown",
   "source": [
    "# Build the CNN"
   ],
   "metadata": {
    "collapsed": false
   },
   "id": "1a029f5791f0bf91"
  },
  {
   "cell_type": "code",
   "outputs": [],
   "source": [
    "# Init\n",
    "cnn = tf.keras.models.Sequential()"
   ],
   "metadata": {
    "collapsed": false,
    "ExecuteTime": {
     "end_time": "2024-04-02T16:19:03.841193Z",
     "start_time": "2024-04-02T16:19:03.837392Z"
    }
   },
   "id": "dfd8d39f59c0323f",
   "execution_count": 17
  },
  {
   "cell_type": "markdown",
   "source": [
    "### Convolution"
   ],
   "metadata": {
    "collapsed": false
   },
   "id": "9a38d888c123cc1b"
  },
  {
   "cell_type": "code",
   "outputs": [],
   "source": [
    "cnn.add(tf.keras.layers.Conv2D(filters=32, kernel_size=3, activation='relu', input_shape=[64, 64, 3]))"
   ],
   "metadata": {
    "collapsed": false,
    "ExecuteTime": {
     "end_time": "2024-04-02T16:19:03.849546Z",
     "start_time": "2024-04-02T16:19:03.842374Z"
    }
   },
   "id": "42a2602c475f89dd",
   "execution_count": 18
  },
  {
   "cell_type": "markdown",
   "source": [
    "### Pooling"
   ],
   "metadata": {
    "collapsed": false
   },
   "id": "b42033f2a1aef604"
  },
  {
   "cell_type": "code",
   "outputs": [],
   "source": [
    "cnn.add(tf.keras.layers.MaxPool2D(pool_size=2, strides=2))"
   ],
   "metadata": {
    "collapsed": false,
    "ExecuteTime": {
     "end_time": "2024-04-02T16:19:03.854760Z",
     "start_time": "2024-04-02T16:19:03.850313Z"
    }
   },
   "id": "706698bac47f546c",
   "execution_count": 19
  },
  {
   "cell_type": "markdown",
   "source": [
    "### Second convolutional layer"
   ],
   "metadata": {
    "collapsed": false
   },
   "id": "3d3fddaaa18cc96c"
  },
  {
   "cell_type": "code",
   "outputs": [],
   "source": [
    "cnn.add(tf.keras.layers.Conv2D(filters=32, kernel_size=3, activation='relu'))\n",
    "cnn.add(tf.keras.layers.MaxPool2D(pool_size=2, strides=2))"
   ],
   "metadata": {
    "collapsed": false,
    "ExecuteTime": {
     "end_time": "2024-04-02T16:19:03.863652Z",
     "start_time": "2024-04-02T16:19:03.855389Z"
    }
   },
   "id": "d8c8f696472a3a9e",
   "execution_count": 20
  },
  {
   "cell_type": "markdown",
   "source": [
    "### Flattening"
   ],
   "metadata": {
    "collapsed": false
   },
   "id": "90d955e1d4d80b94"
  },
  {
   "cell_type": "code",
   "outputs": [],
   "source": [
    "cnn.add(tf.keras.layers.Flatten())"
   ],
   "metadata": {
    "collapsed": false,
    "ExecuteTime": {
     "end_time": "2024-04-02T16:19:03.868274Z",
     "start_time": "2024-04-02T16:19:03.864446Z"
    }
   },
   "id": "637d84b7974a5f87",
   "execution_count": 21
  },
  {
   "cell_type": "markdown",
   "source": [
    "### Full connection"
   ],
   "metadata": {
    "collapsed": false
   },
   "id": "e4a396936cea953b"
  },
  {
   "cell_type": "code",
   "outputs": [],
   "source": [
    "cnn.add(tf.keras.layers.Dense(units=128, activation='relu'))"
   ],
   "metadata": {
    "collapsed": false,
    "ExecuteTime": {
     "end_time": "2024-04-02T16:19:03.876472Z",
     "start_time": "2024-04-02T16:19:03.868961Z"
    }
   },
   "id": "e6594d55e08b47c5",
   "execution_count": 22
  },
  {
   "cell_type": "markdown",
   "source": [
    "### Output layer"
   ],
   "metadata": {
    "collapsed": false
   },
   "id": "8a3367380a60d09c"
  },
  {
   "cell_type": "code",
   "outputs": [],
   "source": [
    "cnn.add(tf.keras.layers.Dense(units=1, activation='sigmoid'))"
   ],
   "metadata": {
    "collapsed": false,
    "ExecuteTime": {
     "end_time": "2024-04-02T16:19:03.882969Z",
     "start_time": "2024-04-02T16:19:03.877097Z"
    }
   },
   "id": "70f9e6aa87912fa3",
   "execution_count": 23
  },
  {
   "cell_type": "markdown",
   "source": [
    "# Train the CNN"
   ],
   "metadata": {
    "collapsed": false
   },
   "id": "aa19b34f9cdda688"
  },
  {
   "cell_type": "markdown",
   "source": [
    "### Compile the CNN"
   ],
   "metadata": {
    "collapsed": false
   },
   "id": "5470c7fc2d1d52e0"
  },
  {
   "cell_type": "code",
   "outputs": [],
   "source": [
    "cnn.compile(optimizer = 'adam', loss = 'binary_crossentropy', metrics = ['accuracy'])"
   ],
   "metadata": {
    "collapsed": false,
    "ExecuteTime": {
     "end_time": "2024-04-02T16:19:27.803319Z",
     "start_time": "2024-04-02T16:19:27.790442Z"
    }
   },
   "id": "8ea3bd9042877d60",
   "execution_count": 24
  },
  {
   "cell_type": "markdown",
   "source": [
    "### Train the CNN on the training set and evaluate on the test set"
   ],
   "metadata": {
    "collapsed": false
   },
   "id": "184dcab45651a00b"
  },
  {
   "cell_type": "code",
   "outputs": [
    {
     "name": "stdout",
     "output_type": "stream",
     "text": [
      "Epoch 1/25\n"
     ]
    },
    {
     "name": "stderr",
     "output_type": "stream",
     "text": [
      "2024-04-02 18:20:26.620953: W tensorflow/tsl/platform/profile_utils/cpu_utils.cc:128] Failed to get CPU frequency: 0 Hz\n"
     ]
    },
    {
     "name": "stdout",
     "output_type": "stream",
     "text": [
      "250/250 [==============================] - 20s 77ms/step - loss: 0.6773 - accuracy: 0.5649 - val_loss: 0.7242 - val_accuracy: 0.5775\n",
      "Epoch 2/25\n",
      "250/250 [==============================] - 19s 77ms/step - loss: 0.6122 - accuracy: 0.6636 - val_loss: 0.5766 - val_accuracy: 0.7100\n",
      "Epoch 3/25\n",
      "250/250 [==============================] - 19s 77ms/step - loss: 0.5690 - accuracy: 0.7006 - val_loss: 0.5429 - val_accuracy: 0.7380\n",
      "Epoch 4/25\n",
      "250/250 [==============================] - 19s 78ms/step - loss: 0.5512 - accuracy: 0.7166 - val_loss: 0.5294 - val_accuracy: 0.7480\n",
      "Epoch 5/25\n",
      "250/250 [==============================] - 20s 78ms/step - loss: 0.5242 - accuracy: 0.7404 - val_loss: 0.5177 - val_accuracy: 0.7465\n",
      "Epoch 6/25\n",
      "250/250 [==============================] - 20s 82ms/step - loss: 0.4889 - accuracy: 0.7620 - val_loss: 0.4867 - val_accuracy: 0.7645\n",
      "Epoch 7/25\n",
      "250/250 [==============================] - 20s 81ms/step - loss: 0.4753 - accuracy: 0.7697 - val_loss: 0.4916 - val_accuracy: 0.7690\n",
      "Epoch 8/25\n",
      "250/250 [==============================] - 21s 84ms/step - loss: 0.4624 - accuracy: 0.7797 - val_loss: 0.5895 - val_accuracy: 0.7270\n",
      "Epoch 9/25\n",
      "250/250 [==============================] - 21s 83ms/step - loss: 0.4474 - accuracy: 0.7846 - val_loss: 0.4733 - val_accuracy: 0.7880\n",
      "Epoch 10/25\n",
      "250/250 [==============================] - 20s 80ms/step - loss: 0.4332 - accuracy: 0.7994 - val_loss: 0.4581 - val_accuracy: 0.7945\n",
      "Epoch 11/25\n",
      "250/250 [==============================] - 20s 79ms/step - loss: 0.4181 - accuracy: 0.8043 - val_loss: 0.4685 - val_accuracy: 0.7785\n",
      "Epoch 12/25\n",
      "250/250 [==============================] - 20s 79ms/step - loss: 0.4145 - accuracy: 0.8073 - val_loss: 0.4432 - val_accuracy: 0.8000\n",
      "Epoch 13/25\n",
      "250/250 [==============================] - 20s 79ms/step - loss: 0.3963 - accuracy: 0.8152 - val_loss: 0.4605 - val_accuracy: 0.7895\n",
      "Epoch 14/25\n",
      "250/250 [==============================] - 20s 80ms/step - loss: 0.3928 - accuracy: 0.8185 - val_loss: 0.4861 - val_accuracy: 0.7835\n",
      "Epoch 15/25\n",
      "250/250 [==============================] - 20s 79ms/step - loss: 0.3808 - accuracy: 0.8263 - val_loss: 0.4819 - val_accuracy: 0.7795\n",
      "Epoch 16/25\n",
      "250/250 [==============================] - 20s 78ms/step - loss: 0.3717 - accuracy: 0.8291 - val_loss: 0.4858 - val_accuracy: 0.7840\n",
      "Epoch 17/25\n",
      "250/250 [==============================] - 20s 80ms/step - loss: 0.3612 - accuracy: 0.8371 - val_loss: 0.5340 - val_accuracy: 0.7720\n",
      "Epoch 18/25\n",
      "250/250 [==============================] - 20s 82ms/step - loss: 0.3578 - accuracy: 0.8356 - val_loss: 0.5245 - val_accuracy: 0.7660\n",
      "Epoch 19/25\n",
      "250/250 [==============================] - 20s 80ms/step - loss: 0.3433 - accuracy: 0.8446 - val_loss: 0.4837 - val_accuracy: 0.7925\n",
      "Epoch 20/25\n",
      "250/250 [==============================] - 20s 80ms/step - loss: 0.3379 - accuracy: 0.8491 - val_loss: 0.4839 - val_accuracy: 0.7890\n",
      "Epoch 21/25\n",
      "250/250 [==============================] - 20s 79ms/step - loss: 0.3263 - accuracy: 0.8577 - val_loss: 0.4446 - val_accuracy: 0.8070\n",
      "Epoch 22/25\n",
      "250/250 [==============================] - 20s 79ms/step - loss: 0.3175 - accuracy: 0.8591 - val_loss: 0.4588 - val_accuracy: 0.8055\n",
      "Epoch 23/25\n",
      "250/250 [==============================] - 20s 79ms/step - loss: 0.3037 - accuracy: 0.8664 - val_loss: 0.4976 - val_accuracy: 0.8100\n",
      "Epoch 24/25\n",
      "250/250 [==============================] - 20s 82ms/step - loss: 0.2927 - accuracy: 0.8737 - val_loss: 0.5548 - val_accuracy: 0.7840\n",
      "Epoch 25/25\n",
      "250/250 [==============================] - 21s 83ms/step - loss: 0.2859 - accuracy: 0.8745 - val_loss: 0.5236 - val_accuracy: 0.7730\n"
     ]
    },
    {
     "data": {
      "text/plain": "<keras.callbacks.History at 0x10724bbd0>"
     },
     "execution_count": 25,
     "metadata": {},
     "output_type": "execute_result"
    }
   ],
   "source": [
    "cnn.fit(x = training_set, validation_data = test_set, epochs = 25)"
   ],
   "metadata": {
    "collapsed": false,
    "ExecuteTime": {
     "end_time": "2024-04-02T16:28:46.083340Z",
     "start_time": "2024-04-02T16:20:26.513835Z"
    }
   },
   "id": "456a65e793bc7196",
   "execution_count": 25
  },
  {
   "cell_type": "code",
   "outputs": [],
   "source": [],
   "metadata": {
    "collapsed": false
   },
   "id": "6142507e9e62d86d"
  }
 ],
 "metadata": {
  "kernelspec": {
   "display_name": "Python 3",
   "language": "python",
   "name": "python3"
  },
  "language_info": {
   "codemirror_mode": {
    "name": "ipython",
    "version": 2
   },
   "file_extension": ".py",
   "mimetype": "text/x-python",
   "name": "python",
   "nbconvert_exporter": "python",
   "pygments_lexer": "ipython2",
   "version": "2.7.6"
  }
 },
 "nbformat": 4,
 "nbformat_minor": 5
}
