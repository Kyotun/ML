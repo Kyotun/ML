{
 "cells": [
  {
   "cell_type": "markdown",
   "source": [
    "### Importing the libs"
   ],
   "metadata": {
    "collapsed": false
   },
   "id": "504cc8d72c1621b9"
  },
  {
   "cell_type": "code",
   "outputs": [
    {
     "name": "stdout",
     "output_type": "stream",
     "text": [
      "Requirement already satisfied: MiniSom in /Users/kyotun/anaconda3/lib/python3.11/site-packages (2.3.2)\r\n"
     ]
    }
   ],
   "source": [
    "!pip install MiniSom"
   ],
   "metadata": {
    "collapsed": false,
    "ExecuteTime": {
     "end_time": "2024-04-02T22:12:53.992370Z",
     "start_time": "2024-04-02T22:12:50.899368Z"
    }
   },
   "id": "9b82493e1f914de2",
   "execution_count": 221
  },
  {
   "cell_type": "code",
   "outputs": [],
   "source": [
    "import numpy as np\n",
    "import pandas as pd\n",
    "import matplotlib.pyplot as plt"
   ],
   "metadata": {
    "collapsed": false,
    "ExecuteTime": {
     "end_time": "2024-04-02T22:12:53.995977Z",
     "start_time": "2024-04-02T22:12:53.993939Z"
    }
   },
   "id": "94763c43e1ca0481",
   "execution_count": 222
  },
  {
   "cell_type": "markdown",
   "source": [
    "### Importing the dataset"
   ],
   "metadata": {
    "collapsed": false
   },
   "id": "77dd6d094b016364"
  },
  {
   "cell_type": "code",
   "outputs": [
    {
     "data": {
      "text/plain": "     CustomerID  A1     A2      A3  A4  A5  A6     A7  A8  A9  A10  A11  A12  \\\n0      15776156   1  22.08  11.460   2   4   4  1.585   0   0    0    1    2   \n1      15739548   0  22.67   7.000   2   8   4  0.165   0   0    0    0    2   \n2      15662854   0  29.58   1.750   1   4   4  1.250   0   0    0    1    2   \n3      15687688   0  21.67  11.500   1   5   3  0.000   1   1   11    1    2   \n4      15715750   1  20.17   8.170   2   6   4  1.960   1   1   14    0    2   \n..          ...  ..    ...     ...  ..  ..  ..    ...  ..  ..  ...  ...  ...   \n685    15808223   1  31.57  10.500   2  14   4  6.500   1   0    0    0    2   \n686    15769980   1  20.67   0.415   2   8   4  0.125   0   0    0    0    2   \n687    15675450   0  18.83   9.540   2   6   4  0.085   1   0    0    0    2   \n688    15776494   0  27.42  14.500   2  14   8  3.085   1   1    1    0    2   \n689    15592412   1  41.00   0.040   2  10   4  0.040   0   1    1    0    1   \n\n     A13   A14  Class  \n0    100  1213      0  \n1    160     1      0  \n2    280     1      0  \n3      0     1      1  \n4     60   159      1  \n..   ...   ...    ...  \n685    0     1      1  \n686    0    45      0  \n687  100     1      1  \n688  120    12      1  \n689  560     1      1  \n\n[690 rows x 16 columns]",
      "text/html": "<div>\n<style scoped>\n    .dataframe tbody tr th:only-of-type {\n        vertical-align: middle;\n    }\n\n    .dataframe tbody tr th {\n        vertical-align: top;\n    }\n\n    .dataframe thead th {\n        text-align: right;\n    }\n</style>\n<table border=\"1\" class=\"dataframe\">\n  <thead>\n    <tr style=\"text-align: right;\">\n      <th></th>\n      <th>CustomerID</th>\n      <th>A1</th>\n      <th>A2</th>\n      <th>A3</th>\n      <th>A4</th>\n      <th>A5</th>\n      <th>A6</th>\n      <th>A7</th>\n      <th>A8</th>\n      <th>A9</th>\n      <th>A10</th>\n      <th>A11</th>\n      <th>A12</th>\n      <th>A13</th>\n      <th>A14</th>\n      <th>Class</th>\n    </tr>\n  </thead>\n  <tbody>\n    <tr>\n      <th>0</th>\n      <td>15776156</td>\n      <td>1</td>\n      <td>22.08</td>\n      <td>11.460</td>\n      <td>2</td>\n      <td>4</td>\n      <td>4</td>\n      <td>1.585</td>\n      <td>0</td>\n      <td>0</td>\n      <td>0</td>\n      <td>1</td>\n      <td>2</td>\n      <td>100</td>\n      <td>1213</td>\n      <td>0</td>\n    </tr>\n    <tr>\n      <th>1</th>\n      <td>15739548</td>\n      <td>0</td>\n      <td>22.67</td>\n      <td>7.000</td>\n      <td>2</td>\n      <td>8</td>\n      <td>4</td>\n      <td>0.165</td>\n      <td>0</td>\n      <td>0</td>\n      <td>0</td>\n      <td>0</td>\n      <td>2</td>\n      <td>160</td>\n      <td>1</td>\n      <td>0</td>\n    </tr>\n    <tr>\n      <th>2</th>\n      <td>15662854</td>\n      <td>0</td>\n      <td>29.58</td>\n      <td>1.750</td>\n      <td>1</td>\n      <td>4</td>\n      <td>4</td>\n      <td>1.250</td>\n      <td>0</td>\n      <td>0</td>\n      <td>0</td>\n      <td>1</td>\n      <td>2</td>\n      <td>280</td>\n      <td>1</td>\n      <td>0</td>\n    </tr>\n    <tr>\n      <th>3</th>\n      <td>15687688</td>\n      <td>0</td>\n      <td>21.67</td>\n      <td>11.500</td>\n      <td>1</td>\n      <td>5</td>\n      <td>3</td>\n      <td>0.000</td>\n      <td>1</td>\n      <td>1</td>\n      <td>11</td>\n      <td>1</td>\n      <td>2</td>\n      <td>0</td>\n      <td>1</td>\n      <td>1</td>\n    </tr>\n    <tr>\n      <th>4</th>\n      <td>15715750</td>\n      <td>1</td>\n      <td>20.17</td>\n      <td>8.170</td>\n      <td>2</td>\n      <td>6</td>\n      <td>4</td>\n      <td>1.960</td>\n      <td>1</td>\n      <td>1</td>\n      <td>14</td>\n      <td>0</td>\n      <td>2</td>\n      <td>60</td>\n      <td>159</td>\n      <td>1</td>\n    </tr>\n    <tr>\n      <th>...</th>\n      <td>...</td>\n      <td>...</td>\n      <td>...</td>\n      <td>...</td>\n      <td>...</td>\n      <td>...</td>\n      <td>...</td>\n      <td>...</td>\n      <td>...</td>\n      <td>...</td>\n      <td>...</td>\n      <td>...</td>\n      <td>...</td>\n      <td>...</td>\n      <td>...</td>\n      <td>...</td>\n    </tr>\n    <tr>\n      <th>685</th>\n      <td>15808223</td>\n      <td>1</td>\n      <td>31.57</td>\n      <td>10.500</td>\n      <td>2</td>\n      <td>14</td>\n      <td>4</td>\n      <td>6.500</td>\n      <td>1</td>\n      <td>0</td>\n      <td>0</td>\n      <td>0</td>\n      <td>2</td>\n      <td>0</td>\n      <td>1</td>\n      <td>1</td>\n    </tr>\n    <tr>\n      <th>686</th>\n      <td>15769980</td>\n      <td>1</td>\n      <td>20.67</td>\n      <td>0.415</td>\n      <td>2</td>\n      <td>8</td>\n      <td>4</td>\n      <td>0.125</td>\n      <td>0</td>\n      <td>0</td>\n      <td>0</td>\n      <td>0</td>\n      <td>2</td>\n      <td>0</td>\n      <td>45</td>\n      <td>0</td>\n    </tr>\n    <tr>\n      <th>687</th>\n      <td>15675450</td>\n      <td>0</td>\n      <td>18.83</td>\n      <td>9.540</td>\n      <td>2</td>\n      <td>6</td>\n      <td>4</td>\n      <td>0.085</td>\n      <td>1</td>\n      <td>0</td>\n      <td>0</td>\n      <td>0</td>\n      <td>2</td>\n      <td>100</td>\n      <td>1</td>\n      <td>1</td>\n    </tr>\n    <tr>\n      <th>688</th>\n      <td>15776494</td>\n      <td>0</td>\n      <td>27.42</td>\n      <td>14.500</td>\n      <td>2</td>\n      <td>14</td>\n      <td>8</td>\n      <td>3.085</td>\n      <td>1</td>\n      <td>1</td>\n      <td>1</td>\n      <td>0</td>\n      <td>2</td>\n      <td>120</td>\n      <td>12</td>\n      <td>1</td>\n    </tr>\n    <tr>\n      <th>689</th>\n      <td>15592412</td>\n      <td>1</td>\n      <td>41.00</td>\n      <td>0.040</td>\n      <td>2</td>\n      <td>10</td>\n      <td>4</td>\n      <td>0.040</td>\n      <td>0</td>\n      <td>1</td>\n      <td>1</td>\n      <td>0</td>\n      <td>1</td>\n      <td>560</td>\n      <td>1</td>\n      <td>1</td>\n    </tr>\n  </tbody>\n</table>\n<p>690 rows × 16 columns</p>\n</div>"
     },
     "execution_count": 223,
     "metadata": {},
     "output_type": "execute_result"
    }
   ],
   "source": [
    "dataset = pd.read_csv('data/Credit_Card_Applications.csv')\n",
    "dataset"
   ],
   "metadata": {
    "collapsed": false,
    "ExecuteTime": {
     "end_time": "2024-04-02T22:12:54.007437Z",
     "start_time": "2024-04-02T22:12:53.996771Z"
    }
   },
   "id": "f0c9c102773e3494",
   "execution_count": 223
  },
  {
   "cell_type": "code",
   "outputs": [
    {
     "data": {
      "text/plain": "array([[1.5776156e+07, 1.0000000e+00, 2.2080000e+01, ..., 2.0000000e+00,\n        1.0000000e+02, 1.2130000e+03],\n       [1.5739548e+07, 0.0000000e+00, 2.2670000e+01, ..., 2.0000000e+00,\n        1.6000000e+02, 1.0000000e+00],\n       [1.5662854e+07, 0.0000000e+00, 2.9580000e+01, ..., 2.0000000e+00,\n        2.8000000e+02, 1.0000000e+00],\n       ...,\n       [1.5675450e+07, 0.0000000e+00, 1.8830000e+01, ..., 2.0000000e+00,\n        1.0000000e+02, 1.0000000e+00],\n       [1.5776494e+07, 0.0000000e+00, 2.7420000e+01, ..., 2.0000000e+00,\n        1.2000000e+02, 1.2000000e+01],\n       [1.5592412e+07, 1.0000000e+00, 4.1000000e+01, ..., 1.0000000e+00,\n        5.6000000e+02, 1.0000000e+00]])"
     },
     "execution_count": 224,
     "metadata": {},
     "output_type": "execute_result"
    }
   ],
   "source": [
    "X = dataset.iloc[:, :-1].values\n",
    "X"
   ],
   "metadata": {
    "collapsed": false,
    "ExecuteTime": {
     "end_time": "2024-04-02T22:12:54.011596Z",
     "start_time": "2024-04-02T22:12:54.008571Z"
    }
   },
   "id": "c9e559b1a1ad8425",
   "execution_count": 224
  },
  {
   "cell_type": "code",
   "outputs": [
    {
     "data": {
      "text/plain": "array([0, 0, 0, 1, 1, 1, 0, 1, 0, 0, 1, 1, 0, 1, 0, 1, 1, 1, 0, 1, 0, 0,\n       0, 0, 0, 1, 0, 1, 1, 1, 1, 0, 0, 1, 0, 0, 1, 1, 1, 1, 1, 0, 1, 0,\n       0, 1, 0, 1, 0, 1, 0, 0, 0, 0, 0, 1, 1, 0, 1, 1, 0, 0, 1, 0, 1, 1,\n       0, 0, 0, 1, 0, 0, 0, 1, 1, 0, 0, 0, 0, 1, 1, 0, 0, 0, 0, 1, 0, 1,\n       1, 0, 0, 0, 0, 1, 0, 1, 0, 0, 0, 1, 0, 1, 1, 1, 0, 1, 1, 0, 1, 0,\n       0, 0, 0, 1, 0, 1, 1, 1, 1, 1, 1, 0, 0, 1, 1, 0, 1, 0, 1, 1, 1, 0,\n       0, 0, 0, 0, 0, 1, 1, 1, 0, 0, 0, 1, 0, 1, 1, 0, 0, 1, 1, 0, 0, 0,\n       1, 1, 1, 0, 1, 0, 0, 0, 1, 1, 0, 0, 0, 1, 0, 0, 0, 1, 0, 0, 1, 0,\n       0, 0, 1, 1, 0, 0, 1, 1, 1, 0, 0, 0, 0, 0, 0, 1, 0, 0, 0, 1, 1, 0,\n       0, 0, 1, 0, 1, 0, 1, 1, 0, 0, 0, 0, 1, 1, 0, 0, 0, 1, 0, 0, 0, 1,\n       1, 0, 1, 0, 0, 0, 0, 1, 1, 1, 1, 0, 0, 1, 1, 1, 0, 0, 0, 1, 1, 1,\n       1, 0, 0, 0, 0, 1, 1, 1, 0, 0, 1, 0, 1, 1, 1, 1, 0, 0, 0, 1, 0, 1,\n       1, 0, 0, 1, 0, 0, 0, 1, 0, 1, 1, 0, 0, 0, 1, 1, 0, 0, 0, 0, 0, 1,\n       1, 1, 0, 0, 0, 0, 1, 1, 1, 0, 0, 0, 1, 0, 1, 0, 0, 0, 0, 1, 0, 1,\n       0, 0, 0, 0, 0, 1, 1, 0, 0, 1, 0, 1, 1, 1, 1, 1, 1, 1, 0, 0, 0, 0,\n       1, 1, 1, 0, 0, 0, 1, 0, 1, 0, 0, 0, 1, 1, 1, 1, 1, 1, 1, 0, 1, 0,\n       1, 0, 0, 0, 0, 0, 1, 0, 1, 1, 0, 0, 0, 0, 0, 1, 0, 1, 1, 0, 0, 0,\n       1, 1, 1, 0, 0, 1, 1, 0, 0, 0, 1, 1, 0, 1, 1, 1, 1, 0, 0, 1, 1, 0,\n       0, 0, 0, 0, 0, 1, 0, 0, 0, 1, 1, 0, 1, 0, 0, 0, 1, 1, 1, 0, 0, 1,\n       0, 1, 1, 1, 0, 1, 0, 0, 1, 0, 0, 0, 1, 0, 0, 1, 0, 1, 0, 1, 1, 0,\n       1, 0, 0, 1, 0, 1, 1, 0, 0, 0, 0, 0, 1, 1, 0, 0, 1, 1, 0, 1, 0, 1,\n       0, 1, 0, 1, 1, 0, 1, 0, 1, 1, 1, 0, 0, 0, 0, 0, 1, 0, 1, 0, 0, 0,\n       1, 1, 1, 1, 1, 0, 1, 1, 0, 0, 0, 1, 1, 1, 1, 1, 1, 0, 1, 1, 1, 1,\n       0, 0, 0, 0, 0, 0, 0, 1, 0, 0, 1, 1, 1, 0, 1, 0, 0, 1, 1, 0, 1, 0,\n       0, 0, 0, 0, 0, 1, 0, 1, 0, 1, 1, 1, 0, 0, 1, 0, 0, 0, 0, 0, 0, 0,\n       1, 1, 0, 0, 0, 0, 0, 1, 0, 1, 0, 1, 0, 0, 1, 1, 1, 0, 0, 0, 0, 0,\n       1, 0, 1, 1, 0, 0, 0, 0, 0, 1, 1, 1, 0, 1, 0, 1, 1, 0, 0, 1, 0, 1,\n       0, 0, 1, 1, 0, 1, 0, 1, 1, 1, 1, 0, 0, 1, 0, 1, 1, 0, 1, 0, 1, 1,\n       0, 0, 0, 1, 0, 1, 1, 0, 1, 0, 0, 0, 0, 0, 1, 0, 1, 0, 0, 0, 0, 0,\n       0, 1, 0, 1, 1, 0, 0, 0, 0, 0, 0, 1, 1, 0, 0, 1, 0, 0, 1, 0, 0, 1,\n       1, 0, 1, 1, 0, 0, 0, 0, 0, 0, 1, 1, 0, 1, 1, 0, 0, 0, 0, 1, 0, 0,\n       1, 0, 1, 1, 0, 1, 1, 1])"
     },
     "execution_count": 225,
     "metadata": {},
     "output_type": "execute_result"
    }
   ],
   "source": [
    "y = dataset.iloc[:, -1].values\n",
    "y"
   ],
   "metadata": {
    "collapsed": false,
    "ExecuteTime": {
     "end_time": "2024-04-02T22:12:54.015033Z",
     "start_time": "2024-04-02T22:12:54.012312Z"
    }
   },
   "id": "bc16fb1440c5b91e",
   "execution_count": 225
  },
  {
   "cell_type": "markdown",
   "source": [
    "### Feature Scaling"
   ],
   "metadata": {
    "collapsed": false
   },
   "id": "8d49680272227b43"
  },
  {
   "cell_type": "code",
   "outputs": [],
   "source": [
    "from sklearn.preprocessing import MinMaxScaler"
   ],
   "metadata": {
    "collapsed": false,
    "ExecuteTime": {
     "end_time": "2024-04-02T22:12:55.539966Z",
     "start_time": "2024-04-02T22:12:55.537097Z"
    }
   },
   "id": "e61957c0aed27b6f",
   "execution_count": 226
  },
  {
   "cell_type": "code",
   "outputs": [],
   "source": [
    "sc = MinMaxScaler(feature_range=(0,1))\n",
    "X = sc.fit_transform(X)"
   ],
   "metadata": {
    "collapsed": false,
    "ExecuteTime": {
     "end_time": "2024-04-02T22:12:55.984204Z",
     "start_time": "2024-04-02T22:12:55.980554Z"
    }
   },
   "id": "2d6c23888190144a",
   "execution_count": 227
  },
  {
   "cell_type": "code",
   "outputs": [],
   "source": [
    "# Train the SOM"
   ],
   "metadata": {
    "collapsed": false,
    "ExecuteTime": {
     "end_time": "2024-04-02T22:12:56.446286Z",
     "start_time": "2024-04-02T22:12:56.444370Z"
    }
   },
   "id": "281e47695191ee07",
   "execution_count": 228
  },
  {
   "cell_type": "code",
   "outputs": [],
   "source": [
    "from minisom import MiniSom"
   ],
   "metadata": {
    "collapsed": false,
    "ExecuteTime": {
     "end_time": "2024-04-02T22:12:57.056266Z",
     "start_time": "2024-04-02T22:12:57.053717Z"
    }
   },
   "id": "1c650d0913c05f51",
   "execution_count": 229
  },
  {
   "cell_type": "code",
   "outputs": [],
   "source": [
    "som = MiniSom(x=10, y=10, input_len= 15, sigma= 1.0, learning_rate = 0.5)\n",
    "som.random_weights_init(X)\n",
    "som.train_random(data = X, num_iteration = 100)"
   ],
   "metadata": {
    "collapsed": false,
    "ExecuteTime": {
     "end_time": "2024-04-02T22:12:57.428796Z",
     "start_time": "2024-04-02T22:12:57.421970Z"
    }
   },
   "id": "140096441ff0e7c5",
   "execution_count": 230
  },
  {
   "cell_type": "code",
   "outputs": [],
   "source": [
    "from pylab import bone, pcolor, colorbar, plot, show"
   ],
   "metadata": {
    "collapsed": false,
    "ExecuteTime": {
     "end_time": "2024-04-02T22:12:57.747280Z",
     "start_time": "2024-04-02T22:12:57.744838Z"
    }
   },
   "id": "fdc12bab85a1c725",
   "execution_count": 231
  },
  {
   "cell_type": "code",
   "outputs": [
    {
     "data": {
      "text/plain": "<Figure size 640x480 with 2 Axes>",
      "image/png": "[encoded data removed]"
     },
     "metadata": {},
     "output_type": "display_data"
    }
   ],
   "source": [
    "bone()\n",
    "pcolor(som.distance_map().T)\n",
    "colorbar()\n",
    "markers = ['o', 's']\n",
    "colors = ['r', 'g']\n",
    "for i, x in enumerate(X):\n",
    "    w = som.winner(x)\n",
    "    plot(w[0] + 0.5,\n",
    "         w[1] + 0.5,\n",
    "         markers[y[i]],\n",
    "         markeredgecolor = colors[y[i]],\n",
    "         markerfacecolor = 'None',\n",
    "         markersize = 10,\n",
    "         markeredgewidth = 2)\n",
    "show()"
   ],
   "metadata": {
    "collapsed": false,
    "ExecuteTime": {
     "end_time": "2024-04-02T22:12:58.602883Z",
     "start_time": "2024-04-02T22:12:58.163483Z"
    }
   },
   "id": "ec6bca21c1045363",
   "execution_count": 232
  },
  {
   "cell_type": "markdown",
   "source": [
    "### Finding the frauds"
   ],
   "metadata": {
    "collapsed": false
   },
   "id": "e83c75f5f5146349"
  },
  {
   "cell_type": "code",
   "outputs": [],
   "source": [
    "mappings = som.win_map(X)\n",
    "frauds = np.concatenate((mappings[(8,1)], mappings[(3,6)]), axis = 0)\n",
    "frauds = sc.inverse_transform(frauds)"
   ],
   "metadata": {
    "collapsed": false,
    "ExecuteTime": {
     "end_time": "2024-04-02T22:13:39.429515Z",
     "start_time": "2024-04-02T22:13:39.415741Z"
    }
   },
   "id": "c7ad5b603c87620c",
   "execution_count": 233
  },
  {
   "cell_type": "code",
   "outputs": [
    {
     "name": "stdout",
     "output_type": "stream",
     "text": [
      "Fraud Customer IDs\n",
      "15668679\n",
      "15738487\n",
      "15773421\n",
      "15682686\n",
      "15636521\n",
      "15707602\n",
      "15567834\n",
      "15591035\n",
      "15672912\n",
      "15694677\n",
      "15598614\n",
      "15608804\n",
      "15631267\n",
      "15611189\n",
      "15759387\n",
      "15712483\n",
      "15698522\n",
      "15753591\n",
      "15797246\n"
     ]
    }
   ],
   "source": [
    "# Fraud clients:\n",
    "print('Fraud Customer IDs')\n",
    "for i in frauds[:, 0]:\n",
    "  print(int(i))"
   ],
   "metadata": {
    "collapsed": false,
    "ExecuteTime": {
     "end_time": "2024-04-02T22:13:40.296523Z",
     "start_time": "2024-04-02T22:13:40.294384Z"
    }
   },
   "id": "55888104e6ef8b60",
   "execution_count": 234
  },
  {
   "cell_type": "markdown",
   "source": [
    "# Create dependent variable"
   ],
   "metadata": {
    "collapsed": false
   },
   "id": "4d26865cda52994a"
  },
  {
   "cell_type": "code",
   "outputs": [
    {
     "data": {
      "text/plain": "array([[1.000e+00, 2.208e+01, 1.146e+01, ..., 1.000e+02, 1.213e+03,\n        0.000e+00],\n       [0.000e+00, 2.267e+01, 7.000e+00, ..., 1.600e+02, 1.000e+00,\n        0.000e+00],\n       [0.000e+00, 2.958e+01, 1.750e+00, ..., 2.800e+02, 1.000e+00,\n        0.000e+00],\n       ...,\n       [0.000e+00, 1.883e+01, 9.540e+00, ..., 1.000e+02, 1.000e+00,\n        1.000e+00],\n       [0.000e+00, 2.742e+01, 1.450e+01, ..., 1.200e+02, 1.200e+01,\n        1.000e+00],\n       [1.000e+00, 4.100e+01, 4.000e-02, ..., 5.600e+02, 1.000e+00,\n        1.000e+00]])"
     },
     "execution_count": 235,
     "metadata": {},
     "output_type": "execute_result"
    }
   ],
   "source": [
    "customers = dataset.iloc[:, 1:].values\n",
    "customers"
   ],
   "metadata": {
    "collapsed": false,
    "ExecuteTime": {
     "end_time": "2024-04-02T22:13:41.791514Z",
     "start_time": "2024-04-02T22:13:41.786800Z"
    }
   },
   "id": "7cc00dab5b3e2911",
   "execution_count": 235
  },
  {
   "cell_type": "code",
   "outputs": [],
   "source": [
    "is_fraud = np.zeros(len(dataset))\n",
    "for i in range(len(dataset)):\n",
    "  if dataset.iloc[i,0] in frauds:\n",
    "    is_fraud[i] = 1"
   ],
   "metadata": {
    "collapsed": false,
    "ExecuteTime": {
     "end_time": "2024-04-02T22:13:42.429276Z",
     "start_time": "2024-04-02T22:13:42.417589Z"
    }
   },
   "id": "e2feb5119246ced5",
   "execution_count": 236
  },
  {
   "cell_type": "markdown",
   "source": [
    "### Feature scaling"
   ],
   "metadata": {
    "collapsed": false
   },
   "id": "2cc94f1a86635950"
  },
  {
   "cell_type": "code",
   "outputs": [],
   "source": [
    "from sklearn.preprocessing import StandardScaler"
   ],
   "metadata": {
    "collapsed": false,
    "ExecuteTime": {
     "end_time": "2024-04-02T22:13:43.119095Z",
     "start_time": "2024-04-02T22:13:43.116554Z"
    }
   },
   "id": "4a05c096492ef3b",
   "execution_count": 237
  },
  {
   "cell_type": "code",
   "outputs": [],
   "source": [
    "sc = StandardScaler()\n",
    "customers = sc.fit_transform(customers)"
   ],
   "metadata": {
    "collapsed": false,
    "ExecuteTime": {
     "end_time": "2024-04-02T22:13:43.467306Z",
     "start_time": "2024-04-02T22:13:43.463968Z"
    }
   },
   "id": "97f97180f101c529",
   "execution_count": 238
  },
  {
   "cell_type": "markdown",
   "source": [
    "### Build the ANN"
   ],
   "metadata": {
    "collapsed": false
   },
   "id": "1b6f3e50a713d8ab"
  },
  {
   "cell_type": "code",
   "outputs": [],
   "source": [
    "import tensorflow as tf"
   ],
   "metadata": {
    "collapsed": false,
    "ExecuteTime": {
     "end_time": "2024-04-02T22:13:44.622702Z",
     "start_time": "2024-04-02T22:13:44.620267Z"
    }
   },
   "id": "72dd6fd09d86cab0",
   "execution_count": 239
  },
  {
   "cell_type": "code",
   "outputs": [],
   "source": [
    "# Init the ANN\n",
    "ann = tf.keras.models.Sequential()"
   ],
   "metadata": {
    "collapsed": false,
    "ExecuteTime": {
     "end_time": "2024-04-02T22:13:45.054753Z",
     "start_time": "2024-04-02T22:13:45.049982Z"
    }
   },
   "id": "e71a080778556e63",
   "execution_count": 240
  },
  {
   "cell_type": "code",
   "outputs": [],
   "source": [
    "# Add the input layer\n",
    "ann.add(tf.keras.layers.Dense(units = 2, kernel_initializer = 'uniform', activation = 'relu', input_dim = 15))"
   ],
   "metadata": {
    "collapsed": false,
    "ExecuteTime": {
     "end_time": "2024-04-02T22:13:45.454416Z",
     "start_time": "2024-04-02T22:13:45.445405Z"
    }
   },
   "id": "b9513db067c89d0c",
   "execution_count": 241
  },
  {
   "cell_type": "code",
   "outputs": [],
   "source": [
    "# Add the output layer\n",
    "ann.add(tf.keras.layers.Dense(units = 1, kernel_initializer = 'uniform', activation = 'sigmoid'))"
   ],
   "metadata": {
    "collapsed": false,
    "ExecuteTime": {
     "end_time": "2024-04-02T22:13:45.915075Z",
     "start_time": "2024-04-02T22:13:45.906307Z"
    }
   },
   "id": "2ccc4410c1ca91d5",
   "execution_count": 242
  },
  {
   "cell_type": "markdown",
   "source": [
    "### Train the ANN"
   ],
   "metadata": {
    "collapsed": false
   },
   "id": "11906156fdbc0597"
  },
  {
   "cell_type": "code",
   "outputs": [],
   "source": [
    "# Compile\n",
    "ann.compile(optimizer = 'adam', loss = 'binary_crossentropy', metrics = ['accuracy'])"
   ],
   "metadata": {
    "collapsed": false,
    "ExecuteTime": {
     "end_time": "2024-04-02T22:13:46.851449Z",
     "start_time": "2024-04-02T22:13:46.846439Z"
    }
   },
   "id": "e140b6df4231920a",
   "execution_count": 243
  },
  {
   "cell_type": "code",
   "outputs": [
    {
     "name": "stdout",
     "output_type": "stream",
     "text": [
      "Epoch 1/2\n",
      "690/690 [==============================] - 0s 317us/step - loss: 0.4522 - accuracy: 0.9725\n",
      "Epoch 2/2\n",
      "690/690 [==============================] - 0s 289us/step - loss: 0.1502 - accuracy: 0.9725\n"
     ]
    },
    {
     "data": {
      "text/plain": "<keras.callbacks.History at 0x2a018b250>"
     },
     "execution_count": 244,
     "metadata": {},
     "output_type": "execute_result"
    }
   ],
   "source": [
    "# Train the ANN on the training set\n",
    "ann.fit(customers, is_fraud, batch_size = 1, epochs = 2)"
   ],
   "metadata": {
    "collapsed": false,
    "ExecuteTime": {
     "end_time": "2024-04-02T22:13:47.780441Z",
     "start_time": "2024-04-02T22:13:47.212014Z"
    }
   },
   "id": "67b131dbad85c6cf",
   "execution_count": 244
  },
  {
   "cell_type": "markdown",
   "source": [
    "### Predicting"
   ],
   "metadata": {
    "collapsed": false
   },
   "id": "e0463738d785792f"
  },
  {
   "cell_type": "code",
   "outputs": [
    {
     "name": "stdout",
     "output_type": "stream",
     "text": [
      "22/22 [==============================] - 0s 319us/step\n"
     ]
    }
   ],
   "source": [
    "y_pred = ann.predict(customers)\n",
    "y_pred = np.concatenate((dataset.iloc[:, 0:1].values, y_pred), axis = 1)\n",
    "y_pred = y_pred[y_pred[:, 1].argsort()]"
   ],
   "metadata": {
    "collapsed": false,
    "ExecuteTime": {
     "end_time": "2024-04-02T22:13:49.501269Z",
     "start_time": "2024-04-02T22:13:49.453954Z"
    }
   },
   "id": "7edd6f6023ca1b9b",
   "execution_count": 245
  },
  {
   "cell_type": "code",
   "outputs": [
    {
     "data": {
      "text/plain": "array([[1.56009750e+07, 7.25773303e-03],\n       [1.56156700e+07, 8.70772917e-03],\n       [1.55991520e+07, 8.77856929e-03],\n       ...,\n       [1.57053790e+07, 1.86794713e-01],\n       [1.56647930e+07, 2.03834832e-01],\n       [1.57901130e+07, 2.77923435e-01]])"
     },
     "execution_count": 246,
     "metadata": {},
     "output_type": "execute_result"
    }
   ],
   "source": [
    "# Probability of fraud \n",
    "y_pred"
   ],
   "metadata": {
    "collapsed": false,
    "ExecuteTime": {
     "end_time": "2024-04-02T22:13:50.339098Z",
     "start_time": "2024-04-02T22:13:50.335835Z"
    }
   },
   "id": "5847c53360d3ff6",
   "execution_count": 246
  },
  {
   "cell_type": "code",
   "outputs": [],
   "source": [],
   "metadata": {
    "collapsed": false,
    "ExecuteTime": {
     "end_time": "2024-04-02T21:49:37.968054Z",
     "start_time": "2024-04-02T21:49:37.966759Z"
    }
   },
   "id": "af58d1bfda2d827",
   "execution_count": 141
  }
 ],
 "metadata": {
  "kernelspec": {
   "display_name": "Python 3",
   "language": "python",
   "name": "python3"
  },
  "language_info": {
   "codemirror_mode": {
    "name": "ipython",
    "version": 2
   },
   "file_extension": ".py",
   "mimetype": "text/x-python",
   "name": "python",
   "nbconvert_exporter": "python",
   "pygments_lexer": "ipython2",
   "version": "2.7.6"
  }
 },
 "nbformat": 4,
 "nbformat_minor": 5
}
