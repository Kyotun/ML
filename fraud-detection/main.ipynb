{
 "cells": [
  {
   "cell_type": "markdown",
   "source": [
    "### Importing the libs"
   ],
   "metadata": {
    "collapsed": false
   },
   "id": "504cc8d72c1621b9"
  },
  {
   "cell_type": "code",
   "outputs": [
    {
     "name": "stdout",
     "output_type": "stream",
     "text": [
      "Requirement already satisfied: MiniSom in /Users/kyotun/anaconda3/lib/python3.11/site-packages (2.3.2)\r\n"
     ]
    }
   ],
   "source": [
    "!pip install MiniSom"
   ],
   "metadata": {
    "collapsed": false,
    "ExecuteTime": {
     "end_time": "2024-04-04T09:02:10.756223Z",
     "start_time": "2024-04-04T09:02:07.727399Z"
    }
   },
   "id": "9b82493e1f914de2",
   "execution_count": 1
  },
  {
   "cell_type": "code",
   "outputs": [],
   "source": [
    "import numpy as np\n",
    "import pandas as pd\n",
    "import matplotlib.pyplot as plt"
   ],
   "metadata": {
    "collapsed": false,
    "ExecuteTime": {
     "end_time": "2024-04-04T09:02:11.564659Z",
     "start_time": "2024-04-04T09:02:10.757556Z"
    }
   },
   "id": "94763c43e1ca0481",
   "execution_count": 2
  },
  {
   "cell_type": "markdown",
   "source": [
    "### Importing the dataset"
   ],
   "metadata": {
    "collapsed": false
   },
   "id": "77dd6d094b016364"
  },
  {
   "cell_type": "code",
   "outputs": [
    {
     "data": {
      "text/plain": "     CustomerID  A1     A2      A3  A4  A5  A6     A7  A8  A9  A10  A11  A12  \\\n0      15776156   1  22.08  11.460   2   4   4  1.585   0   0    0    1    2   \n1      15739548   0  22.67   7.000   2   8   4  0.165   0   0    0    0    2   \n2      15662854   0  29.58   1.750   1   4   4  1.250   0   0    0    1    2   \n3      15687688   0  21.67  11.500   1   5   3  0.000   1   1   11    1    2   \n4      15715750   1  20.17   8.170   2   6   4  1.960   1   1   14    0    2   \n..          ...  ..    ...     ...  ..  ..  ..    ...  ..  ..  ...  ...  ...   \n685    15808223   1  31.57  10.500   2  14   4  6.500   1   0    0    0    2   \n686    15769980   1  20.67   0.415   2   8   4  0.125   0   0    0    0    2   \n687    15675450   0  18.83   9.540   2   6   4  0.085   1   0    0    0    2   \n688    15776494   0  27.42  14.500   2  14   8  3.085   1   1    1    0    2   \n689    15592412   1  41.00   0.040   2  10   4  0.040   0   1    1    0    1   \n\n     A13   A14  Class  \n0    100  1213      0  \n1    160     1      0  \n2    280     1      0  \n3      0     1      1  \n4     60   159      1  \n..   ...   ...    ...  \n685    0     1      1  \n686    0    45      0  \n687  100     1      1  \n688  120    12      1  \n689  560     1      1  \n\n[690 rows x 16 columns]",
      "text/html": "<div>\n<style scoped>\n    .dataframe tbody tr th:only-of-type {\n        vertical-align: middle;\n    }\n\n    .dataframe tbody tr th {\n        vertical-align: top;\n    }\n\n    .dataframe thead th {\n        text-align: right;\n    }\n</style>\n<table border=\"1\" class=\"dataframe\">\n  <thead>\n    <tr style=\"text-align: right;\">\n      <th></th>\n      <th>CustomerID</th>\n      <th>A1</th>\n      <th>A2</th>\n      <th>A3</th>\n      <th>A4</th>\n      <th>A5</th>\n      <th>A6</th>\n      <th>A7</th>\n      <th>A8</th>\n      <th>A9</th>\n      <th>A10</th>\n      <th>A11</th>\n      <th>A12</th>\n      <th>A13</th>\n      <th>A14</th>\n      <th>Class</th>\n    </tr>\n  </thead>\n  <tbody>\n    <tr>\n      <th>0</th>\n      <td>15776156</td>\n      <td>1</td>\n      <td>22.08</td>\n      <td>11.460</td>\n      <td>2</td>\n      <td>4</td>\n      <td>4</td>\n      <td>1.585</td>\n      <td>0</td>\n      <td>0</td>\n      <td>0</td>\n      <td>1</td>\n      <td>2</td>\n      <td>100</td>\n      <td>1213</td>\n      <td>0</td>\n    </tr>\n    <tr>\n      <th>1</th>\n      <td>15739548</td>\n      <td>0</td>\n      <td>22.67</td>\n      <td>7.000</td>\n      <td>2</td>\n      <td>8</td>\n      <td>4</td>\n      <td>0.165</td>\n      <td>0</td>\n      <td>0</td>\n      <td>0</td>\n      <td>0</td>\n      <td>2</td>\n      <td>160</td>\n      <td>1</td>\n      <td>0</td>\n    </tr>\n    <tr>\n      <th>2</th>\n      <td>15662854</td>\n      <td>0</td>\n      <td>29.58</td>\n      <td>1.750</td>\n      <td>1</td>\n      <td>4</td>\n      <td>4</td>\n      <td>1.250</td>\n      <td>0</td>\n      <td>0</td>\n      <td>0</td>\n      <td>1</td>\n      <td>2</td>\n      <td>280</td>\n      <td>1</td>\n      <td>0</td>\n    </tr>\n    <tr>\n      <th>3</th>\n      <td>15687688</td>\n      <td>0</td>\n      <td>21.67</td>\n      <td>11.500</td>\n      <td>1</td>\n      <td>5</td>\n      <td>3</td>\n      <td>0.000</td>\n      <td>1</td>\n      <td>1</td>\n      <td>11</td>\n      <td>1</td>\n      <td>2</td>\n      <td>0</td>\n      <td>1</td>\n      <td>1</td>\n    </tr>\n    <tr>\n      <th>4</th>\n      <td>15715750</td>\n      <td>1</td>\n      <td>20.17</td>\n      <td>8.170</td>\n      <td>2</td>\n      <td>6</td>\n      <td>4</td>\n      <td>1.960</td>\n      <td>1</td>\n      <td>1</td>\n      <td>14</td>\n      <td>0</td>\n      <td>2</td>\n      <td>60</td>\n      <td>159</td>\n      <td>1</td>\n    </tr>\n    <tr>\n      <th>...</th>\n      <td>...</td>\n      <td>...</td>\n      <td>...</td>\n      <td>...</td>\n      <td>...</td>\n      <td>...</td>\n      <td>...</td>\n      <td>...</td>\n      <td>...</td>\n      <td>...</td>\n      <td>...</td>\n      <td>...</td>\n      <td>...</td>\n      <td>...</td>\n      <td>...</td>\n      <td>...</td>\n    </tr>\n    <tr>\n      <th>685</th>\n      <td>15808223</td>\n      <td>1</td>\n      <td>31.57</td>\n      <td>10.500</td>\n      <td>2</td>\n      <td>14</td>\n      <td>4</td>\n      <td>6.500</td>\n      <td>1</td>\n      <td>0</td>\n      <td>0</td>\n      <td>0</td>\n      <td>2</td>\n      <td>0</td>\n      <td>1</td>\n      <td>1</td>\n    </tr>\n    <tr>\n      <th>686</th>\n      <td>15769980</td>\n      <td>1</td>\n      <td>20.67</td>\n      <td>0.415</td>\n      <td>2</td>\n      <td>8</td>\n      <td>4</td>\n      <td>0.125</td>\n      <td>0</td>\n      <td>0</td>\n      <td>0</td>\n      <td>0</td>\n      <td>2</td>\n      <td>0</td>\n      <td>45</td>\n      <td>0</td>\n    </tr>\n    <tr>\n      <th>687</th>\n      <td>15675450</td>\n      <td>0</td>\n      <td>18.83</td>\n      <td>9.540</td>\n      <td>2</td>\n      <td>6</td>\n      <td>4</td>\n      <td>0.085</td>\n      <td>1</td>\n      <td>0</td>\n      <td>0</td>\n      <td>0</td>\n      <td>2</td>\n      <td>100</td>\n      <td>1</td>\n      <td>1</td>\n    </tr>\n    <tr>\n      <th>688</th>\n      <td>15776494</td>\n      <td>0</td>\n      <td>27.42</td>\n      <td>14.500</td>\n      <td>2</td>\n      <td>14</td>\n      <td>8</td>\n      <td>3.085</td>\n      <td>1</td>\n      <td>1</td>\n      <td>1</td>\n      <td>0</td>\n      <td>2</td>\n      <td>120</td>\n      <td>12</td>\n      <td>1</td>\n    </tr>\n    <tr>\n      <th>689</th>\n      <td>15592412</td>\n      <td>1</td>\n      <td>41.00</td>\n      <td>0.040</td>\n      <td>2</td>\n      <td>10</td>\n      <td>4</td>\n      <td>0.040</td>\n      <td>0</td>\n      <td>1</td>\n      <td>1</td>\n      <td>0</td>\n      <td>1</td>\n      <td>560</td>\n      <td>1</td>\n      <td>1</td>\n    </tr>\n  </tbody>\n</table>\n<p>690 rows × 16 columns</p>\n</div>"
     },
     "execution_count": 3,
     "metadata": {},
     "output_type": "execute_result"
    }
   ],
   "source": [
    "dataset = pd.read_csv('data/Credit_Card_Applications.csv')\n",
    "dataset"
   ],
   "metadata": {
    "collapsed": false,
    "ExecuteTime": {
     "end_time": "2024-04-04T09:02:11.579168Z",
     "start_time": "2024-04-04T09:02:11.565524Z"
    }
   },
   "id": "f0c9c102773e3494",
   "execution_count": 3
  },
  {
   "cell_type": "code",
   "outputs": [
    {
     "data": {
      "text/plain": "array([[1.5776156e+07, 1.0000000e+00, 2.2080000e+01, ..., 2.0000000e+00,\n        1.0000000e+02, 1.2130000e+03],\n       [1.5739548e+07, 0.0000000e+00, 2.2670000e+01, ..., 2.0000000e+00,\n        1.6000000e+02, 1.0000000e+00],\n       [1.5662854e+07, 0.0000000e+00, 2.9580000e+01, ..., 2.0000000e+00,\n        2.8000000e+02, 1.0000000e+00],\n       ...,\n       [1.5675450e+07, 0.0000000e+00, 1.8830000e+01, ..., 2.0000000e+00,\n        1.0000000e+02, 1.0000000e+00],\n       [1.5776494e+07, 0.0000000e+00, 2.7420000e+01, ..., 2.0000000e+00,\n        1.2000000e+02, 1.2000000e+01],\n       [1.5592412e+07, 1.0000000e+00, 4.1000000e+01, ..., 1.0000000e+00,\n        5.6000000e+02, 1.0000000e+00]])"
     },
     "execution_count": 4,
     "metadata": {},
     "output_type": "execute_result"
    }
   ],
   "source": [
    "X = dataset.iloc[:, :-1].values\n",
    "X"
   ],
   "metadata": {
    "collapsed": false,
    "ExecuteTime": {
     "end_time": "2024-04-04T09:02:11.583512Z",
     "start_time": "2024-04-04T09:02:11.580440Z"
    }
   },
   "id": "c9e559b1a1ad8425",
   "execution_count": 4
  },
  {
   "cell_type": "code",
   "outputs": [
    {
     "data": {
      "text/plain": "array([0, 0, 0, 1, 1, 1, 0, 1, 0, 0, 1, 1, 0, 1, 0, 1, 1, 1, 0, 1, 0, 0,\n       0, 0, 0, 1, 0, 1, 1, 1, 1, 0, 0, 1, 0, 0, 1, 1, 1, 1, 1, 0, 1, 0,\n       0, 1, 0, 1, 0, 1, 0, 0, 0, 0, 0, 1, 1, 0, 1, 1, 0, 0, 1, 0, 1, 1,\n       0, 0, 0, 1, 0, 0, 0, 1, 1, 0, 0, 0, 0, 1, 1, 0, 0, 0, 0, 1, 0, 1,\n       1, 0, 0, 0, 0, 1, 0, 1, 0, 0, 0, 1, 0, 1, 1, 1, 0, 1, 1, 0, 1, 0,\n       0, 0, 0, 1, 0, 1, 1, 1, 1, 1, 1, 0, 0, 1, 1, 0, 1, 0, 1, 1, 1, 0,\n       0, 0, 0, 0, 0, 1, 1, 1, 0, 0, 0, 1, 0, 1, 1, 0, 0, 1, 1, 0, 0, 0,\n       1, 1, 1, 0, 1, 0, 0, 0, 1, 1, 0, 0, 0, 1, 0, 0, 0, 1, 0, 0, 1, 0,\n       0, 0, 1, 1, 0, 0, 1, 1, 1, 0, 0, 0, 0, 0, 0, 1, 0, 0, 0, 1, 1, 0,\n       0, 0, 1, 0, 1, 0, 1, 1, 0, 0, 0, 0, 1, 1, 0, 0, 0, 1, 0, 0, 0, 1,\n       1, 0, 1, 0, 0, 0, 0, 1, 1, 1, 1, 0, 0, 1, 1, 1, 0, 0, 0, 1, 1, 1,\n       1, 0, 0, 0, 0, 1, 1, 1, 0, 0, 1, 0, 1, 1, 1, 1, 0, 0, 0, 1, 0, 1,\n       1, 0, 0, 1, 0, 0, 0, 1, 0, 1, 1, 0, 0, 0, 1, 1, 0, 0, 0, 0, 0, 1,\n       1, 1, 0, 0, 0, 0, 1, 1, 1, 0, 0, 0, 1, 0, 1, 0, 0, 0, 0, 1, 0, 1,\n       0, 0, 0, 0, 0, 1, 1, 0, 0, 1, 0, 1, 1, 1, 1, 1, 1, 1, 0, 0, 0, 0,\n       1, 1, 1, 0, 0, 0, 1, 0, 1, 0, 0, 0, 1, 1, 1, 1, 1, 1, 1, 0, 1, 0,\n       1, 0, 0, 0, 0, 0, 1, 0, 1, 1, 0, 0, 0, 0, 0, 1, 0, 1, 1, 0, 0, 0,\n       1, 1, 1, 0, 0, 1, 1, 0, 0, 0, 1, 1, 0, 1, 1, 1, 1, 0, 0, 1, 1, 0,\n       0, 0, 0, 0, 0, 1, 0, 0, 0, 1, 1, 0, 1, 0, 0, 0, 1, 1, 1, 0, 0, 1,\n       0, 1, 1, 1, 0, 1, 0, 0, 1, 0, 0, 0, 1, 0, 0, 1, 0, 1, 0, 1, 1, 0,\n       1, 0, 0, 1, 0, 1, 1, 0, 0, 0, 0, 0, 1, 1, 0, 0, 1, 1, 0, 1, 0, 1,\n       0, 1, 0, 1, 1, 0, 1, 0, 1, 1, 1, 0, 0, 0, 0, 0, 1, 0, 1, 0, 0, 0,\n       1, 1, 1, 1, 1, 0, 1, 1, 0, 0, 0, 1, 1, 1, 1, 1, 1, 0, 1, 1, 1, 1,\n       0, 0, 0, 0, 0, 0, 0, 1, 0, 0, 1, 1, 1, 0, 1, 0, 0, 1, 1, 0, 1, 0,\n       0, 0, 0, 0, 0, 1, 0, 1, 0, 1, 1, 1, 0, 0, 1, 0, 0, 0, 0, 0, 0, 0,\n       1, 1, 0, 0, 0, 0, 0, 1, 0, 1, 0, 1, 0, 0, 1, 1, 1, 0, 0, 0, 0, 0,\n       1, 0, 1, 1, 0, 0, 0, 0, 0, 1, 1, 1, 0, 1, 0, 1, 1, 0, 0, 1, 0, 1,\n       0, 0, 1, 1, 0, 1, 0, 1, 1, 1, 1, 0, 0, 1, 0, 1, 1, 0, 1, 0, 1, 1,\n       0, 0, 0, 1, 0, 1, 1, 0, 1, 0, 0, 0, 0, 0, 1, 0, 1, 0, 0, 0, 0, 0,\n       0, 1, 0, 1, 1, 0, 0, 0, 0, 0, 0, 1, 1, 0, 0, 1, 0, 0, 1, 0, 0, 1,\n       1, 0, 1, 1, 0, 0, 0, 0, 0, 0, 1, 1, 0, 1, 1, 0, 0, 0, 0, 1, 0, 0,\n       1, 0, 1, 1, 0, 1, 1, 1])"
     },
     "execution_count": 5,
     "metadata": {},
     "output_type": "execute_result"
    }
   ],
   "source": [
    "y = dataset.iloc[:, -1].values\n",
    "y"
   ],
   "metadata": {
    "collapsed": false,
    "ExecuteTime": {
     "end_time": "2024-04-04T09:02:11.586831Z",
     "start_time": "2024-04-04T09:02:11.584217Z"
    }
   },
   "id": "bc16fb1440c5b91e",
   "execution_count": 5
  },
  {
   "cell_type": "markdown",
   "source": [
    "### Feature Scaling"
   ],
   "metadata": {
    "collapsed": false
   },
   "id": "8d49680272227b43"
  },
  {
   "cell_type": "code",
   "outputs": [],
   "source": [
    "from sklearn.preprocessing import MinMaxScaler"
   ],
   "metadata": {
    "collapsed": false,
    "ExecuteTime": {
     "end_time": "2024-04-04T09:02:11.989617Z",
     "start_time": "2024-04-04T09:02:11.587489Z"
    }
   },
   "id": "e61957c0aed27b6f",
   "execution_count": 6
  },
  {
   "cell_type": "code",
   "outputs": [],
   "source": [
    "sc = MinMaxScaler(feature_range=(0,1))\n",
    "X = sc.fit_transform(X)"
   ],
   "metadata": {
    "collapsed": false,
    "ExecuteTime": {
     "end_time": "2024-04-04T09:02:11.993804Z",
     "start_time": "2024-04-04T09:02:11.990881Z"
    }
   },
   "id": "2d6c23888190144a",
   "execution_count": 7
  },
  {
   "cell_type": "code",
   "outputs": [],
   "source": [
    "# Train the SOM"
   ],
   "metadata": {
    "collapsed": false,
    "ExecuteTime": {
     "end_time": "2024-04-04T09:02:12.260916Z",
     "start_time": "2024-04-04T09:02:12.258919Z"
    }
   },
   "id": "281e47695191ee07",
   "execution_count": 8
  },
  {
   "cell_type": "code",
   "outputs": [],
   "source": [
    "from minisom import MiniSom"
   ],
   "metadata": {
    "collapsed": false,
    "ExecuteTime": {
     "end_time": "2024-04-04T09:02:12.681053Z",
     "start_time": "2024-04-04T09:02:12.677336Z"
    }
   },
   "id": "1c650d0913c05f51",
   "execution_count": 9
  },
  {
   "cell_type": "code",
   "outputs": [],
   "source": [
    "# x,y -> dimensions of map, choose is arbitrary\n",
    "# it cannot be too small, because we cannot observe outliers\n",
    "# input len -> number of features\n",
    "# we keep the customerIDs, so input len -> 15\n",
    "# x,y = 10,10 -> arbitrary\n",
    "# learning rate -> speed of convergence, lower is longer but more accurate\n",
    "# decay_func -> can be used to improve convergence\n",
    "# random seed -> initialize the random number generator\n",
    "som = MiniSom(x = 10, y = 10, input_len = 15, sigma = 1.0, learning_rate = 0.5)\n",
    "\n",
    "# initialize the weights to small numbers close to 0\n",
    "som.random_weights_init(X)\n",
    "\n",
    "# select one random observation point from the dataset\n",
    "# compute the Euclidean distances from this point to the different neurons in the network\n",
    "# Select the neuron that has the min dist to the point. This neuron is winning node\n",
    "# Update the weights of the winning node to move it closer to the point\n",
    "# Gaussian neighbourhood func of mean the winning node, update the weights of the winning node nieghbours to move them closer to the point\n",
    "#          the neighbourhood raidus is sigma in the gaussian func\n",
    "# repeat these above steps (1 iteration)\n",
    "som.train_random(data = X, num_iteration = 100)"
   ],
   "metadata": {
    "collapsed": false,
    "ExecuteTime": {
     "end_time": "2024-04-04T09:02:13.476564Z",
     "start_time": "2024-04-04T09:02:13.467872Z"
    }
   },
   "id": "140096441ff0e7c5",
   "execution_count": 10
  },
  {
   "cell_type": "code",
   "outputs": [],
   "source": [
    "from pylab import bone, pcolor, colorbar, plot, show"
   ],
   "metadata": {
    "collapsed": false,
    "ExecuteTime": {
     "end_time": "2024-04-04T09:02:14.984679Z",
     "start_time": "2024-04-04T09:02:14.980091Z"
    }
   },
   "id": "fdc12bab85a1c725",
   "execution_count": 11
  },
  {
   "cell_type": "code",
   "outputs": [
    {
     "data": {
      "text/plain": "<Figure size 640x480 with 2 Axes>",
      "image/png": "[encoded data removed]"
     },
     "metadata": {},
     "output_type": "display_data"
    }
   ],
   "source": [
    "# MID -> mean interneuron distance\n",
    "# the higher the MID the more the winning node is an outlier\n",
    "# larger the MID, closer the color to black\n",
    "\n",
    "bone()\n",
    "pcolor(som.distance_map().T)\n",
    "colorbar()\n",
    "# black -> radius is larger, close to 1\n",
    "\n",
    "# detect the customers those who has got an approval\n",
    "# add some markers\n",
    "markers = ['o', 's']\n",
    "colors = ['r', 'g']\n",
    "# loop over all customers, get winning node\n",
    "# red circle if not approved\n",
    "# green square if the customer is indeed approved\n",
    "\n",
    "# i -> index\n",
    "# x -> row vectors\n",
    "# we color only the edge not inside the circle/square that is why -> markeredgecolor\n",
    "# if approved y=1\n",
    "# if not approved y=0\n",
    "for i, x in enumerate(X):\n",
    "    w = som.winner(x)\n",
    "    plot(w[0] + 0.5,\n",
    "         w[1] + 0.5,\n",
    "         markers[y[i]],\n",
    "         markeredgecolor = colors[y[i]],\n",
    "         markerfacecolor = 'None',\n",
    "         markersize = 10,\n",
    "         markeredgewidth = 2)\n",
    "show()\n",
    "# we observe both cases in some squares\n",
    "# we'll separate and catch them"
   ],
   "metadata": {
    "collapsed": false,
    "ExecuteTime": {
     "end_time": "2024-04-04T09:02:16.078473Z",
     "start_time": "2024-04-04T09:02:15.676398Z"
    }
   },
   "id": "ec6bca21c1045363",
   "execution_count": 12
  },
  {
   "cell_type": "markdown",
   "source": [
    "### Finding the frauds"
   ],
   "metadata": {
    "collapsed": false
   },
   "id": "e83c75f5f5146349"
  },
  {
   "cell_type": "code",
   "outputs": [],
   "source": [
    "# save as dictionary, indexes are like (0,0) (5,6). These indexes show the start point of the square\n",
    "# (0,0) takes the first square that goes from x -> 0,1 and y -> 0,1. It's a 1x1 square\n",
    "# These squares contain customers\n",
    "# We observe 100 square, each one of them contain different number of customers with their attributes\n",
    "mappings = som.win_map(X)\n",
    "\n",
    "#fraud potentials are -> (3,8) , (2,8) these are totally white\n",
    "# we're adding one list on top of another therefore axis = 0, adding vertically not horizontally\n",
    "# values are still scaled, we inverse it and take out the IDs\n",
    "frauds = np.concatenate((mappings[(3,8)], mappings[(2,8)]), axis = 0)\n",
    "frauds = sc.inverse_transform(frauds)"
   ],
   "metadata": {
    "collapsed": false,
    "ExecuteTime": {
     "end_time": "2024-04-04T09:03:34.815791Z",
     "start_time": "2024-04-04T09:03:34.806499Z"
    }
   },
   "id": "c7ad5b603c87620c",
   "execution_count": 14
  },
  {
   "cell_type": "code",
   "outputs": [
    {
     "name": "stdout",
     "output_type": "stream",
     "text": [
      "Fraud Customer IDs\n",
      "15571415\n",
      "15699340\n",
      "15644400\n",
      "15684440\n",
      "15699238\n",
      "15577771\n",
      "15599272\n"
     ]
    }
   ],
   "source": [
    "# Fraud clients:\n",
    "print('Fraud Customer IDs')\n",
    "for i in frauds[:, 0]:\n",
    "  print(int(i))"
   ],
   "metadata": {
    "collapsed": false,
    "ExecuteTime": {
     "end_time": "2024-04-04T09:03:35.615424Z",
     "start_time": "2024-04-04T09:03:35.612690Z"
    }
   },
   "id": "55888104e6ef8b60",
   "execution_count": 15
  },
  {
   "cell_type": "markdown",
   "source": [
    "# Create dependent variable"
   ],
   "metadata": {
    "collapsed": false
   },
   "id": "4d26865cda52994a"
  },
  {
   "cell_type": "code",
   "outputs": [
    {
     "data": {
      "text/plain": "array([[1.000e+00, 2.208e+01, 1.146e+01, ..., 1.000e+02, 1.213e+03,\n        0.000e+00],\n       [0.000e+00, 2.267e+01, 7.000e+00, ..., 1.600e+02, 1.000e+00,\n        0.000e+00],\n       [0.000e+00, 2.958e+01, 1.750e+00, ..., 2.800e+02, 1.000e+00,\n        0.000e+00],\n       ...,\n       [0.000e+00, 1.883e+01, 9.540e+00, ..., 1.000e+02, 1.000e+00,\n        1.000e+00],\n       [0.000e+00, 2.742e+01, 1.450e+01, ..., 1.200e+02, 1.200e+01,\n        1.000e+00],\n       [1.000e+00, 4.100e+01, 4.000e-02, ..., 5.600e+02, 1.000e+00,\n        1.000e+00]])"
     },
     "execution_count": 16,
     "metadata": {},
     "output_type": "execute_result"
    }
   ],
   "source": [
    "customers = dataset.iloc[:, 1:].values\n",
    "customers"
   ],
   "metadata": {
    "collapsed": false,
    "ExecuteTime": {
     "end_time": "2024-04-04T09:03:36.924575Z",
     "start_time": "2024-04-04T09:03:36.921486Z"
    }
   },
   "id": "7cc00dab5b3e2911",
   "execution_count": 16
  },
  {
   "cell_type": "code",
   "outputs": [],
   "source": [
    "is_fraud = np.zeros(len(dataset))\n",
    "for i in range(len(dataset)):\n",
    "  if dataset.iloc[i,0] in frauds:\n",
    "    is_fraud[i] = 1"
   ],
   "metadata": {
    "collapsed": false,
    "ExecuteTime": {
     "end_time": "2024-04-04T09:03:37.842126Z",
     "start_time": "2024-04-04T09:03:37.828654Z"
    }
   },
   "id": "e2feb5119246ced5",
   "execution_count": 17
  },
  {
   "cell_type": "markdown",
   "source": [
    "### Feature scaling"
   ],
   "metadata": {
    "collapsed": false
   },
   "id": "2cc94f1a86635950"
  },
  {
   "cell_type": "code",
   "outputs": [],
   "source": [
    "from sklearn.preprocessing import StandardScaler"
   ],
   "metadata": {
    "collapsed": false,
    "ExecuteTime": {
     "end_time": "2024-04-04T09:03:38.681189Z",
     "start_time": "2024-04-04T09:03:38.679437Z"
    }
   },
   "id": "4a05c096492ef3b",
   "execution_count": 18
  },
  {
   "cell_type": "code",
   "outputs": [],
   "source": [
    "sc = StandardScaler()\n",
    "customers = sc.fit_transform(customers)"
   ],
   "metadata": {
    "collapsed": false,
    "ExecuteTime": {
     "end_time": "2024-04-04T09:03:39.051015Z",
     "start_time": "2024-04-04T09:03:39.048357Z"
    }
   },
   "id": "97f97180f101c529",
   "execution_count": 19
  },
  {
   "cell_type": "markdown",
   "source": [
    "### Build the ANN"
   ],
   "metadata": {
    "collapsed": false
   },
   "id": "1b6f3e50a713d8ab"
  },
  {
   "cell_type": "code",
   "outputs": [],
   "source": [
    "import tensorflow as tf"
   ],
   "metadata": {
    "collapsed": false,
    "ExecuteTime": {
     "end_time": "2024-04-04T09:03:41.672780Z",
     "start_time": "2024-04-04T09:03:39.624958Z"
    }
   },
   "id": "72dd6fd09d86cab0",
   "execution_count": 20
  },
  {
   "cell_type": "code",
   "outputs": [],
   "source": [
    "# Init the ANN\n",
    "ann = tf.keras.models.Sequential()"
   ],
   "metadata": {
    "collapsed": false,
    "ExecuteTime": {
     "end_time": "2024-04-04T09:03:41.685792Z",
     "start_time": "2024-04-04T09:03:41.673736Z"
    }
   },
   "id": "e71a080778556e63",
   "execution_count": 21
  },
  {
   "cell_type": "code",
   "outputs": [],
   "source": [
    "# Add the input layer\n",
    "ann.add(tf.keras.layers.Dense(units = 2, kernel_initializer = 'uniform', activation = 'relu', input_dim = 15))"
   ],
   "metadata": {
    "collapsed": false,
    "ExecuteTime": {
     "end_time": "2024-04-04T09:03:41.701905Z",
     "start_time": "2024-04-04T09:03:41.686556Z"
    }
   },
   "id": "b9513db067c89d0c",
   "execution_count": 22
  },
  {
   "cell_type": "code",
   "outputs": [],
   "source": [
    "# Add the output layer\n",
    "ann.add(tf.keras.layers.Dense(units = 1, kernel_initializer = 'uniform', activation = 'sigmoid'))"
   ],
   "metadata": {
    "collapsed": false,
    "ExecuteTime": {
     "end_time": "2024-04-04T09:03:41.711445Z",
     "start_time": "2024-04-04T09:03:41.703040Z"
    }
   },
   "id": "2ccc4410c1ca91d5",
   "execution_count": 23
  },
  {
   "cell_type": "markdown",
   "source": [
    "### Train the ANN"
   ],
   "metadata": {
    "collapsed": false
   },
   "id": "11906156fdbc0597"
  },
  {
   "cell_type": "code",
   "outputs": [],
   "source": [
    "# Compile\n",
    "ann.compile(optimizer = 'adam', loss = 'binary_crossentropy', metrics = ['accuracy'])"
   ],
   "metadata": {
    "collapsed": false,
    "ExecuteTime": {
     "end_time": "2024-04-04T09:03:41.717736Z",
     "start_time": "2024-04-04T09:03:41.712290Z"
    }
   },
   "id": "e140b6df4231920a",
   "execution_count": 24
  },
  {
   "cell_type": "code",
   "outputs": [
    {
     "name": "stdout",
     "output_type": "stream",
     "text": [
      "Epoch 1/2\n",
      "  1/690 [..............................] - ETA: 1:39 - loss: 0.6931 - accuracy: 1.0000"
     ]
    },
    {
     "name": "stderr",
     "output_type": "stream",
     "text": [
      "2024-04-04 11:03:41.743789: W tensorflow/tsl/platform/profile_utils/cpu_utils.cc:128] Failed to get CPU frequency: 0 Hz\n"
     ]
    },
    {
     "name": "stdout",
     "output_type": "stream",
     "text": [
      "690/690 [==============================] - 0s 309us/step - loss: 0.4334 - accuracy: 0.9884\n",
      "Epoch 2/2\n",
      "690/690 [==============================] - 0s 295us/step - loss: 0.1082 - accuracy: 0.9899\n"
     ]
    },
    {
     "data": {
      "text/plain": "<keras.callbacks.History at 0x29104afd0>"
     },
     "execution_count": 25,
     "metadata": {},
     "output_type": "execute_result"
    }
   ],
   "source": [
    "# Train the ANN on the training set\n",
    "ann.fit(customers, is_fraud, batch_size = 1, epochs = 2)"
   ],
   "metadata": {
    "collapsed": false,
    "ExecuteTime": {
     "end_time": "2024-04-04T09:03:42.316325Z",
     "start_time": "2024-04-04T09:03:41.718443Z"
    }
   },
   "id": "67b131dbad85c6cf",
   "execution_count": 25
  },
  {
   "cell_type": "markdown",
   "source": [
    "### Predicting"
   ],
   "metadata": {
    "collapsed": false
   },
   "id": "e0463738d785792f"
  },
  {
   "cell_type": "code",
   "outputs": [
    {
     "name": "stdout",
     "output_type": "stream",
     "text": [
      "22/22 [==============================] - 0s 319us/step\n"
     ]
    }
   ],
   "source": [
    "y_pred = ann.predict(customers)\n",
    "y_pred = np.concatenate((dataset.iloc[:, 0:1].values, y_pred), axis = 1)\n",
    "y_pred = y_pred[y_pred[:, 1].argsort()]"
   ],
   "metadata": {
    "collapsed": false,
    "ExecuteTime": {
     "end_time": "2024-04-04T09:03:42.382292Z",
     "start_time": "2024-04-04T09:03:42.317473Z"
    }
   },
   "id": "7edd6f6023ca1b9b",
   "execution_count": 26
  },
  {
   "cell_type": "code",
   "outputs": [
    {
     "data": {
      "text/plain": "array([[1.57997850e+07, 7.02238991e-04],\n       [1.56214230e+07, 1.18025346e-03],\n       [1.56548590e+07, 2.74334918e-03],\n       ...,\n       [1.56471910e+07, 1.45122945e-01],\n       [1.56739070e+07, 1.46558389e-01],\n       [1.56992380e+07, 1.58279151e-01]])"
     },
     "execution_count": 27,
     "metadata": {},
     "output_type": "execute_result"
    }
   ],
   "source": [
    "# Probability of fraud \n",
    "y_pred"
   ],
   "metadata": {
    "collapsed": false,
    "ExecuteTime": {
     "end_time": "2024-04-04T09:03:43.027300Z",
     "start_time": "2024-04-04T09:03:43.024028Z"
    }
   },
   "id": "5847c53360d3ff6",
   "execution_count": 27
  },
  {
   "cell_type": "code",
   "outputs": [],
   "source": [],
   "metadata": {
    "collapsed": false,
    "ExecuteTime": {
     "end_time": "2024-04-02T21:49:37.968054Z",
     "start_time": "2024-04-02T21:49:37.966759Z"
    }
   },
   "id": "af58d1bfda2d827",
   "execution_count": 141
  }
 ],
 "metadata": {
  "kernelspec": {
   "display_name": "Python 3",
   "language": "python",
   "name": "python3"
  },
  "language_info": {
   "codemirror_mode": {
    "name": "ipython",
    "version": 2
   },
   "file_extension": ".py",
   "mimetype": "text/x-python",
   "name": "python",
   "nbconvert_exporter": "python",
   "pygments_lexer": "ipython2",
   "version": "2.7.6"
  }
 },
 "nbformat": 4,
 "nbformat_minor": 5
}
