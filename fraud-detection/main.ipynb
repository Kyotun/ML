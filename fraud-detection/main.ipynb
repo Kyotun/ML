{
 "cells": [
  {
   "cell_type": "markdown",
   "source": [
    "### Importing the libs"
   ],
   "metadata": {
    "collapsed": false
   },
   "id": "504cc8d72c1621b9"
  },
  {
   "cell_type": "code",
   "outputs": [
    {
     "name": "stdout",
     "output_type": "stream",
     "text": [
      "Requirement already satisfied: MiniSom in /Users/kyotun/anaconda3/lib/python3.11/site-packages (2.3.2)\r\n"
     ]
    }
   ],
   "source": [
    "!pip install MiniSom"
   ],
   "metadata": {
    "collapsed": false,
    "ExecuteTime": {
     "end_time": "2024-04-02T21:24:41.575803Z",
     "start_time": "2024-04-02T21:24:38.304713Z"
    }
   },
   "id": "9b82493e1f914de2",
   "execution_count": 43
  },
  {
   "cell_type": "code",
   "outputs": [],
   "source": [
    "import numpy as np\n",
    "import pandas as pd\n",
    "import matplotlib.pyplot as plt"
   ],
   "metadata": {
    "collapsed": false,
    "ExecuteTime": {
     "end_time": "2024-04-02T21:24:41.579779Z",
     "start_time": "2024-04-02T21:24:41.577170Z"
    }
   },
   "id": "94763c43e1ca0481",
   "execution_count": 44
  },
  {
   "cell_type": "markdown",
   "source": [
    "### Importing the dataset"
   ],
   "metadata": {
    "collapsed": false
   },
   "id": "77dd6d094b016364"
  },
  {
   "cell_type": "code",
   "outputs": [
    {
     "data": {
      "text/plain": "     CustomerID  A1     A2      A3  A4  A5  A6     A7  A8  A9  A10  A11  A12  \\\n0      15776156   1  22.08  11.460   2   4   4  1.585   0   0    0    1    2   \n1      15739548   0  22.67   7.000   2   8   4  0.165   0   0    0    0    2   \n2      15662854   0  29.58   1.750   1   4   4  1.250   0   0    0    1    2   \n3      15687688   0  21.67  11.500   1   5   3  0.000   1   1   11    1    2   \n4      15715750   1  20.17   8.170   2   6   4  1.960   1   1   14    0    2   \n..          ...  ..    ...     ...  ..  ..  ..    ...  ..  ..  ...  ...  ...   \n685    15808223   1  31.57  10.500   2  14   4  6.500   1   0    0    0    2   \n686    15769980   1  20.67   0.415   2   8   4  0.125   0   0    0    0    2   \n687    15675450   0  18.83   9.540   2   6   4  0.085   1   0    0    0    2   \n688    15776494   0  27.42  14.500   2  14   8  3.085   1   1    1    0    2   \n689    15592412   1  41.00   0.040   2  10   4  0.040   0   1    1    0    1   \n\n     A13   A14  Class  \n0    100  1213      0  \n1    160     1      0  \n2    280     1      0  \n3      0     1      1  \n4     60   159      1  \n..   ...   ...    ...  \n685    0     1      1  \n686    0    45      0  \n687  100     1      1  \n688  120    12      1  \n689  560     1      1  \n\n[690 rows x 16 columns]",
      "text/html": "<div>\n<style scoped>\n    .dataframe tbody tr th:only-of-type {\n        vertical-align: middle;\n    }\n\n    .dataframe tbody tr th {\n        vertical-align: top;\n    }\n\n    .dataframe thead th {\n        text-align: right;\n    }\n</style>\n<table border=\"1\" class=\"dataframe\">\n  <thead>\n    <tr style=\"text-align: right;\">\n      <th></th>\n      <th>CustomerID</th>\n      <th>A1</th>\n      <th>A2</th>\n      <th>A3</th>\n      <th>A4</th>\n      <th>A5</th>\n      <th>A6</th>\n      <th>A7</th>\n      <th>A8</th>\n      <th>A9</th>\n      <th>A10</th>\n      <th>A11</th>\n      <th>A12</th>\n      <th>A13</th>\n      <th>A14</th>\n      <th>Class</th>\n    </tr>\n  </thead>\n  <tbody>\n    <tr>\n      <th>0</th>\n      <td>15776156</td>\n      <td>1</td>\n      <td>22.08</td>\n      <td>11.460</td>\n      <td>2</td>\n      <td>4</td>\n      <td>4</td>\n      <td>1.585</td>\n      <td>0</td>\n      <td>0</td>\n      <td>0</td>\n      <td>1</td>\n      <td>2</td>\n      <td>100</td>\n      <td>1213</td>\n      <td>0</td>\n    </tr>\n    <tr>\n      <th>1</th>\n      <td>15739548</td>\n      <td>0</td>\n      <td>22.67</td>\n      <td>7.000</td>\n      <td>2</td>\n      <td>8</td>\n      <td>4</td>\n      <td>0.165</td>\n      <td>0</td>\n      <td>0</td>\n      <td>0</td>\n      <td>0</td>\n      <td>2</td>\n      <td>160</td>\n      <td>1</td>\n      <td>0</td>\n    </tr>\n    <tr>\n      <th>2</th>\n      <td>15662854</td>\n      <td>0</td>\n      <td>29.58</td>\n      <td>1.750</td>\n      <td>1</td>\n      <td>4</td>\n      <td>4</td>\n      <td>1.250</td>\n      <td>0</td>\n      <td>0</td>\n      <td>0</td>\n      <td>1</td>\n      <td>2</td>\n      <td>280</td>\n      <td>1</td>\n      <td>0</td>\n    </tr>\n    <tr>\n      <th>3</th>\n      <td>15687688</td>\n      <td>0</td>\n      <td>21.67</td>\n      <td>11.500</td>\n      <td>1</td>\n      <td>5</td>\n      <td>3</td>\n      <td>0.000</td>\n      <td>1</td>\n      <td>1</td>\n      <td>11</td>\n      <td>1</td>\n      <td>2</td>\n      <td>0</td>\n      <td>1</td>\n      <td>1</td>\n    </tr>\n    <tr>\n      <th>4</th>\n      <td>15715750</td>\n      <td>1</td>\n      <td>20.17</td>\n      <td>8.170</td>\n      <td>2</td>\n      <td>6</td>\n      <td>4</td>\n      <td>1.960</td>\n      <td>1</td>\n      <td>1</td>\n      <td>14</td>\n      <td>0</td>\n      <td>2</td>\n      <td>60</td>\n      <td>159</td>\n      <td>1</td>\n    </tr>\n    <tr>\n      <th>...</th>\n      <td>...</td>\n      <td>...</td>\n      <td>...</td>\n      <td>...</td>\n      <td>...</td>\n      <td>...</td>\n      <td>...</td>\n      <td>...</td>\n      <td>...</td>\n      <td>...</td>\n      <td>...</td>\n      <td>...</td>\n      <td>...</td>\n      <td>...</td>\n      <td>...</td>\n      <td>...</td>\n    </tr>\n    <tr>\n      <th>685</th>\n      <td>15808223</td>\n      <td>1</td>\n      <td>31.57</td>\n      <td>10.500</td>\n      <td>2</td>\n      <td>14</td>\n      <td>4</td>\n      <td>6.500</td>\n      <td>1</td>\n      <td>0</td>\n      <td>0</td>\n      <td>0</td>\n      <td>2</td>\n      <td>0</td>\n      <td>1</td>\n      <td>1</td>\n    </tr>\n    <tr>\n      <th>686</th>\n      <td>15769980</td>\n      <td>1</td>\n      <td>20.67</td>\n      <td>0.415</td>\n      <td>2</td>\n      <td>8</td>\n      <td>4</td>\n      <td>0.125</td>\n      <td>0</td>\n      <td>0</td>\n      <td>0</td>\n      <td>0</td>\n      <td>2</td>\n      <td>0</td>\n      <td>45</td>\n      <td>0</td>\n    </tr>\n    <tr>\n      <th>687</th>\n      <td>15675450</td>\n      <td>0</td>\n      <td>18.83</td>\n      <td>9.540</td>\n      <td>2</td>\n      <td>6</td>\n      <td>4</td>\n      <td>0.085</td>\n      <td>1</td>\n      <td>0</td>\n      <td>0</td>\n      <td>0</td>\n      <td>2</td>\n      <td>100</td>\n      <td>1</td>\n      <td>1</td>\n    </tr>\n    <tr>\n      <th>688</th>\n      <td>15776494</td>\n      <td>0</td>\n      <td>27.42</td>\n      <td>14.500</td>\n      <td>2</td>\n      <td>14</td>\n      <td>8</td>\n      <td>3.085</td>\n      <td>1</td>\n      <td>1</td>\n      <td>1</td>\n      <td>0</td>\n      <td>2</td>\n      <td>120</td>\n      <td>12</td>\n      <td>1</td>\n    </tr>\n    <tr>\n      <th>689</th>\n      <td>15592412</td>\n      <td>1</td>\n      <td>41.00</td>\n      <td>0.040</td>\n      <td>2</td>\n      <td>10</td>\n      <td>4</td>\n      <td>0.040</td>\n      <td>0</td>\n      <td>1</td>\n      <td>1</td>\n      <td>0</td>\n      <td>1</td>\n      <td>560</td>\n      <td>1</td>\n      <td>1</td>\n    </tr>\n  </tbody>\n</table>\n<p>690 rows × 16 columns</p>\n</div>"
     },
     "execution_count": 45,
     "metadata": {},
     "output_type": "execute_result"
    }
   ],
   "source": [
    "dataset = pd.read_csv('data/Credit_Card_Applications.csv')\n",
    "dataset"
   ],
   "metadata": {
    "collapsed": false,
    "ExecuteTime": {
     "end_time": "2024-04-02T21:24:41.600765Z",
     "start_time": "2024-04-02T21:24:41.581167Z"
    }
   },
   "id": "f0c9c102773e3494",
   "execution_count": 45
  },
  {
   "cell_type": "code",
   "outputs": [
    {
     "data": {
      "text/plain": "array([[1.5776156e+07, 1.0000000e+00, 2.2080000e+01, ..., 2.0000000e+00,\n        1.0000000e+02, 1.2130000e+03],\n       [1.5739548e+07, 0.0000000e+00, 2.2670000e+01, ..., 2.0000000e+00,\n        1.6000000e+02, 1.0000000e+00],\n       [1.5662854e+07, 0.0000000e+00, 2.9580000e+01, ..., 2.0000000e+00,\n        2.8000000e+02, 1.0000000e+00],\n       ...,\n       [1.5675450e+07, 0.0000000e+00, 1.8830000e+01, ..., 2.0000000e+00,\n        1.0000000e+02, 1.0000000e+00],\n       [1.5776494e+07, 0.0000000e+00, 2.7420000e+01, ..., 2.0000000e+00,\n        1.2000000e+02, 1.2000000e+01],\n       [1.5592412e+07, 1.0000000e+00, 4.1000000e+01, ..., 1.0000000e+00,\n        5.6000000e+02, 1.0000000e+00]])"
     },
     "execution_count": 46,
     "metadata": {},
     "output_type": "execute_result"
    }
   ],
   "source": [
    "X = dataset.iloc[:, :-1].values\n",
    "X"
   ],
   "metadata": {
    "collapsed": false,
    "ExecuteTime": {
     "end_time": "2024-04-02T21:24:41.608408Z",
     "start_time": "2024-04-02T21:24:41.604087Z"
    }
   },
   "id": "c9e559b1a1ad8425",
   "execution_count": 46
  },
  {
   "cell_type": "code",
   "outputs": [
    {
     "data": {
      "text/plain": "array([0, 0, 0, 1, 1, 1, 0, 1, 0, 0, 1, 1, 0, 1, 0, 1, 1, 1, 0, 1, 0, 0,\n       0, 0, 0, 1, 0, 1, 1, 1, 1, 0, 0, 1, 0, 0, 1, 1, 1, 1, 1, 0, 1, 0,\n       0, 1, 0, 1, 0, 1, 0, 0, 0, 0, 0, 1, 1, 0, 1, 1, 0, 0, 1, 0, 1, 1,\n       0, 0, 0, 1, 0, 0, 0, 1, 1, 0, 0, 0, 0, 1, 1, 0, 0, 0, 0, 1, 0, 1,\n       1, 0, 0, 0, 0, 1, 0, 1, 0, 0, 0, 1, 0, 1, 1, 1, 0, 1, 1, 0, 1, 0,\n       0, 0, 0, 1, 0, 1, 1, 1, 1, 1, 1, 0, 0, 1, 1, 0, 1, 0, 1, 1, 1, 0,\n       0, 0, 0, 0, 0, 1, 1, 1, 0, 0, 0, 1, 0, 1, 1, 0, 0, 1, 1, 0, 0, 0,\n       1, 1, 1, 0, 1, 0, 0, 0, 1, 1, 0, 0, 0, 1, 0, 0, 0, 1, 0, 0, 1, 0,\n       0, 0, 1, 1, 0, 0, 1, 1, 1, 0, 0, 0, 0, 0, 0, 1, 0, 0, 0, 1, 1, 0,\n       0, 0, 1, 0, 1, 0, 1, 1, 0, 0, 0, 0, 1, 1, 0, 0, 0, 1, 0, 0, 0, 1,\n       1, 0, 1, 0, 0, 0, 0, 1, 1, 1, 1, 0, 0, 1, 1, 1, 0, 0, 0, 1, 1, 1,\n       1, 0, 0, 0, 0, 1, 1, 1, 0, 0, 1, 0, 1, 1, 1, 1, 0, 0, 0, 1, 0, 1,\n       1, 0, 0, 1, 0, 0, 0, 1, 0, 1, 1, 0, 0, 0, 1, 1, 0, 0, 0, 0, 0, 1,\n       1, 1, 0, 0, 0, 0, 1, 1, 1, 0, 0, 0, 1, 0, 1, 0, 0, 0, 0, 1, 0, 1,\n       0, 0, 0, 0, 0, 1, 1, 0, 0, 1, 0, 1, 1, 1, 1, 1, 1, 1, 0, 0, 0, 0,\n       1, 1, 1, 0, 0, 0, 1, 0, 1, 0, 0, 0, 1, 1, 1, 1, 1, 1, 1, 0, 1, 0,\n       1, 0, 0, 0, 0, 0, 1, 0, 1, 1, 0, 0, 0, 0, 0, 1, 0, 1, 1, 0, 0, 0,\n       1, 1, 1, 0, 0, 1, 1, 0, 0, 0, 1, 1, 0, 1, 1, 1, 1, 0, 0, 1, 1, 0,\n       0, 0, 0, 0, 0, 1, 0, 0, 0, 1, 1, 0, 1, 0, 0, 0, 1, 1, 1, 0, 0, 1,\n       0, 1, 1, 1, 0, 1, 0, 0, 1, 0, 0, 0, 1, 0, 0, 1, 0, 1, 0, 1, 1, 0,\n       1, 0, 0, 1, 0, 1, 1, 0, 0, 0, 0, 0, 1, 1, 0, 0, 1, 1, 0, 1, 0, 1,\n       0, 1, 0, 1, 1, 0, 1, 0, 1, 1, 1, 0, 0, 0, 0, 0, 1, 0, 1, 0, 0, 0,\n       1, 1, 1, 1, 1, 0, 1, 1, 0, 0, 0, 1, 1, 1, 1, 1, 1, 0, 1, 1, 1, 1,\n       0, 0, 0, 0, 0, 0, 0, 1, 0, 0, 1, 1, 1, 0, 1, 0, 0, 1, 1, 0, 1, 0,\n       0, 0, 0, 0, 0, 1, 0, 1, 0, 1, 1, 1, 0, 0, 1, 0, 0, 0, 0, 0, 0, 0,\n       1, 1, 0, 0, 0, 0, 0, 1, 0, 1, 0, 1, 0, 0, 1, 1, 1, 0, 0, 0, 0, 0,\n       1, 0, 1, 1, 0, 0, 0, 0, 0, 1, 1, 1, 0, 1, 0, 1, 1, 0, 0, 1, 0, 1,\n       0, 0, 1, 1, 0, 1, 0, 1, 1, 1, 1, 0, 0, 1, 0, 1, 1, 0, 1, 0, 1, 1,\n       0, 0, 0, 1, 0, 1, 1, 0, 1, 0, 0, 0, 0, 0, 1, 0, 1, 0, 0, 0, 0, 0,\n       0, 1, 0, 1, 1, 0, 0, 0, 0, 0, 0, 1, 1, 0, 0, 1, 0, 0, 1, 0, 0, 1,\n       1, 0, 1, 1, 0, 0, 0, 0, 0, 0, 1, 1, 0, 1, 1, 0, 0, 0, 0, 1, 0, 0,\n       1, 0, 1, 1, 0, 1, 1, 1])"
     },
     "execution_count": 47,
     "metadata": {},
     "output_type": "execute_result"
    }
   ],
   "source": [
    "y = dataset.iloc[:, -1].values\n",
    "y"
   ],
   "metadata": {
    "collapsed": false,
    "ExecuteTime": {
     "end_time": "2024-04-02T21:24:41.612775Z",
     "start_time": "2024-04-02T21:24:41.609574Z"
    }
   },
   "id": "bc16fb1440c5b91e",
   "execution_count": 47
  },
  {
   "cell_type": "markdown",
   "source": [
    "### Feature Scaling"
   ],
   "metadata": {
    "collapsed": false
   },
   "id": "8d49680272227b43"
  },
  {
   "cell_type": "code",
   "outputs": [],
   "source": [
    "from sklearn.preprocessing import MinMaxScaler"
   ],
   "metadata": {
    "collapsed": false,
    "ExecuteTime": {
     "end_time": "2024-04-02T21:24:41.615172Z",
     "start_time": "2024-04-02T21:24:41.613619Z"
    }
   },
   "id": "e61957c0aed27b6f",
   "execution_count": 48
  },
  {
   "cell_type": "code",
   "outputs": [],
   "source": [
    "sc = MinMaxScaler(feature_range=(0,1))\n",
    "X = sc.fit_transform(X)"
   ],
   "metadata": {
    "collapsed": false,
    "ExecuteTime": {
     "end_time": "2024-04-02T21:24:41.619310Z",
     "start_time": "2024-04-02T21:24:41.616250Z"
    }
   },
   "id": "2d6c23888190144a",
   "execution_count": 49
  },
  {
   "cell_type": "code",
   "outputs": [],
   "source": [
    "# Train the SOM"
   ],
   "metadata": {
    "collapsed": false,
    "ExecuteTime": {
     "end_time": "2024-04-02T21:24:41.622099Z",
     "start_time": "2024-04-02T21:24:41.620339Z"
    }
   },
   "id": "281e47695191ee07",
   "execution_count": 50
  },
  {
   "cell_type": "code",
   "outputs": [],
   "source": [
    "from minisom import MiniSom"
   ],
   "metadata": {
    "collapsed": false,
    "ExecuteTime": {
     "end_time": "2024-04-02T21:24:41.624860Z",
     "start_time": "2024-04-02T21:24:41.623123Z"
    }
   },
   "id": "1c650d0913c05f51",
   "execution_count": 51
  },
  {
   "cell_type": "code",
   "outputs": [],
   "source": [
    "som = MiniSom(x=10, y=10, input_len= 15, sigma= 1.0, learning_rate = 0.5)\n",
    "som.random_weights_init(X)\n",
    "som.train_random(data = X, num_iteration = 100)"
   ],
   "metadata": {
    "collapsed": false,
    "ExecuteTime": {
     "end_time": "2024-04-02T21:24:41.632409Z",
     "start_time": "2024-04-02T21:24:41.626729Z"
    }
   },
   "id": "140096441ff0e7c5",
   "execution_count": 52
  },
  {
   "cell_type": "code",
   "outputs": [],
   "source": [
    "from pylab import bone, pcolor, colorbar, plot, show"
   ],
   "metadata": {
    "collapsed": false,
    "ExecuteTime": {
     "end_time": "2024-04-02T21:24:41.634880Z",
     "start_time": "2024-04-02T21:24:41.632975Z"
    }
   },
   "id": "fdc12bab85a1c725",
   "execution_count": 53
  },
  {
   "cell_type": "code",
   "outputs": [
    {
     "data": {
      "text/plain": "<Figure size 640x480 with 2 Axes>",
      "image/png": "[encoded data removed]"
     },
     "metadata": {},
     "output_type": "display_data"
    }
   ],
   "source": [
    "bone()\n",
    "pcolor(som.distance_map().T)\n",
    "colorbar()\n",
    "markers = ['o', 's']\n",
    "colors = ['r', 'g']\n",
    "for i, x in enumerate(X):\n",
    "    w = som.winner(x)\n",
    "    plot(w[0] + 0.5,\n",
    "         w[1] + 0.5,\n",
    "         markers[y[i]],\n",
    "         markeredgecolor = colors[y[i]],\n",
    "         markerfacecolor = 'None',\n",
    "         markersize = 10,\n",
    "         markeredgewidth = 2)\n",
    "show()"
   ],
   "metadata": {
    "collapsed": false,
    "ExecuteTime": {
     "end_time": "2024-04-02T21:24:42.083615Z",
     "start_time": "2024-04-02T21:24:41.635592Z"
    }
   },
   "id": "ec6bca21c1045363",
   "execution_count": 54
  },
  {
   "cell_type": "markdown",
   "source": [
    "### Finding the frauds"
   ],
   "metadata": {
    "collapsed": false
   },
   "id": "e83c75f5f5146349"
  },
  {
   "cell_type": "code",
   "outputs": [
    {
     "ename": "ValueError",
     "evalue": "all the input arrays must have same number of dimensions, but the array at index 0 has 2 dimension(s) and the array at index 1 has 1 dimension(s)",
     "output_type": "error",
     "traceback": [
      "\u001B[0;31m---------------------------------------------------------------------------\u001B[0m",
      "\u001B[0;31mValueError\u001B[0m                                Traceback (most recent call last)",
      "Cell \u001B[0;32mIn[55], line 2\u001B[0m\n\u001B[1;32m      1\u001B[0m mappings \u001B[38;5;241m=\u001B[39m som\u001B[38;5;241m.\u001B[39mwin_map(X)\n\u001B[0;32m----> 2\u001B[0m frauds \u001B[38;5;241m=\u001B[39m np\u001B[38;5;241m.\u001B[39mconcatenate((mappings[(\u001B[38;5;241m6\u001B[39m,\u001B[38;5;241m8\u001B[39m)], mappings[(\u001B[38;5;241m5\u001B[39m,\u001B[38;5;241m1\u001B[39m)]), axis \u001B[38;5;241m=\u001B[39m \u001B[38;5;241m0\u001B[39m)\n\u001B[1;32m      3\u001B[0m frauds \u001B[38;5;241m=\u001B[39m sc\u001B[38;5;241m.\u001B[39minverse_transform(frauds)\n",
      "File \u001B[0;32m<__array_function__ internals>:180\u001B[0m, in \u001B[0;36mconcatenate\u001B[0;34m(*args, **kwargs)\u001B[0m\n",
      "\u001B[0;31mValueError\u001B[0m: all the input arrays must have same number of dimensions, but the array at index 0 has 2 dimension(s) and the array at index 1 has 1 dimension(s)"
     ]
    }
   ],
   "source": [
    "mappings = som.win_map(X)\n",
    "frauds = np.concatenate((mappings[(6,8)], mappings[(5,1)]), axis = 0)\n",
    "frauds = sc.inverse_transform(frauds)"
   ],
   "metadata": {
    "collapsed": false,
    "ExecuteTime": {
     "end_time": "2024-04-02T21:24:42.109148Z",
     "start_time": "2024-04-02T21:24:42.084623Z"
    }
   },
   "id": "c7ad5b603c87620c",
   "execution_count": 55
  },
  {
   "cell_type": "code",
   "outputs": [],
   "source": [
    "# Fraud clients:\n",
    "print('Fraud Customer IDs')\n",
    "for i in frauds[:, 0]:\n",
    "  print(int(i))"
   ],
   "metadata": {
    "collapsed": false,
    "ExecuteTime": {
     "end_time": "2024-04-02T21:24:42.110075Z",
     "start_time": "2024-04-02T21:24:42.110002Z"
    }
   },
   "id": "55888104e6ef8b60",
   "execution_count": null
  },
  {
   "cell_type": "markdown",
   "source": [
    "# Create dependent variable"
   ],
   "metadata": {
    "collapsed": false
   },
   "id": "4d26865cda52994a"
  },
  {
   "cell_type": "code",
   "outputs": [],
   "source": [
    "customers = dataset.iloc[:, 1:].values\n",
    "customers"
   ],
   "metadata": {
    "collapsed": false
   },
   "id": "7cc00dab5b3e2911",
   "execution_count": null
  },
  {
   "cell_type": "markdown",
   "source": [
    "### Feature scaling"
   ],
   "metadata": {
    "collapsed": false
   },
   "id": "2cc94f1a86635950"
  },
  {
   "cell_type": "code",
   "outputs": [],
   "source": [
    "from sklearn.preprocessing import StandardScaler"
   ],
   "metadata": {
    "collapsed": false
   },
   "id": "4a05c096492ef3b",
   "execution_count": null
  },
  {
   "cell_type": "code",
   "outputs": [],
   "source": [
    "sc = StandardScaler()\n",
    "customers = sc.fit_transform(customers)"
   ],
   "metadata": {
    "collapsed": false
   },
   "id": "97f97180f101c529",
   "execution_count": null
  },
  {
   "cell_type": "markdown",
   "source": [
    "### Build the ANN"
   ],
   "metadata": {
    "collapsed": false
   },
   "id": "1b6f3e50a713d8ab"
  },
  {
   "cell_type": "code",
   "outputs": [],
   "source": [
    "import tensorflow as tf"
   ],
   "metadata": {
    "collapsed": false,
    "ExecuteTime": {
     "end_time": "2024-04-02T21:32:36.289450Z",
     "start_time": "2024-04-02T21:32:33.842807Z"
    }
   },
   "id": "72dd6fd09d86cab0",
   "execution_count": 56
  },
  {
   "cell_type": "code",
   "outputs": [],
   "source": [
    "# Init the ANN\n",
    "ann = tf.keras.models.Sequential()"
   ],
   "metadata": {
    "collapsed": false,
    "ExecuteTime": {
     "end_time": "2024-04-02T21:33:00.119567Z",
     "start_time": "2024-04-02T21:33:00.105507Z"
    }
   },
   "id": "e71a080778556e63",
   "execution_count": 57
  },
  {
   "cell_type": "code",
   "outputs": [],
   "source": [
    "# Add the input layer\n",
    "ann.add(tf.keras.layers.Dense(units = 2, activation = 'relu'))"
   ],
   "metadata": {
    "collapsed": false,
    "ExecuteTime": {
     "end_time": "2024-04-02T21:33:25.858834Z",
     "start_time": "2024-04-02T21:33:25.854060Z"
    }
   },
   "id": "b9513db067c89d0c",
   "execution_count": 58
  },
  {
   "cell_type": "code",
   "outputs": [],
   "source": [
    "# Add the output layer\n",
    "ann.add(tf.keras.layers.Dense(units =1, activation = 'sigmoid'))"
   ],
   "metadata": {
    "collapsed": false,
    "ExecuteTime": {
     "end_time": "2024-04-02T21:34:44.072926Z",
     "start_time": "2024-04-02T21:34:44.069261Z"
    }
   },
   "id": "2ccc4410c1ca91d5",
   "execution_count": 59
  },
  {
   "cell_type": "code",
   "outputs": [],
   "source": [],
   "metadata": {
    "collapsed": false
   },
   "id": "28fb2c9623131424"
  }
 ],
 "metadata": {
  "kernelspec": {
   "display_name": "Python 3",
   "language": "python",
   "name": "python3"
  },
  "language_info": {
   "codemirror_mode": {
    "name": "ipython",
    "version": 2
   },
   "file_extension": ".py",
   "mimetype": "text/x-python",
   "name": "python",
   "nbconvert_exporter": "python",
   "pygments_lexer": "ipython2",
   "version": "2.7.6"
  }
 },
 "nbformat": 4,
 "nbformat_minor": 5
}
