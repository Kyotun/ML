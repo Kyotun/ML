{
 "cells": [
  {
   "cell_type": "markdown",
   "source": [
    "# Importing the libraries"
   ],
   "metadata": {
    "collapsed": false
   },
   "id": "6951536e07080bc5"
  },
  {
   "cell_type": "code",
   "execution_count": 97,
   "id": "initial_id",
   "metadata": {
    "collapsed": true,
    "ExecuteTime": {
     "end_time": "2024-04-02T15:44:04.851186Z",
     "start_time": "2024-04-02T15:44:04.849327Z"
    }
   },
   "outputs": [],
   "source": [
    "import numpy as np\n",
    "import pandas as pd\n",
    "import tensorflow as tf"
   ]
  },
  {
   "cell_type": "markdown",
   "source": [
    "# Data Preprocessing"
   ],
   "metadata": {
    "collapsed": false
   },
   "id": "ed365f1b3fda9452"
  },
  {
   "cell_type": "markdown",
   "source": [
    "### Import the dataset"
   ],
   "metadata": {
    "collapsed": false
   },
   "id": "c85278f3a8d20c8"
  },
  {
   "cell_type": "code",
   "outputs": [],
   "source": [
    "dataset = pd.read_csv('data/Churn_Modelling.csv')"
   ],
   "metadata": {
    "collapsed": false,
    "ExecuteTime": {
     "end_time": "2024-04-02T15:44:04.889982Z",
     "start_time": "2024-04-02T15:44:04.880457Z"
    }
   },
   "id": "805669ebbb410c8",
   "execution_count": 98
  },
  {
   "cell_type": "code",
   "outputs": [
    {
     "data": {
      "text/plain": "      RowNumber  CustomerId    Surname  CreditScore Geography  Gender  Age  \\\n0             1    15634602   Hargrave          619    France  Female   42   \n1             2    15647311       Hill          608     Spain  Female   41   \n2             3    15619304       Onio          502    France  Female   42   \n3             4    15701354       Boni          699    France  Female   39   \n4             5    15737888   Mitchell          850     Spain  Female   43   \n...         ...         ...        ...          ...       ...     ...  ...   \n9995       9996    15606229   Obijiaku          771    France    Male   39   \n9996       9997    15569892  Johnstone          516    France    Male   35   \n9997       9998    15584532        Liu          709    France  Female   36   \n9998       9999    15682355  Sabbatini          772   Germany    Male   42   \n9999      10000    15628319     Walker          792    France  Female   28   \n\n      Tenure    Balance  NumOfProducts  HasCrCard  IsActiveMember  \\\n0          2       0.00              1          1               1   \n1          1   83807.86              1          0               1   \n2          8  159660.80              3          1               0   \n3          1       0.00              2          0               0   \n4          2  125510.82              1          1               1   \n...      ...        ...            ...        ...             ...   \n9995       5       0.00              2          1               0   \n9996      10   57369.61              1          1               1   \n9997       7       0.00              1          0               1   \n9998       3   75075.31              2          1               0   \n9999       4  130142.79              1          1               0   \n\n      EstimatedSalary  Exited  \n0           101348.88       1  \n1           112542.58       0  \n2           113931.57       1  \n3            93826.63       0  \n4            79084.10       0  \n...               ...     ...  \n9995         96270.64       0  \n9996        101699.77       0  \n9997         42085.58       1  \n9998         92888.52       1  \n9999         38190.78       0  \n\n[10000 rows x 14 columns]",
      "text/html": "<div>\n<style scoped>\n    .dataframe tbody tr th:only-of-type {\n        vertical-align: middle;\n    }\n\n    .dataframe tbody tr th {\n        vertical-align: top;\n    }\n\n    .dataframe thead th {\n        text-align: right;\n    }\n</style>\n<table border=\"1\" class=\"dataframe\">\n  <thead>\n    <tr style=\"text-align: right;\">\n      <th></th>\n      <th>RowNumber</th>\n      <th>CustomerId</th>\n      <th>Surname</th>\n      <th>CreditScore</th>\n      <th>Geography</th>\n      <th>Gender</th>\n      <th>Age</th>\n      <th>Tenure</th>\n      <th>Balance</th>\n      <th>NumOfProducts</th>\n      <th>HasCrCard</th>\n      <th>IsActiveMember</th>\n      <th>EstimatedSalary</th>\n      <th>Exited</th>\n    </tr>\n  </thead>\n  <tbody>\n    <tr>\n      <th>0</th>\n      <td>1</td>\n      <td>15634602</td>\n      <td>Hargrave</td>\n      <td>619</td>\n      <td>France</td>\n      <td>Female</td>\n      <td>42</td>\n      <td>2</td>\n      <td>0.00</td>\n      <td>1</td>\n      <td>1</td>\n      <td>1</td>\n      <td>101348.88</td>\n      <td>1</td>\n    </tr>\n    <tr>\n      <th>1</th>\n      <td>2</td>\n      <td>15647311</td>\n      <td>Hill</td>\n      <td>608</td>\n      <td>Spain</td>\n      <td>Female</td>\n      <td>41</td>\n      <td>1</td>\n      <td>83807.86</td>\n      <td>1</td>\n      <td>0</td>\n      <td>1</td>\n      <td>112542.58</td>\n      <td>0</td>\n    </tr>\n    <tr>\n      <th>2</th>\n      <td>3</td>\n      <td>15619304</td>\n      <td>Onio</td>\n      <td>502</td>\n      <td>France</td>\n      <td>Female</td>\n      <td>42</td>\n      <td>8</td>\n      <td>159660.80</td>\n      <td>3</td>\n      <td>1</td>\n      <td>0</td>\n      <td>113931.57</td>\n      <td>1</td>\n    </tr>\n    <tr>\n      <th>3</th>\n      <td>4</td>\n      <td>15701354</td>\n      <td>Boni</td>\n      <td>699</td>\n      <td>France</td>\n      <td>Female</td>\n      <td>39</td>\n      <td>1</td>\n      <td>0.00</td>\n      <td>2</td>\n      <td>0</td>\n      <td>0</td>\n      <td>93826.63</td>\n      <td>0</td>\n    </tr>\n    <tr>\n      <th>4</th>\n      <td>5</td>\n      <td>15737888</td>\n      <td>Mitchell</td>\n      <td>850</td>\n      <td>Spain</td>\n      <td>Female</td>\n      <td>43</td>\n      <td>2</td>\n      <td>125510.82</td>\n      <td>1</td>\n      <td>1</td>\n      <td>1</td>\n      <td>79084.10</td>\n      <td>0</td>\n    </tr>\n    <tr>\n      <th>...</th>\n      <td>...</td>\n      <td>...</td>\n      <td>...</td>\n      <td>...</td>\n      <td>...</td>\n      <td>...</td>\n      <td>...</td>\n      <td>...</td>\n      <td>...</td>\n      <td>...</td>\n      <td>...</td>\n      <td>...</td>\n      <td>...</td>\n      <td>...</td>\n    </tr>\n    <tr>\n      <th>9995</th>\n      <td>9996</td>\n      <td>15606229</td>\n      <td>Obijiaku</td>\n      <td>771</td>\n      <td>France</td>\n      <td>Male</td>\n      <td>39</td>\n      <td>5</td>\n      <td>0.00</td>\n      <td>2</td>\n      <td>1</td>\n      <td>0</td>\n      <td>96270.64</td>\n      <td>0</td>\n    </tr>\n    <tr>\n      <th>9996</th>\n      <td>9997</td>\n      <td>15569892</td>\n      <td>Johnstone</td>\n      <td>516</td>\n      <td>France</td>\n      <td>Male</td>\n      <td>35</td>\n      <td>10</td>\n      <td>57369.61</td>\n      <td>1</td>\n      <td>1</td>\n      <td>1</td>\n      <td>101699.77</td>\n      <td>0</td>\n    </tr>\n    <tr>\n      <th>9997</th>\n      <td>9998</td>\n      <td>15584532</td>\n      <td>Liu</td>\n      <td>709</td>\n      <td>France</td>\n      <td>Female</td>\n      <td>36</td>\n      <td>7</td>\n      <td>0.00</td>\n      <td>1</td>\n      <td>0</td>\n      <td>1</td>\n      <td>42085.58</td>\n      <td>1</td>\n    </tr>\n    <tr>\n      <th>9998</th>\n      <td>9999</td>\n      <td>15682355</td>\n      <td>Sabbatini</td>\n      <td>772</td>\n      <td>Germany</td>\n      <td>Male</td>\n      <td>42</td>\n      <td>3</td>\n      <td>75075.31</td>\n      <td>2</td>\n      <td>1</td>\n      <td>0</td>\n      <td>92888.52</td>\n      <td>1</td>\n    </tr>\n    <tr>\n      <th>9999</th>\n      <td>10000</td>\n      <td>15628319</td>\n      <td>Walker</td>\n      <td>792</td>\n      <td>France</td>\n      <td>Female</td>\n      <td>28</td>\n      <td>4</td>\n      <td>130142.79</td>\n      <td>1</td>\n      <td>1</td>\n      <td>0</td>\n      <td>38190.78</td>\n      <td>0</td>\n    </tr>\n  </tbody>\n</table>\n<p>10000 rows × 14 columns</p>\n</div>"
     },
     "execution_count": 99,
     "metadata": {},
     "output_type": "execute_result"
    }
   ],
   "source": [
    "dataset"
   ],
   "metadata": {
    "collapsed": false,
    "ExecuteTime": {
     "end_time": "2024-04-02T15:44:04.898324Z",
     "start_time": "2024-04-02T15:44:04.891232Z"
    }
   },
   "id": "cad9160950160335",
   "execution_count": 99
  },
  {
   "cell_type": "code",
   "outputs": [
    {
     "data": {
      "text/plain": "array([[619, 'France', 'Female', ..., 1, 1, 101348.88],\n       [608, 'Spain', 'Female', ..., 0, 1, 112542.58],\n       [502, 'France', 'Female', ..., 1, 0, 113931.57],\n       ...,\n       [709, 'France', 'Female', ..., 0, 1, 42085.58],\n       [772, 'Germany', 'Male', ..., 1, 0, 92888.52],\n       [792, 'France', 'Female', ..., 1, 0, 38190.78]], dtype=object)"
     },
     "execution_count": 100,
     "metadata": {},
     "output_type": "execute_result"
    }
   ],
   "source": [
    "X = dataset.iloc[:, 3:-1].values\n",
    "X"
   ],
   "metadata": {
    "collapsed": false,
    "ExecuteTime": {
     "end_time": "2024-04-02T15:44:04.903178Z",
     "start_time": "2024-04-02T15:44:04.899085Z"
    }
   },
   "id": "9e6c1773b29c8c8a",
   "execution_count": 100
  },
  {
   "cell_type": "code",
   "outputs": [
    {
     "data": {
      "text/plain": "array([1, 0, 1, ..., 1, 1, 0])"
     },
     "execution_count": 101,
     "metadata": {},
     "output_type": "execute_result"
    }
   ],
   "source": [
    "y = dataset.iloc[:, -1].values\n",
    "y"
   ],
   "metadata": {
    "collapsed": false,
    "ExecuteTime": {
     "end_time": "2024-04-02T15:44:04.907016Z",
     "start_time": "2024-04-02T15:44:04.904460Z"
    }
   },
   "id": "50734f319eb82adc",
   "execution_count": 101
  },
  {
   "cell_type": "markdown",
   "source": [
    "### Encoding categorical data"
   ],
   "metadata": {
    "collapsed": false
   },
   "id": "ababe328051ae352"
  },
  {
   "cell_type": "code",
   "outputs": [],
   "source": [
    "# Encode gender\n",
    "from sklearn.preprocessing import LabelEncoder\n",
    "le = LabelEncoder()\n",
    "X[:, 2] = le.fit_transform(X[:, 2])"
   ],
   "metadata": {
    "collapsed": false,
    "ExecuteTime": {
     "end_time": "2024-04-02T15:44:04.910274Z",
     "start_time": "2024-04-02T15:44:04.907577Z"
    }
   },
   "id": "6843d0cc4eaefaec",
   "execution_count": 102
  },
  {
   "cell_type": "code",
   "outputs": [
    {
     "data": {
      "text/plain": "array([[619, 'France', 0, ..., 1, 1, 101348.88],\n       [608, 'Spain', 0, ..., 0, 1, 112542.58],\n       [502, 'France', 0, ..., 1, 0, 113931.57],\n       ...,\n       [709, 'France', 0, ..., 0, 1, 42085.58],\n       [772, 'Germany', 1, ..., 1, 0, 92888.52],\n       [792, 'France', 0, ..., 1, 0, 38190.78]], dtype=object)"
     },
     "execution_count": 103,
     "metadata": {},
     "output_type": "execute_result"
    }
   ],
   "source": [
    "X"
   ],
   "metadata": {
    "collapsed": false,
    "ExecuteTime": {
     "end_time": "2024-04-02T15:44:04.912895Z",
     "start_time": "2024-04-02T15:44:04.910865Z"
    }
   },
   "id": "81de1492150e1b8e",
   "execution_count": 103
  },
  {
   "cell_type": "code",
   "outputs": [],
   "source": [
    "# Encode Geography\n",
    "from sklearn.compose import ColumnTransformer\n",
    "from sklearn.preprocessing import OneHotEncoder\n",
    "ct = ColumnTransformer(transformers=[('encoder', OneHotEncoder(), [1])], remainder='passthrough')\n",
    "X = np.array(ct.fit_transform(X))"
   ],
   "metadata": {
    "collapsed": false,
    "ExecuteTime": {
     "end_time": "2024-04-02T15:44:04.919286Z",
     "start_time": "2024-04-02T15:44:04.913468Z"
    }
   },
   "id": "f79755983261ee0d",
   "execution_count": 104
  },
  {
   "cell_type": "markdown",
   "source": [
    "### Training and Test Sets"
   ],
   "metadata": {
    "collapsed": false
   },
   "id": "24696ed2731fab1"
  },
  {
   "cell_type": "code",
   "outputs": [],
   "source": [
    "from sklearn.model_selection import train_test_split\n",
    "X_train, X_test, y_train, y_test = train_test_split(X, y, test_size=0.2, random_state=0)"
   ],
   "metadata": {
    "collapsed": false,
    "ExecuteTime": {
     "end_time": "2024-04-02T15:44:04.923264Z",
     "start_time": "2024-04-02T15:44:04.920038Z"
    }
   },
   "id": "96fce740bb5dad8",
   "execution_count": 105
  },
  {
   "cell_type": "markdown",
   "source": [
    "### Feature Scaling"
   ],
   "metadata": {
    "collapsed": false
   },
   "id": "826df99eaf53f310"
  },
  {
   "cell_type": "code",
   "outputs": [],
   "source": [
    "from sklearn.preprocessing import StandardScaler\n",
    "sc = StandardScaler()\n",
    "X_train = sc.fit_transform(X_train)\n",
    "X_test = sc.transform(X_test)"
   ],
   "metadata": {
    "collapsed": false,
    "ExecuteTime": {
     "end_time": "2024-04-02T15:44:04.932062Z",
     "start_time": "2024-04-02T15:44:04.924Z"
    }
   },
   "id": "d8e8c505da3b3a68",
   "execution_count": 106
  },
  {
   "cell_type": "markdown",
   "source": [
    "# Build the ANN"
   ],
   "metadata": {
    "collapsed": false
   },
   "id": "a56e0b8fab1f4d15"
  },
  {
   "cell_type": "code",
   "outputs": [],
   "source": [
    "# Init\n",
    "ann = tf.keras.models.Sequential()"
   ],
   "metadata": {
    "collapsed": false,
    "ExecuteTime": {
     "end_time": "2024-04-02T15:44:04.936877Z",
     "start_time": "2024-04-02T15:44:04.933828Z"
    }
   },
   "id": "8b8548e0a1ab48f8",
   "execution_count": 107
  },
  {
   "cell_type": "code",
   "outputs": [],
   "source": [
    "# Input layer and first hidden layer\n",
    "ann.add(tf.keras.layers.Dense(units=6, activation='relu'))"
   ],
   "metadata": {
    "collapsed": false,
    "ExecuteTime": {
     "end_time": "2024-04-02T15:44:04.939785Z",
     "start_time": "2024-04-02T15:44:04.937425Z"
    }
   },
   "id": "6f0200ee8ea57328",
   "execution_count": 108
  },
  {
   "cell_type": "code",
   "outputs": [],
   "source": [
    "# Second hidden layer\n",
    "ann.add(tf.keras.layers.Dense(units=6, activation='relu'))"
   ],
   "metadata": {
    "collapsed": false,
    "ExecuteTime": {
     "end_time": "2024-04-02T15:44:04.942567Z",
     "start_time": "2024-04-02T15:44:04.940480Z"
    }
   },
   "id": "6c1dc5620cbb7f35",
   "execution_count": 109
  },
  {
   "cell_type": "code",
   "outputs": [],
   "source": [
    "# Output layer\n",
    "ann.add(tf.keras.layers.Dense(units=1, activation='sigmoid'))"
   ],
   "metadata": {
    "collapsed": false,
    "ExecuteTime": {
     "end_time": "2024-04-02T15:44:04.945364Z",
     "start_time": "2024-04-02T15:44:04.943187Z"
    }
   },
   "id": "adfe1f7610022fc3",
   "execution_count": 110
  },
  {
   "cell_type": "markdown",
   "source": [
    "# Train the ANN"
   ],
   "metadata": {
    "collapsed": false
   },
   "id": "714f87ba9f7281d8"
  },
  {
   "cell_type": "code",
   "outputs": [],
   "source": [
    "ann.compile(optimizer='adam', loss='binary_crossentropy', metrics=['accuracy'])"
   ],
   "metadata": {
    "collapsed": false,
    "ExecuteTime": {
     "end_time": "2024-04-02T15:44:04.950687Z",
     "start_time": "2024-04-02T15:44:04.945868Z"
    }
   },
   "id": "a6ddbbcdb6c381eb",
   "execution_count": 111
  },
  {
   "cell_type": "code",
   "outputs": [
    {
     "name": "stdout",
     "output_type": "stream",
     "text": [
      "Epoch 1/50\n",
      "250/250 [==============================] - 0s 322us/step - loss: 0.6618 - accuracy: 0.6301\n",
      "Epoch 2/50\n",
      "250/250 [==============================] - 0s 302us/step - loss: 0.5118 - accuracy: 0.7958\n",
      "Epoch 3/50\n",
      "250/250 [==============================] - 0s 296us/step - loss: 0.4547 - accuracy: 0.7961\n",
      "Epoch 4/50\n",
      "250/250 [==============================] - 0s 296us/step - loss: 0.4262 - accuracy: 0.8174\n",
      "Epoch 5/50\n",
      "250/250 [==============================] - 0s 299us/step - loss: 0.4144 - accuracy: 0.8242\n",
      "Epoch 6/50\n",
      "250/250 [==============================] - 0s 296us/step - loss: 0.4075 - accuracy: 0.8257\n",
      "Epoch 7/50\n",
      "250/250 [==============================] - 0s 295us/step - loss: 0.4023 - accuracy: 0.8276\n",
      "Epoch 8/50\n",
      "250/250 [==============================] - 0s 295us/step - loss: 0.3979 - accuracy: 0.8298\n",
      "Epoch 9/50\n",
      "250/250 [==============================] - 0s 293us/step - loss: 0.3942 - accuracy: 0.8317\n",
      "Epoch 10/50\n",
      "250/250 [==============================] - 0s 292us/step - loss: 0.3913 - accuracy: 0.8320\n",
      "Epoch 11/50\n",
      "250/250 [==============================] - 0s 294us/step - loss: 0.3885 - accuracy: 0.8330\n",
      "Epoch 12/50\n",
      "250/250 [==============================] - 0s 294us/step - loss: 0.3858 - accuracy: 0.8329\n",
      "Epoch 13/50\n",
      "250/250 [==============================] - 0s 293us/step - loss: 0.3830 - accuracy: 0.8336\n",
      "Epoch 14/50\n",
      "250/250 [==============================] - 0s 291us/step - loss: 0.3803 - accuracy: 0.8326\n",
      "Epoch 15/50\n",
      "250/250 [==============================] - 0s 293us/step - loss: 0.3780 - accuracy: 0.8330\n",
      "Epoch 16/50\n",
      "250/250 [==============================] - 0s 292us/step - loss: 0.3753 - accuracy: 0.8328\n",
      "Epoch 17/50\n",
      "250/250 [==============================] - 0s 293us/step - loss: 0.3727 - accuracy: 0.8341\n",
      "Epoch 18/50\n",
      "250/250 [==============================] - 0s 294us/step - loss: 0.3706 - accuracy: 0.8341\n",
      "Epoch 19/50\n",
      "250/250 [==============================] - 0s 293us/step - loss: 0.3684 - accuracy: 0.8344\n",
      "Epoch 20/50\n",
      "250/250 [==============================] - 0s 293us/step - loss: 0.3667 - accuracy: 0.8361\n",
      "Epoch 21/50\n",
      "250/250 [==============================] - 0s 293us/step - loss: 0.3651 - accuracy: 0.8472\n",
      "Epoch 22/50\n",
      "250/250 [==============================] - 0s 294us/step - loss: 0.3635 - accuracy: 0.8504\n",
      "Epoch 23/50\n",
      "250/250 [==============================] - 0s 297us/step - loss: 0.3623 - accuracy: 0.8515\n",
      "Epoch 24/50\n",
      "250/250 [==============================] - 0s 295us/step - loss: 0.3606 - accuracy: 0.8520\n",
      "Epoch 25/50\n",
      "250/250 [==============================] - 0s 298us/step - loss: 0.3598 - accuracy: 0.8539\n",
      "Epoch 26/50\n",
      "250/250 [==============================] - 0s 287us/step - loss: 0.3580 - accuracy: 0.8549\n",
      "Epoch 27/50\n",
      "250/250 [==============================] - 0s 311us/step - loss: 0.3574 - accuracy: 0.8556\n",
      "Epoch 28/50\n",
      "250/250 [==============================] - 0s 299us/step - loss: 0.3561 - accuracy: 0.8556\n",
      "Epoch 29/50\n",
      "250/250 [==============================] - 0s 295us/step - loss: 0.3550 - accuracy: 0.8559\n",
      "Epoch 30/50\n",
      "250/250 [==============================] - 0s 293us/step - loss: 0.3540 - accuracy: 0.8580\n",
      "Epoch 31/50\n",
      "250/250 [==============================] - 0s 293us/step - loss: 0.3534 - accuracy: 0.8590\n",
      "Epoch 32/50\n",
      "250/250 [==============================] - 0s 294us/step - loss: 0.3521 - accuracy: 0.8590\n",
      "Epoch 33/50\n",
      "250/250 [==============================] - 0s 292us/step - loss: 0.3517 - accuracy: 0.8601\n",
      "Epoch 34/50\n",
      "250/250 [==============================] - 0s 299us/step - loss: 0.3513 - accuracy: 0.8586\n",
      "Epoch 35/50\n",
      "250/250 [==============================] - 0s 294us/step - loss: 0.3504 - accuracy: 0.8615\n",
      "Epoch 36/50\n",
      "250/250 [==============================] - 0s 294us/step - loss: 0.3500 - accuracy: 0.8600\n",
      "Epoch 37/50\n",
      "250/250 [==============================] - 0s 290us/step - loss: 0.3494 - accuracy: 0.8605\n",
      "Epoch 38/50\n",
      "250/250 [==============================] - 0s 294us/step - loss: 0.3483 - accuracy: 0.8601\n",
      "Epoch 39/50\n",
      "250/250 [==============================] - 0s 311us/step - loss: 0.3482 - accuracy: 0.8624\n",
      "Epoch 40/50\n",
      "250/250 [==============================] - 0s 294us/step - loss: 0.3475 - accuracy: 0.8630\n",
      "Epoch 41/50\n",
      "250/250 [==============================] - 0s 295us/step - loss: 0.3472 - accuracy: 0.8625\n",
      "Epoch 42/50\n",
      "250/250 [==============================] - 0s 296us/step - loss: 0.3470 - accuracy: 0.8625\n",
      "Epoch 43/50\n",
      "250/250 [==============================] - 0s 296us/step - loss: 0.3467 - accuracy: 0.8637\n",
      "Epoch 44/50\n",
      "250/250 [==============================] - 0s 296us/step - loss: 0.3458 - accuracy: 0.8625\n",
      "Epoch 45/50\n",
      "250/250 [==============================] - 0s 298us/step - loss: 0.3456 - accuracy: 0.8633\n",
      "Epoch 46/50\n",
      "250/250 [==============================] - 0s 293us/step - loss: 0.3456 - accuracy: 0.8622\n",
      "Epoch 47/50\n",
      "250/250 [==============================] - 0s 305us/step - loss: 0.3444 - accuracy: 0.8624\n",
      "Epoch 48/50\n",
      "250/250 [==============================] - 0s 322us/step - loss: 0.3445 - accuracy: 0.8631\n",
      "Epoch 49/50\n",
      "250/250 [==============================] - 0s 307us/step - loss: 0.3444 - accuracy: 0.8626\n",
      "Epoch 50/50\n",
      "250/250 [==============================] - 0s 294us/step - loss: 0.3437 - accuracy: 0.8631\n"
     ]
    },
    {
     "data": {
      "text/plain": "<keras.callbacks.History at 0x2a6949110>"
     },
     "execution_count": 112,
     "metadata": {},
     "output_type": "execute_result"
    }
   ],
   "source": [
    "ann.fit(X_train, y_train, batch_size=32, epochs=50)"
   ],
   "metadata": {
    "collapsed": false,
    "ExecuteTime": {
     "end_time": "2024-04-02T15:44:08.891506Z",
     "start_time": "2024-04-02T15:44:04.953715Z"
    }
   },
   "id": "7607f64c738e6714",
   "execution_count": 112
  },
  {
   "cell_type": "markdown",
   "source": [
    "# Make predictions and evaluate model"
   ],
   "metadata": {
    "collapsed": false
   },
   "id": "536df7cbb152efe7"
  },
  {
   "cell_type": "markdown",
   "source": [
    "Geography: France\n",
    "\n",
    "Credit Score: 600\n",
    "\n",
    "Gender: Male\n",
    "\n",
    "Age: 40 years old\n",
    "\n",
    "Tenure: 3 years\n",
    "\n",
    "Balance: \\$ 60000\n",
    "\n",
    "Number of Products: 2\n",
    "\n",
    "Does this customer have a credit card ? Yes\n",
    "\n",
    "Is this customer an Active Member: Yes\n",
    "\n",
    "Estimated Salary: \\$ 50000\n",
    "\n",
    "So, should we say goodbye to that customer ?"
   ],
   "metadata": {
    "collapsed": false
   },
   "id": "66b7ef5be9a7e4cc"
  },
  {
   "cell_type": "code",
   "outputs": [
    {
     "name": "stdout",
     "output_type": "stream",
     "text": [
      "1/1 [==============================] - 0s 10ms/step\n",
      "[[False]]\n"
     ]
    }
   ],
   "source": [
    "print(ann.predict(sc.transform([[1, 0, 0, 600, 1, 40, 3, 60000, 2, 1, 1, 50000]])) > 0.5)"
   ],
   "metadata": {
    "collapsed": false,
    "ExecuteTime": {
     "end_time": "2024-04-02T15:51:45.512778Z",
     "start_time": "2024-04-02T15:51:45.477333Z"
    }
   },
   "id": "66b9d63b3cec5721",
   "execution_count": 120
  },
  {
   "cell_type": "markdown",
   "source": [
    "### Predicting the Test set results"
   ],
   "metadata": {
    "collapsed": false
   },
   "id": "e624f58c88172345"
  },
  {
   "cell_type": "code",
   "outputs": [
    {
     "name": "stdout",
     "output_type": "stream",
     "text": [
      "63/63 [==============================] - 0s 267us/step\n",
      "[[0 0]\n",
      " [0 1]\n",
      " [0 0]\n",
      " ...\n",
      " [0 0]\n",
      " [0 0]\n",
      " [0 0]]\n"
     ]
    }
   ],
   "source": [
    "y_pred = ann.predict(X_test)\n",
    "y_pred = (y_pred > 0.5)\n",
    "print(np.concatenate((y_pred.reshape(len(y_pred),1), y_test.reshape(len(y_test),1)),1))"
   ],
   "metadata": {
    "collapsed": false,
    "ExecuteTime": {
     "end_time": "2024-04-02T15:52:42.316542Z",
     "start_time": "2024-04-02T15:52:42.228294Z"
    }
   },
   "id": "a9d4b860c2ad95c7",
   "execution_count": 121
  },
  {
   "cell_type": "code",
   "outputs": [],
   "source": [],
   "metadata": {
    "collapsed": false
   },
   "id": "6b6d1cfb4fb3a0a9"
  }
 ],
 "metadata": {
  "kernelspec": {
   "display_name": "Python 3",
   "language": "python",
   "name": "python3"
  },
  "language_info": {
   "codemirror_mode": {
    "name": "ipython",
    "version": 2
   },
   "file_extension": ".py",
   "mimetype": "text/x-python",
   "name": "python",
   "nbconvert_exporter": "python",
   "pygments_lexer": "ipython2",
   "version": "2.7.6"
  }
 },
 "nbformat": 4,
 "nbformat_minor": 5
}
