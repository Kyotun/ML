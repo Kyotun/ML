{
 "cells": [
  {
   "cell_type": "markdown",
   "source": [
    "# Import the libs"
   ],
   "metadata": {
    "collapsed": false
   },
   "id": "75d609eae24ed6ba"
  },
  {
   "cell_type": "code",
   "execution_count": 27,
   "id": "initial_id",
   "metadata": {
    "collapsed": true,
    "ExecuteTime": {
     "end_time": "2024-04-02T23:25:55.123390Z",
     "start_time": "2024-04-02T23:25:55.120544Z"
    }
   },
   "outputs": [],
   "source": [
    "import numpy as np\n",
    "import pandas as pd\n",
    "import torch\n",
    "import torch.nn as nn\n",
    "import torch.nn.parallel\n",
    "import torch.optim as optim\n",
    "import torch.utils.data\n",
    "from torch.autograd import Variable"
   ]
  },
  {
   "cell_type": "markdown",
   "source": [
    "# Import the dataset"
   ],
   "metadata": {
    "collapsed": false
   },
   "id": "a150bffbf2fb1282"
  },
  {
   "cell_type": "code",
   "outputs": [],
   "source": [
    "# We won't be using this dataset.\n",
    "movies = pd.read_csv('data/ml-1m/movies.dat', sep = '::', header = None, engine = 'python', encoding = 'latin-1')\n",
    "users = pd.read_csv('data/ml-1m/users.dat', sep = '::', header = None, engine = 'python', encoding = 'latin-1')\n",
    "ratings = pd.read_csv('data/ml-1m/ratings.dat', sep = '::', header = None, engine = 'python', encoding = 'latin-1')"
   ],
   "metadata": {
    "collapsed": false,
    "ExecuteTime": {
     "end_time": "2024-04-02T23:25:57.632108Z",
     "start_time": "2024-04-02T23:25:55.139380Z"
    }
   },
   "id": "1dcdd98c98a3fe9",
   "execution_count": 28
  },
  {
   "cell_type": "markdown",
   "source": [
    "# Prepare the training & test set"
   ],
   "metadata": {
    "collapsed": false
   },
   "id": "a1ad2fb18b7cfa24"
  },
  {
   "cell_type": "code",
   "outputs": [],
   "source": [
    "training_set = pd.read_csv('data/ml-100k/u1.base', delimiter = '\\t')\n",
    "training_set = np.array(training_set, dtype = 'int')\n",
    "test_set = pd.read_csv('data/ml-100k/u1.test', delimiter = '\\t')\n",
    "test_set = np.array(test_set, dtype = 'int')"
   ],
   "metadata": {
    "collapsed": false,
    "ExecuteTime": {
     "end_time": "2024-04-02T23:25:57.656443Z",
     "start_time": "2024-04-02T23:25:57.633225Z"
    }
   },
   "id": "6c8f68bc2de39d19",
   "execution_count": 29
  },
  {
   "cell_type": "markdown",
   "source": [
    "# Get the number of users and movies"
   ],
   "metadata": {
    "collapsed": false
   },
   "id": "e58137d0e8ccf265"
  },
  {
   "cell_type": "code",
   "outputs": [
    {
     "data": {
      "text/plain": "943"
     },
     "execution_count": 30,
     "metadata": {},
     "output_type": "execute_result"
    }
   ],
   "source": [
    "nb_users = int(max(max(training_set[:, 0], ), max(test_set[:, 0])))\n",
    "nb_users"
   ],
   "metadata": {
    "collapsed": false,
    "ExecuteTime": {
     "end_time": "2024-04-02T23:25:57.662991Z",
     "start_time": "2024-04-02T23:25:57.657159Z"
    }
   },
   "id": "765aecff7f946d6a",
   "execution_count": 30
  },
  {
   "cell_type": "code",
   "outputs": [
    {
     "data": {
      "text/plain": "1682"
     },
     "execution_count": 31,
     "metadata": {},
     "output_type": "execute_result"
    }
   ],
   "source": [
    "nb_movies = int(max(max(training_set[:, 1], ), max(test_set[:, 1])))\n",
    "nb_movies"
   ],
   "metadata": {
    "collapsed": false,
    "ExecuteTime": {
     "end_time": "2024-04-02T23:25:57.670502Z",
     "start_time": "2024-04-02T23:25:57.664542Z"
    }
   },
   "id": "5bd533f9ff69b7ac",
   "execution_count": 31
  },
  {
   "cell_type": "markdown",
   "source": [
    "# Converting data"
   ],
   "metadata": {
    "collapsed": false
   },
   "id": "2b73880609b14b84"
  },
  {
   "cell_type": "code",
   "outputs": [],
   "source": [
    "def convert(data):\n",
    "  new_data = []\n",
    "  for id_users in range(1, nb_users + 1):\n",
    "    id_movies = data[:, 1] [data[:, 0] == id_users]\n",
    "    id_ratings = data[:, 2] [data[:, 0] == id_users]\n",
    "    ratings = np.zeros(nb_movies)\n",
    "    ratings[id_movies - 1] = id_ratings\n",
    "    new_data.append(list(ratings))\n",
    "  return new_data\n",
    "training_set = convert(training_set)\n",
    "test_set = convert(test_set)"
   ],
   "metadata": {
    "collapsed": false,
    "ExecuteTime": {
     "end_time": "2024-04-02T23:25:57.858588Z",
     "start_time": "2024-04-02T23:25:57.671416Z"
    }
   },
   "id": "1f0fc04cca6f617b",
   "execution_count": 32
  },
  {
   "cell_type": "markdown",
   "source": [
    "# Conver data into torch tensors"
   ],
   "metadata": {
    "collapsed": false
   },
   "id": "71db721b19e28254"
  },
  {
   "cell_type": "code",
   "outputs": [],
   "source": [
    "training_set = torch.FloatTensor(training_set)\n",
    "test_set = torch.FloatTensor(test_set)"
   ],
   "metadata": {
    "collapsed": false,
    "ExecuteTime": {
     "end_time": "2024-04-02T23:25:58.034087Z",
     "start_time": "2024-04-02T23:25:57.859580Z"
    }
   },
   "id": "2a29748085c75aa4",
   "execution_count": 33
  },
  {
   "cell_type": "markdown",
   "source": [
    "# Ratings into binary ratings"
   ],
   "metadata": {
    "collapsed": false
   },
   "id": "d707b6de2509c1a0"
  },
  {
   "cell_type": "code",
   "outputs": [],
   "source": [
    "training_set[training_set == 0] = -1\n",
    "training_set[training_set == 1] = 0\n",
    "training_set[training_set == 2] = 0\n",
    "training_set[training_set >= 3] = 1\n",
    "test_set[test_set == 0] = -1\n",
    "test_set[test_set == 1] = 0\n",
    "test_set[test_set == 2] = 0\n",
    "test_set[test_set >= 3] = 1"
   ],
   "metadata": {
    "collapsed": false,
    "ExecuteTime": {
     "end_time": "2024-04-02T23:25:58.043033Z",
     "start_time": "2024-04-02T23:25:58.034761Z"
    }
   },
   "id": "e0666df5ab8a2e10",
   "execution_count": 34
  },
  {
   "cell_type": "markdown",
   "source": [
    "# Creating the architecture of NN"
   ],
   "metadata": {
    "collapsed": false
   },
   "id": "b4f5dd4dabb29145"
  },
  {
   "cell_type": "code",
   "outputs": [],
   "source": [
    "class RBM():\n",
    "  def __init__(self, nv, nh):\n",
    "    self.W = torch.randn(nh, nv)\n",
    "    self.a = torch.randn(1, nh)\n",
    "    self.b = torch.randn(1, nv)"
   ],
   "metadata": {
    "collapsed": false,
    "ExecuteTime": {
     "end_time": "2024-04-02T23:27:08.890752Z",
     "start_time": "2024-04-02T23:27:08.878654Z"
    }
   },
   "id": "4ad541012d7cf7bd",
   "execution_count": 35
  },
  {
   "cell_type": "code",
   "outputs": [],
   "source": [],
   "metadata": {
    "collapsed": false
   },
   "id": "61d70aed48c56ef0"
  }
 ],
 "metadata": {
  "kernelspec": {
   "display_name": "Python 3",
   "language": "python",
   "name": "python3"
  },
  "language_info": {
   "codemirror_mode": {
    "name": "ipython",
    "version": 2
   },
   "file_extension": ".py",
   "mimetype": "text/x-python",
   "name": "python",
   "nbconvert_exporter": "python",
   "pygments_lexer": "ipython2",
   "version": "2.7.6"
  }
 },
 "nbformat": 4,
 "nbformat_minor": 5
}
