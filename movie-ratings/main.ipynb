{
 "cells": [
  {
   "cell_type": "markdown",
   "source": [
    "# Import the libs"
   ],
   "metadata": {
    "collapsed": false
   },
   "id": "75d609eae24ed6ba"
  },
  {
   "cell_type": "code",
   "execution_count": 9,
   "id": "initial_id",
   "metadata": {
    "collapsed": true,
    "ExecuteTime": {
     "end_time": "2024-04-02T22:55:09.994731Z",
     "start_time": "2024-04-02T22:55:09.991354Z"
    }
   },
   "outputs": [],
   "source": [
    "import numpy as np\n",
    "import pandas as pd\n",
    "import torch\n",
    "import torch.nn as nn\n",
    "import torch.nn.parallel\n",
    "import torch.optim as optim\n",
    "import torch.utils.data\n",
    "from torch.autograd import Variable"
   ]
  },
  {
   "cell_type": "markdown",
   "source": [
    "# Import the dataset"
   ],
   "metadata": {
    "collapsed": false
   },
   "id": "a150bffbf2fb1282"
  },
  {
   "cell_type": "code",
   "outputs": [],
   "source": [
    "# We won't be using this dataset.\n",
    "movies = pd.read_csv('data/ml-1m/movies.dat', sep = '::', header = None, engine = 'python', encoding = 'latin-1')\n",
    "users = pd.read_csv('data/ml-1m/users.dat', sep = '::', header = None, engine = 'python', encoding = 'latin-1')\n",
    "ratings = pd.read_csv('data/ml-1m/ratings.dat', sep = '::', header = None, engine = 'python', encoding = 'latin-1')"
   ],
   "metadata": {
    "collapsed": false,
    "ExecuteTime": {
     "end_time": "2024-04-02T22:55:12.483083Z",
     "start_time": "2024-04-02T22:55:10.014681Z"
    }
   },
   "id": "1dcdd98c98a3fe9",
   "execution_count": 10
  },
  {
   "cell_type": "markdown",
   "source": [
    "# Prepare the training & test set"
   ],
   "metadata": {
    "collapsed": false
   },
   "id": "a1ad2fb18b7cfa24"
  },
  {
   "cell_type": "code",
   "outputs": [],
   "source": [
    "training_set = pd.read_csv('data/ml-100k/u1.base', delimiter = '\\t')\n",
    "training_set = np.array(training_set, dtype = 'int')\n",
    "test_set = pd.read_csv('data/ml-100k/u1.test', delimiter = '\\t')\n",
    "test_set = np.array(test_set, dtype = 'int')"
   ],
   "metadata": {
    "collapsed": false,
    "ExecuteTime": {
     "end_time": "2024-04-02T22:55:12.505803Z",
     "start_time": "2024-04-02T22:55:12.484283Z"
    }
   },
   "id": "6c8f68bc2de39d19",
   "execution_count": 11
  }
 ],
 "metadata": {
  "kernelspec": {
   "display_name": "Python 3",
   "language": "python",
   "name": "python3"
  },
  "language_info": {
   "codemirror_mode": {
    "name": "ipython",
    "version": 2
   },
   "file_extension": ".py",
   "mimetype": "text/x-python",
   "name": "python",
   "nbconvert_exporter": "python",
   "pygments_lexer": "ipython2",
   "version": "2.7.6"
  }
 },
 "nbformat": 4,
 "nbformat_minor": 5
}
