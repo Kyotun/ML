{
 "cells": [
  {
   "cell_type": "markdown",
   "source": [
    "# Import the libs"
   ],
   "metadata": {
    "collapsed": false
   },
   "id": "75d609eae24ed6ba"
  },
  {
   "cell_type": "code",
   "execution_count": 12,
   "id": "initial_id",
   "metadata": {
    "collapsed": true,
    "ExecuteTime": {
     "end_time": "2024-04-04T08:35:50.638288Z",
     "start_time": "2024-04-04T08:35:50.636229Z"
    }
   },
   "outputs": [],
   "source": [
    "import numpy as np\n",
    "import pandas as pd\n",
    "import torch\n",
    "import torch.nn as nn\n",
    "import torch.nn.parallel\n",
    "import torch.optim as optim\n",
    "import torch.utils.data\n",
    "from torch.autograd import Variable"
   ]
  },
  {
   "cell_type": "markdown",
   "source": [
    "# Import the dataset"
   ],
   "metadata": {
    "collapsed": false
   },
   "id": "a150bffbf2fb1282"
  },
  {
   "cell_type": "code",
   "outputs": [],
   "source": [
    "# We won't be using this dataset."
   ],
   "metadata": {
    "collapsed": false,
    "ExecuteTime": {
     "end_time": "2024-04-04T08:35:50.717387Z",
     "start_time": "2024-04-04T08:35:50.715728Z"
    }
   },
   "id": "1c9126ad9c2e3b5e",
   "execution_count": 13
  },
  {
   "cell_type": "code",
   "outputs": [
    {
     "data": {
      "text/plain": "         0                                   1                             2\n0        1                    Toy Story (1995)   Animation|Children's|Comedy\n1        2                      Jumanji (1995)  Adventure|Children's|Fantasy\n2        3             Grumpier Old Men (1995)                Comedy|Romance\n3        4            Waiting to Exhale (1995)                  Comedy|Drama\n4        5  Father of the Bride Part II (1995)                        Comedy\n...    ...                                 ...                           ...\n3878  3948             Meet the Parents (2000)                        Comedy\n3879  3949          Requiem for a Dream (2000)                         Drama\n3880  3950                    Tigerland (2000)                         Drama\n3881  3951             Two Family House (2000)                         Drama\n3882  3952               Contender, The (2000)                Drama|Thriller\n\n[3883 rows x 3 columns]",
      "text/html": "<div>\n<style scoped>\n    .dataframe tbody tr th:only-of-type {\n        vertical-align: middle;\n    }\n\n    .dataframe tbody tr th {\n        vertical-align: top;\n    }\n\n    .dataframe thead th {\n        text-align: right;\n    }\n</style>\n<table border=\"1\" class=\"dataframe\">\n  <thead>\n    <tr style=\"text-align: right;\">\n      <th></th>\n      <th>0</th>\n      <th>1</th>\n      <th>2</th>\n    </tr>\n  </thead>\n  <tbody>\n    <tr>\n      <th>0</th>\n      <td>1</td>\n      <td>Toy Story (1995)</td>\n      <td>Animation|Children's|Comedy</td>\n    </tr>\n    <tr>\n      <th>1</th>\n      <td>2</td>\n      <td>Jumanji (1995)</td>\n      <td>Adventure|Children's|Fantasy</td>\n    </tr>\n    <tr>\n      <th>2</th>\n      <td>3</td>\n      <td>Grumpier Old Men (1995)</td>\n      <td>Comedy|Romance</td>\n    </tr>\n    <tr>\n      <th>3</th>\n      <td>4</td>\n      <td>Waiting to Exhale (1995)</td>\n      <td>Comedy|Drama</td>\n    </tr>\n    <tr>\n      <th>4</th>\n      <td>5</td>\n      <td>Father of the Bride Part II (1995)</td>\n      <td>Comedy</td>\n    </tr>\n    <tr>\n      <th>...</th>\n      <td>...</td>\n      <td>...</td>\n      <td>...</td>\n    </tr>\n    <tr>\n      <th>3878</th>\n      <td>3948</td>\n      <td>Meet the Parents (2000)</td>\n      <td>Comedy</td>\n    </tr>\n    <tr>\n      <th>3879</th>\n      <td>3949</td>\n      <td>Requiem for a Dream (2000)</td>\n      <td>Drama</td>\n    </tr>\n    <tr>\n      <th>3880</th>\n      <td>3950</td>\n      <td>Tigerland (2000)</td>\n      <td>Drama</td>\n    </tr>\n    <tr>\n      <th>3881</th>\n      <td>3951</td>\n      <td>Two Family House (2000)</td>\n      <td>Drama</td>\n    </tr>\n    <tr>\n      <th>3882</th>\n      <td>3952</td>\n      <td>Contender, The (2000)</td>\n      <td>Drama|Thriller</td>\n    </tr>\n  </tbody>\n</table>\n<p>3883 rows × 3 columns</p>\n</div>"
     },
     "execution_count": 14,
     "metadata": {},
     "output_type": "execute_result"
    }
   ],
   "source": [
    "# Some of the movies contains title and the columns seperated by ':' therefor sep='::'\n",
    "# Header=None, there are no column names\n",
    "# engine = python, to load the data correctly\n",
    "# encoding = 'latin-1', some of the movie titles contain special characters\n",
    "movies = pd.read_csv('data/ml-1m/movies.dat', sep = '::', header = None, engine = 'python', encoding = 'latin-1')\n",
    "movies"
   ],
   "metadata": {
    "collapsed": false,
    "ExecuteTime": {
     "end_time": "2024-04-04T08:35:50.751460Z",
     "start_time": "2024-04-04T08:35:50.741261Z"
    }
   },
   "id": "1dcdd98c98a3fe9",
   "execution_count": 14
  },
  {
   "cell_type": "code",
   "outputs": [
    {
     "data": {
      "text/plain": "         0  1   2   3      4\n0        1  F   1  10  48067\n1        2  M  56  16  70072\n2        3  M  25  15  55117\n3        4  M  45   7  02460\n4        5  M  25  20  55455\n...    ... ..  ..  ..    ...\n6035  6036  F  25  15  32603\n6036  6037  F  45   1  76006\n6037  6038  F  56   1  14706\n6038  6039  F  45   0  01060\n6039  6040  M  25   6  11106\n\n[6040 rows x 5 columns]",
      "text/html": "<div>\n<style scoped>\n    .dataframe tbody tr th:only-of-type {\n        vertical-align: middle;\n    }\n\n    .dataframe tbody tr th {\n        vertical-align: top;\n    }\n\n    .dataframe thead th {\n        text-align: right;\n    }\n</style>\n<table border=\"1\" class=\"dataframe\">\n  <thead>\n    <tr style=\"text-align: right;\">\n      <th></th>\n      <th>0</th>\n      <th>1</th>\n      <th>2</th>\n      <th>3</th>\n      <th>4</th>\n    </tr>\n  </thead>\n  <tbody>\n    <tr>\n      <th>0</th>\n      <td>1</td>\n      <td>F</td>\n      <td>1</td>\n      <td>10</td>\n      <td>48067</td>\n    </tr>\n    <tr>\n      <th>1</th>\n      <td>2</td>\n      <td>M</td>\n      <td>56</td>\n      <td>16</td>\n      <td>70072</td>\n    </tr>\n    <tr>\n      <th>2</th>\n      <td>3</td>\n      <td>M</td>\n      <td>25</td>\n      <td>15</td>\n      <td>55117</td>\n    </tr>\n    <tr>\n      <th>3</th>\n      <td>4</td>\n      <td>M</td>\n      <td>45</td>\n      <td>7</td>\n      <td>02460</td>\n    </tr>\n    <tr>\n      <th>4</th>\n      <td>5</td>\n      <td>M</td>\n      <td>25</td>\n      <td>20</td>\n      <td>55455</td>\n    </tr>\n    <tr>\n      <th>...</th>\n      <td>...</td>\n      <td>...</td>\n      <td>...</td>\n      <td>...</td>\n      <td>...</td>\n    </tr>\n    <tr>\n      <th>6035</th>\n      <td>6036</td>\n      <td>F</td>\n      <td>25</td>\n      <td>15</td>\n      <td>32603</td>\n    </tr>\n    <tr>\n      <th>6036</th>\n      <td>6037</td>\n      <td>F</td>\n      <td>45</td>\n      <td>1</td>\n      <td>76006</td>\n    </tr>\n    <tr>\n      <th>6037</th>\n      <td>6038</td>\n      <td>F</td>\n      <td>56</td>\n      <td>1</td>\n      <td>14706</td>\n    </tr>\n    <tr>\n      <th>6038</th>\n      <td>6039</td>\n      <td>F</td>\n      <td>45</td>\n      <td>0</td>\n      <td>01060</td>\n    </tr>\n    <tr>\n      <th>6039</th>\n      <td>6040</td>\n      <td>M</td>\n      <td>25</td>\n      <td>6</td>\n      <td>11106</td>\n    </tr>\n  </tbody>\n</table>\n<p>6040 rows × 5 columns</p>\n</div>"
     },
     "execution_count": 15,
     "metadata": {},
     "output_type": "execute_result"
    }
   ],
   "source": [
    "#First column -> UserID\n",
    "#Second column -> Gender\n",
    "#Third column -> Age\n",
    "#Fourth column -> Rated Movie Number\n",
    "#Fifth column -> zipcode\n",
    "users = pd.read_csv('data/ml-1m/users.dat', sep = '::', header = None, engine = 'python', encoding = 'latin-1')\n",
    "users"
   ],
   "metadata": {
    "collapsed": false,
    "ExecuteTime": {
     "end_time": "2024-04-04T08:35:50.768965Z",
     "start_time": "2024-04-04T08:35:50.753027Z"
    }
   },
   "id": "57e91f74f56aae2c",
   "execution_count": 15
  },
  {
   "cell_type": "code",
   "outputs": [
    {
     "data": {
      "text/plain": "            0     1  2          3\n0           1  1193  5  978300760\n1           1   661  3  978302109\n2           1   914  3  978301968\n3           1  3408  4  978300275\n4           1  2355  5  978824291\n...       ...   ... ..        ...\n1000204  6040  1091  1  956716541\n1000205  6040  1094  5  956704887\n1000206  6040   562  5  956704746\n1000207  6040  1096  4  956715648\n1000208  6040  1097  4  956715569\n\n[1000209 rows x 4 columns]",
      "text/html": "<div>\n<style scoped>\n    .dataframe tbody tr th:only-of-type {\n        vertical-align: middle;\n    }\n\n    .dataframe tbody tr th {\n        vertical-align: top;\n    }\n\n    .dataframe thead th {\n        text-align: right;\n    }\n</style>\n<table border=\"1\" class=\"dataframe\">\n  <thead>\n    <tr style=\"text-align: right;\">\n      <th></th>\n      <th>0</th>\n      <th>1</th>\n      <th>2</th>\n      <th>3</th>\n    </tr>\n  </thead>\n  <tbody>\n    <tr>\n      <th>0</th>\n      <td>1</td>\n      <td>1193</td>\n      <td>5</td>\n      <td>978300760</td>\n    </tr>\n    <tr>\n      <th>1</th>\n      <td>1</td>\n      <td>661</td>\n      <td>3</td>\n      <td>978302109</td>\n    </tr>\n    <tr>\n      <th>2</th>\n      <td>1</td>\n      <td>914</td>\n      <td>3</td>\n      <td>978301968</td>\n    </tr>\n    <tr>\n      <th>3</th>\n      <td>1</td>\n      <td>3408</td>\n      <td>4</td>\n      <td>978300275</td>\n    </tr>\n    <tr>\n      <th>4</th>\n      <td>1</td>\n      <td>2355</td>\n      <td>5</td>\n      <td>978824291</td>\n    </tr>\n    <tr>\n      <th>...</th>\n      <td>...</td>\n      <td>...</td>\n      <td>...</td>\n      <td>...</td>\n    </tr>\n    <tr>\n      <th>1000204</th>\n      <td>6040</td>\n      <td>1091</td>\n      <td>1</td>\n      <td>956716541</td>\n    </tr>\n    <tr>\n      <th>1000205</th>\n      <td>6040</td>\n      <td>1094</td>\n      <td>5</td>\n      <td>956704887</td>\n    </tr>\n    <tr>\n      <th>1000206</th>\n      <td>6040</td>\n      <td>562</td>\n      <td>5</td>\n      <td>956704746</td>\n    </tr>\n    <tr>\n      <th>1000207</th>\n      <td>6040</td>\n      <td>1096</td>\n      <td>4</td>\n      <td>956715648</td>\n    </tr>\n    <tr>\n      <th>1000208</th>\n      <td>6040</td>\n      <td>1097</td>\n      <td>4</td>\n      <td>956715569</td>\n    </tr>\n  </tbody>\n</table>\n<p>1000209 rows × 4 columns</p>\n</div>"
     },
     "execution_count": 16,
     "metadata": {},
     "output_type": "execute_result"
    }
   ],
   "source": [
    "# First column -> User IDs\n",
    "# Second column -> Movie IDs\n",
    "# Third column -> Rating in 1-5 stars\n",
    "# Fourth column -> Timestamps\n",
    "ratings = pd.read_csv('data/ml-1m/ratings.dat', sep = '::', header = None, engine = 'python', encoding = 'latin-1')\n",
    "ratings"
   ],
   "metadata": {
    "collapsed": false,
    "ExecuteTime": {
     "end_time": "2024-04-04T08:35:53.201252Z",
     "start_time": "2024-04-04T08:35:50.782140Z"
    }
   },
   "id": "598bd803c68224a0",
   "execution_count": 16
  },
  {
   "cell_type": "markdown",
   "source": [
    "# Prepare the training & test set"
   ],
   "metadata": {
    "collapsed": false
   },
   "id": "a1ad2fb18b7cfa24"
  },
  {
   "cell_type": "code",
   "outputs": [],
   "source": [
    "training_set = pd.read_csv('data/ml-100k/u1.base', delimiter = '\\t')\n",
    "# %80train - %20test\n",
    "# First column -> Users\n",
    "# Second column -> Movies\n",
    "# Third column -> Ratings\n",
    "# Fourth column -> Time stamps\n",
    "training_set = np.array(training_set, dtype = 'int')\n",
    "# We need arrays not dataframes"
   ],
   "metadata": {
    "collapsed": false,
    "ExecuteTime": {
     "end_time": "2024-04-04T08:35:53.219525Z",
     "start_time": "2024-04-04T08:35:53.202669Z"
    }
   },
   "id": "6c8f68bc2de39d19",
   "execution_count": 17
  },
  {
   "cell_type": "code",
   "outputs": [],
   "source": [
    "test_set = pd.read_csv('data/ml-100k/u1.test', delimiter = '\\t')\n",
    "test_set = np.array(test_set, dtype = 'int')"
   ],
   "metadata": {
    "collapsed": false,
    "ExecuteTime": {
     "end_time": "2024-04-04T08:35:53.226890Z",
     "start_time": "2024-04-04T08:35:53.220205Z"
    }
   },
   "id": "91c69533897c0ea1",
   "execution_count": 18
  },
  {
   "cell_type": "code",
   "outputs": [],
   "source": [
    "# Create two matrices\n",
    "# Same number of movies, users, columns, lines\n",
    "# Lines -> User IDs\n",
    "# Columns -> Movie IDS\n",
    "# Cells -> Ratings(if no rating, put zero)"
   ],
   "metadata": {
    "collapsed": false,
    "ExecuteTime": {
     "end_time": "2024-04-04T08:35:53.229959Z",
     "start_time": "2024-04-04T08:35:53.228458Z"
    }
   },
   "id": "16efa8055e070368",
   "execution_count": 19
  },
  {
   "cell_type": "markdown",
   "source": [
    "# Get the number of users and movies"
   ],
   "metadata": {
    "collapsed": false
   },
   "id": "e58137d0e8ccf265"
  },
  {
   "cell_type": "code",
   "outputs": [
    {
     "data": {
      "text/plain": "943"
     },
     "execution_count": 20,
     "metadata": {},
     "output_type": "execute_result"
    }
   ],
   "source": [
    "nb_users = int(max(max(training_set[:, 0], ), max(test_set[:, 0])))\n",
    "nb_users"
   ],
   "metadata": {
    "collapsed": false,
    "ExecuteTime": {
     "end_time": "2024-04-04T08:35:53.236240Z",
     "start_time": "2024-04-04T08:35:53.230669Z"
    }
   },
   "id": "765aecff7f946d6a",
   "execution_count": 20
  },
  {
   "cell_type": "code",
   "outputs": [
    {
     "data": {
      "text/plain": "1682"
     },
     "execution_count": 21,
     "metadata": {},
     "output_type": "execute_result"
    }
   ],
   "source": [
    "nb_movies = int(max(max(training_set[:, 1], ), max(test_set[:, 1])))\n",
    "nb_movies"
   ],
   "metadata": {
    "collapsed": false,
    "ExecuteTime": {
     "end_time": "2024-04-04T08:35:53.242307Z",
     "start_time": "2024-04-04T08:35:53.236921Z"
    }
   },
   "id": "5bd533f9ff69b7ac",
   "execution_count": 21
  },
  {
   "cell_type": "markdown",
   "source": [
    "# Converting data"
   ],
   "metadata": {
    "collapsed": false
   },
   "id": "2b73880609b14b84"
  },
  {
   "cell_type": "code",
   "outputs": [],
   "source": [
    "def convert(data):\n",
    "  new_data = []\n",
    "  for id_users in range(1, nb_users + 1):\n",
    "    id_movies = data[:, 1] [data[:, 0] == id_users]\n",
    "    id_ratings = data[:, 2] [data[:, 0] == id_users]\n",
    "    ratings = np.zeros(nb_movies)\n",
    "    ratings[id_movies - 1] = id_ratings # id_movies -1 cause MovieIDs start from 2\n",
    "    new_data.append(list(ratings))\n",
    "  return new_data\n",
    "training_set = convert(training_set)\n",
    "test_set = convert(test_set)"
   ],
   "metadata": {
    "collapsed": false,
    "ExecuteTime": {
     "end_time": "2024-04-04T08:35:53.424115Z",
     "start_time": "2024-04-04T08:35:53.242946Z"
    }
   },
   "id": "1f0fc04cca6f617b",
   "execution_count": 22
  },
  {
   "cell_type": "markdown",
   "source": [
    "# Conver data into torch tensors"
   ],
   "metadata": {
    "collapsed": false
   },
   "id": "71db721b19e28254"
  },
  {
   "cell_type": "code",
   "outputs": [],
   "source": [
    "training_set = torch.FloatTensor(training_set)\n",
    "test_set = torch.FloatTensor(test_set)"
   ],
   "metadata": {
    "collapsed": false,
    "ExecuteTime": {
     "end_time": "2024-04-04T08:35:53.598711Z",
     "start_time": "2024-04-04T08:35:53.424970Z"
    }
   },
   "id": "2a29748085c75aa4",
   "execution_count": 23
  },
  {
   "cell_type": "code",
   "outputs": [
    {
     "data": {
      "text/plain": "torch.Size([943, 1682])"
     },
     "execution_count": 24,
     "metadata": {},
     "output_type": "execute_result"
    }
   ],
   "source": [
    "training_set.shape"
   ],
   "metadata": {
    "collapsed": false,
    "ExecuteTime": {
     "end_time": "2024-04-04T08:35:53.601521Z",
     "start_time": "2024-04-04T08:35:53.599366Z"
    }
   },
   "id": "794d89b5ec579d9e",
   "execution_count": 24
  },
  {
   "cell_type": "code",
   "outputs": [
    {
     "data": {
      "text/plain": "torch.Size([943, 1682])"
     },
     "execution_count": 25,
     "metadata": {},
     "output_type": "execute_result"
    }
   ],
   "source": [
    "test_set.shape"
   ],
   "metadata": {
    "collapsed": false,
    "ExecuteTime": {
     "end_time": "2024-04-04T08:35:53.605554Z",
     "start_time": "2024-04-04T08:35:53.603343Z"
    }
   },
   "id": "3fbe096fb7341f0a",
   "execution_count": 25
  },
  {
   "cell_type": "markdown",
   "source": [
    "# Ratings into binary ratings"
   ],
   "metadata": {
    "collapsed": false
   },
   "id": "d707b6de2509c1a0"
  },
  {
   "cell_type": "code",
   "outputs": [],
   "source": [
    "training_set[training_set == 0] = -1\n",
    "training_set[training_set == 1] = 0\n",
    "training_set[training_set == 2] = 0\n",
    "training_set[training_set >= 3] = 1\n",
    "test_set[test_set == 0] = -1\n",
    "test_set[test_set == 1] = 0\n",
    "test_set[test_set == 2] = 0\n",
    "test_set[test_set >= 3] = 1"
   ],
   "metadata": {
    "collapsed": false,
    "ExecuteTime": {
     "end_time": "2024-04-04T08:35:53.615021Z",
     "start_time": "2024-04-04T08:35:53.606079Z"
    }
   },
   "id": "e0666df5ab8a2e10",
   "execution_count": 26
  },
  {
   "cell_type": "markdown",
   "source": [
    "# Creating the architecture of NN"
   ],
   "metadata": {
    "collapsed": false
   },
   "id": "b4f5dd4dabb29145"
  },
  {
   "cell_type": "code",
   "outputs": [],
   "source": [
    "# First function to make is the __init__, it happens in every class\n",
    "# We need to start with init\n",
    "# Init function to define parameters of the object that will be created once the class is made\n",
    "class RBM():\n",
    "  # self -> correspond to the obj. that will be created afterwords\n",
    "  # and variables of obj.\n",
    "  # nv -> number of visible nodes\n",
    "  # nh -> number of hidden nodes\n",
    "  def __init__(self, nv, nh):\n",
    "    # weights and biases will be optimized\n",
    "    # nh -> a = 100\n",
    "    # nv -> b = 1682\n",
    "    self.W = torch.randn(nh, nv) # init a tensor size of nh and nv -> axb = 100x1682\n",
    "    \n",
    "    # we had 2 biases\n",
    "    # first dimension is the batch, second dimension is the bias\n",
    "    self.a = torch.randn(1, nh) # bias for hidden, 1xa = 1x100\n",
    "    self.b = torch.randn(1, nv) # bias for visible 1xb = 1x1682\n",
    "      \n",
    "  # given visible nodes, compute probability of hidden nodes\n",
    "  # after the probability sample the activations of the hidden nodes\n",
    "  # example: if the prob is >= 0.7 , make it 1(Liked)\n",
    "  # given visible nodes, x -> visible neurons\n",
    "  def sample_h(self, x):\n",
    "    # x -> axb = 100x1682\n",
    "    # W -> axb = 100x1682\n",
    "    # W.t() -> bxa = 1682x100\n",
    "    # x*W.t() -> 100x100\n",
    "    wx = torch.mm(x, self.W.t()) # -> axa = 100x100\n",
    "    \n",
    "    # add the bias for hidden and be ready for activation\n",
    "    # make sure that the bias is applied to each line of the mini batch -> expand wx\n",
    "    # expand_as -> expand the self.a(1x100) so that it becomes the same dimension with wx (100x100)\n",
    "    activation = wx + self.a.expand_as(wx)\n",
    "    p_h_given_v = torch.sigmoid(activation)\n",
    "    \n",
    "    # we're making bernoulli RBM -> yes or no / 1 or 0\n",
    "    # return -> probability = p_h_given_v\n",
    "            #-> bernoulli values = torch.bernoulli(p_h_given_v)\n",
    "    return p_h_given_v, torch.bernoulli(p_h_given_v)\n",
    "  def sample_v(self, y):\n",
    "    # y -> axa = 100x100\n",
    "    # W -> axb = 100x1682\n",
    "    # we can direct multiply -> 100x100 * 100x1682 -> 100x1682\n",
    "    # don't need transpose\n",
    "    wy = torch.mm(y, self.W) # 100x1682\n",
    "    activation = wy + self.b.expand_as(wy)\n",
    "    p_v_given_h = torch.sigmoid(activation)\n",
    "    return p_v_given_h, torch.bernoulli(p_v_given_h)\n",
    "  \n",
    "  # v0 is the input vector contains the ratings of all the movies by one user, later we'll loop all users\n",
    "  # vk -> visible nodes after k samplings\n",
    "  # ph0 -> P(h(0)|v(0))\n",
    "  # phk -> P(h(k)|v(k))\n",
    "  def train(self, v0, vk, ph0, phk):\n",
    "    #ph0 and phk -> 100x100\n",
    "    #v0 and vk -> 100x1682\n",
    "    # 1682x100, at the beginning self.W was 100x1682, that's why we take .t()\n",
    "    self.W += (torch.mm(v0.t(), ph0) - torch.mm(vk.t(), phk)).t()\n",
    "    self.b += torch.sum((v0 - vk), 0)\n",
    "    self.a += torch.sum((ph0 - phk), 0)"
   ],
   "metadata": {
    "collapsed": false,
    "ExecuteTime": {
     "end_time": "2024-04-04T08:35:53.620669Z",
     "start_time": "2024-04-04T08:35:53.615844Z"
    }
   },
   "id": "4ad541012d7cf7bd",
   "execution_count": 27
  },
  {
   "cell_type": "code",
   "outputs": [],
   "source": [
    "nv = len(training_set[0]) # 1682 visible nodes\n",
    "\n",
    "#basically the number of features we want to detect\n",
    "nh = 100 #correspond to some features that are going to be detected by the RBM model\n",
    "\n",
    "# number of users by 1 iteration/epoch\n",
    "# it can be optimized\n",
    "batch_size = 100\n",
    "rbm = RBM(nv, nh)"
   ],
   "metadata": {
    "collapsed": false,
    "ExecuteTime": {
     "end_time": "2024-04-04T08:35:53.625705Z",
     "start_time": "2024-04-04T08:35:53.621452Z"
    }
   },
   "id": "61d70aed48c56ef0",
   "execution_count": 28
  },
  {
   "cell_type": "markdown",
   "source": [
    "# Training the RBM"
   ],
   "metadata": {
    "collapsed": false
   },
   "id": "62a44dbd9ee45b69"
  },
  {
   "cell_type": "code",
   "outputs": [
    {
     "name": "stdout",
     "output_type": "stream",
     "text": [
      "epoch: 1 loss: tensor(0.3368)\n",
      "epoch: 2 loss: tensor(0.2511)\n",
      "epoch: 3 loss: tensor(0.2457)\n",
      "epoch: 4 loss: tensor(0.2475)\n",
      "epoch: 5 loss: tensor(0.2508)\n",
      "epoch: 6 loss: tensor(0.2457)\n",
      "epoch: 7 loss: tensor(0.2516)\n",
      "epoch: 8 loss: tensor(0.2486)\n",
      "epoch: 9 loss: tensor(0.2461)\n",
      "epoch: 10 loss: tensor(0.2518)\n"
     ]
    }
   ],
   "source": [
    "nb_epoch = 10\n",
    "for epoch in range(1, nb_epoch + 1):\n",
    "  train_loss = 0\n",
    "  s = 0.\n",
    "  # As default, for loop has the step size 1, but we put batch_size\n",
    "  # first iteration id_user = 0, second -> 100, third -> 200, ...\n",
    "  for id_user in range(0, nb_users - batch_size, batch_size):\n",
    "      #input-> ratings of all the movies for the specific id_user\n",
    "      vk = training_set[id_user:id_user+batch_size] # 100x1682 fix\n",
    "      v0 = training_set[id_user:id_user+batch_size] # 100x1682 fix\n",
    "      \n",
    "      # get init probabilities\n",
    "      # to only get first element use x,_ =\n",
    "      # p(h0) given v(0)\n",
    "      ph0,_ = rbm.sample_h(v0) # 100x100\n",
    "      for k in range(10):\n",
    "          # update the visible and hidden nodes\n",
    "          # v0 is our fixed/init variable, don't touch it\n",
    "          _,hk = rbm.sample_h(vk) # 100x100\n",
    "          _,vk = rbm.sample_v(hk) # 100x1682\n",
    "          \n",
    "          # we changed the non-rated movies too, therefore we need to put their place the value -1 again\n",
    "          # put -1, where there is no rating, freeze these visible nodes\n",
    "          # use untouched variable v0\n",
    "          vk[v0<0] = v0[v0<0]\n",
    "          \n",
    "      # get the phk based on the trained vk,hk\n",
    "      phk,_ = rbm.sample_h(vk) # 100x100\n",
    "      \n",
    "      # update the weights and biases\n",
    "      rbm.train(v0, vk, ph0, phk) # 100x1682, 100x1682, 100x100, 100x100\n",
    "      \n",
    "      # update the train_loss through calculated weights\n",
    "      train_loss += torch.mean(torch.abs(v0[v0>=0] - vk[v0>=0]))\n",
    "      #train_loss += np.sqrt(torch.mean( (v0[v0>=0] - vk[v0>=0])**2 )) -> RMSE\n",
    "      s += 1.\n",
    "  print('epoch: ' + str(epoch) + ' loss: ' + str(train_loss/s))"
   ],
   "metadata": {
    "collapsed": false,
    "ExecuteTime": {
     "end_time": "2024-04-04T08:36:20.600913Z",
     "start_time": "2024-04-04T08:35:53.626613Z"
    }
   },
   "id": "4f5b315adde795be",
   "execution_count": 29
  },
  {
   "cell_type": "code",
   "outputs": [
    {
     "data": {
      "text/plain": "torch.Size([100, 1682])"
     },
     "execution_count": 30,
     "metadata": {},
     "output_type": "execute_result"
    }
   ],
   "source": [
    "vk.shape"
   ],
   "metadata": {
    "collapsed": false,
    "ExecuteTime": {
     "end_time": "2024-04-04T08:36:20.635355Z",
     "start_time": "2024-04-04T08:36:20.602665Z"
    }
   },
   "id": "316b6d3f81e7bc76",
   "execution_count": 30
  },
  {
   "cell_type": "code",
   "outputs": [
    {
     "data": {
      "text/plain": "torch.Size([100, 1682])"
     },
     "execution_count": 31,
     "metadata": {},
     "output_type": "execute_result"
    }
   ],
   "source": [
    "v0.shape"
   ],
   "metadata": {
    "collapsed": false,
    "ExecuteTime": {
     "end_time": "2024-04-04T08:36:20.674655Z",
     "start_time": "2024-04-04T08:36:20.640589Z"
    }
   },
   "id": "eeaf84305c307121",
   "execution_count": 31
  },
  {
   "cell_type": "code",
   "outputs": [
    {
     "data": {
      "text/plain": "torch.Size([100, 100])"
     },
     "execution_count": 32,
     "metadata": {},
     "output_type": "execute_result"
    }
   ],
   "source": [
    "hk.shape"
   ],
   "metadata": {
    "collapsed": false,
    "ExecuteTime": {
     "end_time": "2024-04-04T08:36:20.678808Z",
     "start_time": "2024-04-04T08:36:20.675860Z"
    }
   },
   "id": "ecf71a6ede51d82",
   "execution_count": 32
  },
  {
   "cell_type": "code",
   "outputs": [
    {
     "data": {
      "text/plain": "torch.Size([100, 100])"
     },
     "execution_count": 33,
     "metadata": {},
     "output_type": "execute_result"
    }
   ],
   "source": [
    "phk.shape"
   ],
   "metadata": {
    "collapsed": false,
    "ExecuteTime": {
     "end_time": "2024-04-04T08:36:20.682893Z",
     "start_time": "2024-04-04T08:36:20.679816Z"
    }
   },
   "id": "6e5569dfc3ebba31",
   "execution_count": 33
  },
  {
   "cell_type": "code",
   "outputs": [
    {
     "data": {
      "text/plain": "torch.Size([100, 100])"
     },
     "execution_count": 34,
     "metadata": {},
     "output_type": "execute_result"
    }
   ],
   "source": [
    "ph0.shape"
   ],
   "metadata": {
    "collapsed": false,
    "ExecuteTime": {
     "end_time": "2024-04-04T08:36:20.687964Z",
     "start_time": "2024-04-04T08:36:20.684020Z"
    }
   },
   "id": "10abb0d2a61d2904",
   "execution_count": 34
  },
  {
   "cell_type": "markdown",
   "source": [
    "# Testing the RBM"
   ],
   "metadata": {
    "collapsed": false
   },
   "id": "34c152500de62545"
  },
  {
   "cell_type": "code",
   "outputs": [
    {
     "name": "stdout",
     "output_type": "stream",
     "text": [
      " test_loss: tensor(0.2305)\n"
     ]
    }
   ],
   "source": [
    "test_loss = 0\n",
    "s = 0.\n",
    "for id_user in range(nb_users):\n",
    "    v = training_set[id_user:id_user+1] #1x1682\n",
    "    vt = test_set[id_user:id_user+1] # 1x1682\n",
    "    if len(vt[vt>=0]) >0:\n",
    "        _,h = rbm.sample_h(v) #1x100\n",
    "        _,v = rbm.sample_v(h) # 1x1682\n",
    "        test_loss += torch.mean(torch.abs(vt[vt>=0] - v[vt>=0]))\n",
    "        #test_loss += np.sqrt(torch.mean( (vt[vt>=0] - v[vt>=0])**2 )) -> RMSE\n",
    "        s += 1.\n",
    "print(' test_loss: ' + str(test_loss/s))"
   ],
   "metadata": {
    "collapsed": false,
    "ExecuteTime": {
     "end_time": "2024-04-04T08:36:20.852325Z",
     "start_time": "2024-04-04T08:36:20.690902Z"
    }
   },
   "id": "fd0350f917f8c5d6",
   "execution_count": 35
  },
  {
   "cell_type": "code",
   "outputs": [],
   "source": [],
   "metadata": {
    "collapsed": false,
    "ExecuteTime": {
     "end_time": "2024-04-04T08:36:20.855490Z",
     "start_time": "2024-04-04T08:36:20.853679Z"
    }
   },
   "id": "ef9938f2149b0a90",
   "execution_count": 35
  }
 ],
 "metadata": {
  "kernelspec": {
   "display_name": "Python 3",
   "language": "python",
   "name": "python3"
  },
  "language_info": {
   "codemirror_mode": {
    "name": "ipython",
    "version": 2
   },
   "file_extension": ".py",
   "mimetype": "text/x-python",
   "name": "python",
   "nbconvert_exporter": "python",
   "pygments_lexer": "ipython2",
   "version": "2.7.6"
  }
 },
 "nbformat": 4,
 "nbformat_minor": 5
}
