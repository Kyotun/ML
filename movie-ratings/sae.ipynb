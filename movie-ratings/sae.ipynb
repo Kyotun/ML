{
 "cells": [
  {
   "cell_type": "markdown",
   "source": [
    "# Importing the libs"
   ],
   "metadata": {
    "collapsed": false
   },
   "id": "bbbea7b84dcc0a11"
  },
  {
   "cell_type": "code",
   "outputs": [],
   "source": [
    "import numpy as np\n",
    "import pandas as pd\n",
    "import torch\n",
    "import torch.nn as nn\n",
    "import torch.nn.parallel\n",
    "import torch.optim as optim\n",
    "import torch.utils.data\n",
    "from torch.autograd import Variable"
   ],
   "metadata": {
    "collapsed": false,
    "ExecuteTime": {
     "end_time": "2024-04-03T13:39:12.738480Z",
     "start_time": "2024-04-03T13:39:12.736569Z"
    }
   },
   "id": "a4e27b4356ff7341",
   "execution_count": 62
  },
  {
   "cell_type": "markdown",
   "source": [
    "# Importing the datasets"
   ],
   "metadata": {
    "collapsed": false
   },
   "id": "76ea51b02de6a10b"
  },
  {
   "cell_type": "code",
   "outputs": [],
   "source": [
    "# We won't be using this dataset.\n",
    "movies = pd.read_csv('data/ml-1m/movies.dat', sep = '::', header = None, engine = 'python', encoding = 'latin-1')\n",
    "users = pd.read_csv('data/ml-1m/users.dat', sep = '::', header = None, engine = 'python', encoding = 'latin-1')\n",
    "ratings = pd.read_csv('data/ml-1m/ratings.dat', sep = '::', header = None, engine = 'python', encoding = 'latin-1')"
   ],
   "metadata": {
    "collapsed": false,
    "ExecuteTime": {
     "end_time": "2024-04-03T13:39:15.252999Z",
     "start_time": "2024-04-03T13:39:12.765376Z"
    }
   },
   "id": "209e1c040acc67c9",
   "execution_count": 63
  },
  {
   "cell_type": "markdown",
   "source": [
    "# Prepare the training & test sets"
   ],
   "metadata": {
    "collapsed": false
   },
   "id": "2df86c45a5f1a22e"
  },
  {
   "cell_type": "code",
   "outputs": [],
   "source": [
    "training_set = pd.read_csv('data/ml-100k/u1.base', delimiter = '\\t')\n",
    "training_set = np.array(training_set, dtype = 'int')\n",
    "test_set = pd.read_csv('data/ml-100k/u1.test', delimiter = '\\t')\n",
    "test_set = np.array(test_set, dtype = 'int')"
   ],
   "metadata": {
    "collapsed": false,
    "ExecuteTime": {
     "end_time": "2024-04-03T13:39:15.276128Z",
     "start_time": "2024-04-03T13:39:15.254184Z"
    }
   },
   "id": "9833a02639d392ee",
   "execution_count": 64
  },
  {
   "cell_type": "markdown",
   "source": [
    "# Get the number of users and movies"
   ],
   "metadata": {
    "collapsed": false
   },
   "id": "ec1542e9533577af"
  },
  {
   "cell_type": "code",
   "outputs": [
    {
     "data": {
      "text/plain": "943"
     },
     "execution_count": 65,
     "metadata": {},
     "output_type": "execute_result"
    }
   ],
   "source": [
    "nb_users = int(max(max(training_set[:, 0], ), max(test_set[:, 0])))\n",
    "nb_users"
   ],
   "metadata": {
    "collapsed": false,
    "ExecuteTime": {
     "end_time": "2024-04-03T13:39:15.282839Z",
     "start_time": "2024-04-03T13:39:15.276838Z"
    }
   },
   "id": "d8e98ca33ed6acd5",
   "execution_count": 65
  },
  {
   "cell_type": "code",
   "outputs": [
    {
     "data": {
      "text/plain": "1682"
     },
     "execution_count": 66,
     "metadata": {},
     "output_type": "execute_result"
    }
   ],
   "source": [
    "nb_movies = int(max(max(training_set[:, 1], ), max(test_set[:, 1])))\n",
    "nb_movies"
   ],
   "metadata": {
    "collapsed": false,
    "ExecuteTime": {
     "end_time": "2024-04-03T13:39:15.290455Z",
     "start_time": "2024-04-03T13:39:15.284176Z"
    }
   },
   "id": "d676f6d28ced2502",
   "execution_count": 66
  },
  {
   "cell_type": "markdown",
   "source": [
    "# Converting & preparing data"
   ],
   "metadata": {
    "collapsed": false
   },
   "id": "54c3621fa4a81da8"
  },
  {
   "cell_type": "code",
   "outputs": [],
   "source": [
    "def convert(data):\n",
    "  new_data = []\n",
    "  for id_users in range(1, nb_users + 1):\n",
    "      \n",
    "    # Get the current user's movie ids\n",
    "    id_movies = data[:, 1][data[:, 0] == id_users]\n",
    "    \n",
    "    # Get the current user's rating scores \n",
    "    id_ratings = data[:, 2][data[:, 0] == id_users]\n",
    "    \n",
    "    ratings = np.zeros(nb_movies)\n",
    "    # Assign the ratings to movies, which they belong\n",
    "    ratings[id_movies - 1] = id_ratings\n",
    "    new_data.append(list(ratings))\n",
    "  return new_data\n",
    "training_set = convert(training_set)\n",
    "test_set = convert(test_set)"
   ],
   "metadata": {
    "collapsed": false,
    "ExecuteTime": {
     "end_time": "2024-04-03T13:39:15.473365Z",
     "start_time": "2024-04-03T13:39:15.291122Z"
    }
   },
   "id": "a1c3eb00ab75c7e2",
   "execution_count": 67
  },
  {
   "cell_type": "markdown",
   "source": [
    "# Convert data to tensors"
   ],
   "metadata": {
    "collapsed": false
   },
   "id": "d34485b87a355fe6"
  },
  {
   "cell_type": "code",
   "outputs": [
    {
     "data": {
      "text/plain": "tensor([[0., 3., 4.,  ..., 0., 0., 0.],\n        [4., 0., 0.,  ..., 0., 0., 0.],\n        [0., 0., 0.,  ..., 0., 0., 0.],\n        ...,\n        [5., 0., 0.,  ..., 0., 0., 0.],\n        [0., 0., 0.,  ..., 0., 0., 0.],\n        [0., 5., 0.,  ..., 0., 0., 0.]])"
     },
     "execution_count": 68,
     "metadata": {},
     "output_type": "execute_result"
    }
   ],
   "source": [
    "training_set = torch.FloatTensor(training_set)\n",
    "training_set"
   ],
   "metadata": {
    "collapsed": false,
    "ExecuteTime": {
     "end_time": "2024-04-03T13:39:15.563475Z",
     "start_time": "2024-04-03T13:39:15.474058Z"
    }
   },
   "id": "396e6bc4b9baf998",
   "execution_count": 68
  },
  {
   "cell_type": "code",
   "outputs": [
    {
     "data": {
      "text/plain": "tensor([[0., 0., 0.,  ..., 0., 0., 0.],\n        [0., 0., 0.,  ..., 0., 0., 0.],\n        [0., 0., 0.,  ..., 0., 0., 0.],\n        ...,\n        [0., 0., 0.,  ..., 0., 0., 0.],\n        [0., 0., 0.,  ..., 0., 0., 0.],\n        [0., 0., 0.,  ..., 0., 0., 0.]])"
     },
     "execution_count": 69,
     "metadata": {},
     "output_type": "execute_result"
    }
   ],
   "source": [
    "test_set = torch.FloatTensor(test_set)\n",
    "test_set"
   ],
   "metadata": {
    "collapsed": false,
    "ExecuteTime": {
     "end_time": "2024-04-03T13:39:15.654987Z",
     "start_time": "2024-04-03T13:39:15.564085Z"
    }
   },
   "id": "25642c60dc95fd46",
   "execution_count": 69
  },
  {
   "cell_type": "markdown",
   "source": [
    "# Create the SAE Class"
   ],
   "metadata": {
    "collapsed": false
   },
   "id": "67f91211aae6f77"
  },
  {
   "cell_type": "code",
   "outputs": [],
   "source": [
    "class SAE(nn.Module):\n",
    "    def __init__(self, ):\n",
    "        super(SAE, self).__init__()\n",
    "        self.fc1 = nn.Linear(nb_movies, 20)\n",
    "        self.fc2 = nn.Linear(20, 10)\n",
    "        self.fc3 = nn.Linear(10, 20)\n",
    "        self.fc4 = nn.Linear(20, nb_movies)\n",
    "        self.activation = nn.Sigmoid()\n",
    "    def forward(self, x):\n",
    "        x = self.activation(self.fc1(x))\n",
    "        x = self.activation(self.fc2(x))\n",
    "        x = self.activation(self.fc3(x))\n",
    "        x = self.fc4(x)\n",
    "        return x"
   ],
   "metadata": {
    "collapsed": false,
    "ExecuteTime": {
     "end_time": "2024-04-03T13:39:15.658279Z",
     "start_time": "2024-04-03T13:39:15.655715Z"
    }
   },
   "id": "883a6ca0f0d0bae4",
   "execution_count": 70
  },
  {
   "cell_type": "code",
   "outputs": [],
   "source": [
    "# Create instances and define parameters\n",
    "sae = SAE()\n",
    "criterion = nn.MSELoss()\n",
    "optimizer = optim.RMSprop(sae.parameters(), lr = 0.01, weight_decay = 0.5)"
   ],
   "metadata": {
    "collapsed": false,
    "ExecuteTime": {
     "end_time": "2024-04-03T13:39:15.661783Z",
     "start_time": "2024-04-03T13:39:15.658927Z"
    }
   },
   "id": "a003d7c949af92c1",
   "execution_count": 71
  },
  {
   "cell_type": "markdown",
   "source": [
    "# Training"
   ],
   "metadata": {
    "collapsed": false
   },
   "id": "26feeae0910e538e"
  },
  {
   "cell_type": "code",
   "outputs": [],
   "source": [
    "# Define number of epoch\n",
    "nb_epoch = 200"
   ],
   "metadata": {
    "collapsed": false,
    "ExecuteTime": {
     "end_time": "2024-04-03T13:39:15.664981Z",
     "start_time": "2024-04-03T13:39:15.663497Z"
    }
   },
   "id": "20740313d36f931e",
   "execution_count": 72
  },
  {
   "cell_type": "code",
   "outputs": [
    {
     "name": "stdout",
     "output_type": "stream",
     "text": [
      "epoch: 1loss: tensor(1.7661)\n",
      "epoch: 2loss: tensor(1.0966)\n",
      "epoch: 3loss: tensor(1.0533)\n",
      "epoch: 4loss: tensor(1.0382)\n",
      "epoch: 5loss: tensor(1.0311)\n",
      "epoch: 6loss: tensor(1.0268)\n",
      "epoch: 7loss: tensor(1.0238)\n",
      "epoch: 8loss: tensor(1.0219)\n",
      "epoch: 9loss: tensor(1.0207)\n",
      "epoch: 10loss: tensor(1.0198)\n",
      "epoch: 11loss: tensor(1.0187)\n",
      "epoch: 12loss: tensor(1.0183)\n",
      "epoch: 13loss: tensor(1.0179)\n",
      "epoch: 14loss: tensor(1.0174)\n",
      "epoch: 15loss: tensor(1.0172)\n",
      "epoch: 16loss: tensor(1.0169)\n",
      "epoch: 17loss: tensor(1.0166)\n",
      "epoch: 18loss: tensor(1.0163)\n",
      "epoch: 19loss: tensor(1.0163)\n",
      "epoch: 20loss: tensor(1.0163)\n",
      "epoch: 21loss: tensor(1.0161)\n",
      "epoch: 22loss: tensor(1.0160)\n",
      "epoch: 23loss: tensor(1.0159)\n",
      "epoch: 24loss: tensor(1.0160)\n",
      "epoch: 25loss: tensor(1.0156)\n",
      "epoch: 26loss: tensor(1.0156)\n",
      "epoch: 27loss: tensor(1.0153)\n",
      "epoch: 28loss: tensor(1.0151)\n",
      "epoch: 29loss: tensor(1.0129)\n",
      "epoch: 30loss: tensor(1.0117)\n",
      "epoch: 31loss: tensor(1.0095)\n",
      "epoch: 32loss: tensor(1.0093)\n",
      "epoch: 33loss: tensor(1.0047)\n",
      "epoch: 34loss: tensor(1.0054)\n",
      "epoch: 35loss: tensor(1.0016)\n",
      "epoch: 36loss: tensor(1.0015)\n",
      "epoch: 37loss: tensor(0.9970)\n",
      "epoch: 38loss: tensor(0.9949)\n",
      "epoch: 39loss: tensor(0.9922)\n",
      "epoch: 40loss: tensor(0.9935)\n",
      "epoch: 41loss: tensor(0.9892)\n",
      "epoch: 42loss: tensor(0.9877)\n",
      "epoch: 43loss: tensor(0.9842)\n",
      "epoch: 44loss: tensor(0.9865)\n",
      "epoch: 45loss: tensor(0.9837)\n",
      "epoch: 46loss: tensor(0.9807)\n",
      "epoch: 47loss: tensor(0.9780)\n",
      "epoch: 48loss: tensor(0.9763)\n",
      "epoch: 49loss: tensor(0.9740)\n",
      "epoch: 50loss: tensor(0.9731)\n",
      "epoch: 51loss: tensor(0.9692)\n",
      "epoch: 52loss: tensor(0.9709)\n",
      "epoch: 53loss: tensor(0.9673)\n",
      "epoch: 54loss: tensor(0.9690)\n",
      "epoch: 55loss: tensor(0.9708)\n",
      "epoch: 56loss: tensor(0.9663)\n",
      "epoch: 57loss: tensor(0.9641)\n",
      "epoch: 58loss: tensor(0.9630)\n",
      "epoch: 59loss: tensor(0.9595)\n",
      "epoch: 60loss: tensor(0.9597)\n",
      "epoch: 61loss: tensor(0.9587)\n",
      "epoch: 62loss: tensor(0.9583)\n",
      "epoch: 63loss: tensor(0.9559)\n",
      "epoch: 64loss: tensor(0.9550)\n",
      "epoch: 65loss: tensor(0.9530)\n",
      "epoch: 66loss: tensor(0.9524)\n",
      "epoch: 67loss: tensor(0.9496)\n",
      "epoch: 68loss: tensor(0.9505)\n",
      "epoch: 69loss: tensor(0.9473)\n",
      "epoch: 70loss: tensor(0.9488)\n",
      "epoch: 71loss: tensor(0.9473)\n",
      "epoch: 72loss: tensor(0.9473)\n",
      "epoch: 73loss: tensor(0.9464)\n",
      "epoch: 74loss: tensor(0.9471)\n",
      "epoch: 75loss: tensor(0.9440)\n",
      "epoch: 76loss: tensor(0.9448)\n",
      "epoch: 77loss: tensor(0.9421)\n",
      "epoch: 78loss: tensor(0.9422)\n",
      "epoch: 79loss: tensor(0.9407)\n",
      "epoch: 80loss: tensor(0.9412)\n",
      "epoch: 81loss: tensor(0.9398)\n",
      "epoch: 82loss: tensor(0.9403)\n",
      "epoch: 83loss: tensor(0.9388)\n",
      "epoch: 84loss: tensor(0.9391)\n",
      "epoch: 85loss: tensor(0.9394)\n",
      "epoch: 86loss: tensor(0.9395)\n",
      "epoch: 87loss: tensor(0.9374)\n",
      "epoch: 88loss: tensor(0.9382)\n",
      "epoch: 89loss: tensor(0.9369)\n",
      "epoch: 90loss: tensor(0.9371)\n",
      "epoch: 91loss: tensor(0.9357)\n",
      "epoch: 92loss: tensor(0.9386)\n",
      "epoch: 93loss: tensor(0.9360)\n",
      "epoch: 94loss: tensor(0.9356)\n",
      "epoch: 95loss: tensor(0.9343)\n",
      "epoch: 96loss: tensor(0.9349)\n",
      "epoch: 97loss: tensor(0.9337)\n",
      "epoch: 98loss: tensor(0.9342)\n",
      "epoch: 99loss: tensor(0.9326)\n",
      "epoch: 100loss: tensor(0.9347)\n",
      "epoch: 101loss: tensor(0.9315)\n",
      "epoch: 102loss: tensor(0.9327)\n",
      "epoch: 103loss: tensor(0.9316)\n",
      "epoch: 104loss: tensor(0.9320)\n",
      "epoch: 105loss: tensor(0.9308)\n",
      "epoch: 106loss: tensor(0.9316)\n",
      "epoch: 107loss: tensor(0.9302)\n",
      "epoch: 108loss: tensor(0.9310)\n",
      "epoch: 109loss: tensor(0.9299)\n",
      "epoch: 110loss: tensor(0.9306)\n",
      "epoch: 111loss: tensor(0.9293)\n",
      "epoch: 112loss: tensor(0.9301)\n",
      "epoch: 113loss: tensor(0.9285)\n",
      "epoch: 114loss: tensor(0.9287)\n",
      "epoch: 115loss: tensor(0.9279)\n",
      "epoch: 116loss: tensor(0.9283)\n",
      "epoch: 117loss: tensor(0.9274)\n",
      "epoch: 118loss: tensor(0.9278)\n",
      "epoch: 119loss: tensor(0.9269)\n",
      "epoch: 120loss: tensor(0.9270)\n",
      "epoch: 121loss: tensor(0.9264)\n",
      "epoch: 122loss: tensor(0.9265)\n",
      "epoch: 123loss: tensor(0.9260)\n",
      "epoch: 124loss: tensor(0.9262)\n",
      "epoch: 125loss: tensor(0.9254)\n",
      "epoch: 126loss: tensor(0.9256)\n",
      "epoch: 127loss: tensor(0.9250)\n",
      "epoch: 128loss: tensor(0.9251)\n",
      "epoch: 129loss: tensor(0.9245)\n",
      "epoch: 130loss: tensor(0.9244)\n",
      "epoch: 131loss: tensor(0.9238)\n",
      "epoch: 132loss: tensor(0.9237)\n",
      "epoch: 133loss: tensor(0.9230)\n",
      "epoch: 134loss: tensor(0.9234)\n",
      "epoch: 135loss: tensor(0.9226)\n",
      "epoch: 136loss: tensor(0.9229)\n",
      "epoch: 137loss: tensor(0.9221)\n",
      "epoch: 138loss: tensor(0.9223)\n",
      "epoch: 139loss: tensor(0.9220)\n",
      "epoch: 140loss: tensor(0.9220)\n",
      "epoch: 141loss: tensor(0.9211)\n",
      "epoch: 142loss: tensor(0.9214)\n",
      "epoch: 143loss: tensor(0.9207)\n",
      "epoch: 144loss: tensor(0.9212)\n",
      "epoch: 145loss: tensor(0.9205)\n",
      "epoch: 146loss: tensor(0.9208)\n",
      "epoch: 147loss: tensor(0.9199)\n",
      "epoch: 148loss: tensor(0.9204)\n",
      "epoch: 149loss: tensor(0.9196)\n",
      "epoch: 150loss: tensor(0.9199)\n",
      "epoch: 151loss: tensor(0.9193)\n",
      "epoch: 152loss: tensor(0.9195)\n",
      "epoch: 153loss: tensor(0.9188)\n",
      "epoch: 154loss: tensor(0.9192)\n",
      "epoch: 155loss: tensor(0.9186)\n",
      "epoch: 156loss: tensor(0.9189)\n",
      "epoch: 157loss: tensor(0.9181)\n",
      "epoch: 158loss: tensor(0.9187)\n",
      "epoch: 159loss: tensor(0.9178)\n",
      "epoch: 160loss: tensor(0.9182)\n",
      "epoch: 161loss: tensor(0.9171)\n",
      "epoch: 162loss: tensor(0.9178)\n",
      "epoch: 163loss: tensor(0.9168)\n",
      "epoch: 164loss: tensor(0.9176)\n",
      "epoch: 165loss: tensor(0.9166)\n",
      "epoch: 166loss: tensor(0.9172)\n",
      "epoch: 167loss: tensor(0.9163)\n",
      "epoch: 168loss: tensor(0.9169)\n",
      "epoch: 169loss: tensor(0.9161)\n",
      "epoch: 170loss: tensor(0.9169)\n",
      "epoch: 171loss: tensor(0.9157)\n",
      "epoch: 172loss: tensor(0.9164)\n",
      "epoch: 173loss: tensor(0.9155)\n",
      "epoch: 174loss: tensor(0.9161)\n",
      "epoch: 175loss: tensor(0.9152)\n",
      "epoch: 176loss: tensor(0.9159)\n",
      "epoch: 177loss: tensor(0.9149)\n",
      "epoch: 178loss: tensor(0.9155)\n",
      "epoch: 179loss: tensor(0.9145)\n",
      "epoch: 180loss: tensor(0.9152)\n",
      "epoch: 181loss: tensor(0.9143)\n",
      "epoch: 182loss: tensor(0.9149)\n",
      "epoch: 183loss: tensor(0.9141)\n",
      "epoch: 184loss: tensor(0.9146)\n",
      "epoch: 185loss: tensor(0.9140)\n",
      "epoch: 186loss: tensor(0.9144)\n",
      "epoch: 187loss: tensor(0.9138)\n",
      "epoch: 188loss: tensor(0.9142)\n",
      "epoch: 189loss: tensor(0.9136)\n",
      "epoch: 190loss: tensor(0.9138)\n",
      "epoch: 191loss: tensor(0.9133)\n",
      "epoch: 192loss: tensor(0.9137)\n",
      "epoch: 193loss: tensor(0.9131)\n",
      "epoch: 194loss: tensor(0.9133)\n",
      "epoch: 195loss: tensor(0.9128)\n",
      "epoch: 196loss: tensor(0.9131)\n",
      "epoch: 197loss: tensor(0.9127)\n",
      "epoch: 198loss: tensor(0.9129)\n",
      "epoch: 199loss: tensor(0.9125)\n",
      "epoch: 200loss: tensor(0.9128)\n"
     ]
    }
   ],
   "source": [
    "for epoch in range(1, nb_epoch + 1):\n",
    "  train_loss = 0\n",
    "  # s -> number of users who rated at least one movie\n",
    "  # set it float to observe RMSE\n",
    "  s = 0.\n",
    "  for id_user in range(nb_users):\n",
    "    # To add a fake dimension in first position we use Variable squeeze 0\n",
    "    input = Variable(training_set[id_user]).unsqueeze(0)\n",
    "    target = input.clone()\n",
    "    # torch.sum(target.data > 0) > 0, Means that user rated at least one movie\n",
    "    if torch.sum(target.data > 0) > 0:\n",
    "      output = sae(input)\n",
    "      # We don't compute gradient with respect to target, save computation\n",
    "      target.require_grad = False\n",
    "      # Save computation\n",
    "      output[target == 0] = 0\n",
    "      # Calculate the loss with output and target\n",
    "      loss = criterion(output, target)\n",
    "      # Make sure that we don't divide with 0\n",
    "      mean_corrector = nb_movies/float(torch.sum(target.data > 0) + 1e-10)\n",
    "      # Decide the step direction\n",
    "      loss.backward()\n",
    "      train_loss += np.sqrt(loss.data*mean_corrector)\n",
    "      s += 1.\n",
    "      # Decide the step intensity\n",
    "      optimizer.step()\n",
    "  print('epoch: '+str(epoch)+'loss: '+ str(train_loss/s))"
   ],
   "metadata": {
    "collapsed": false,
    "ExecuteTime": {
     "end_time": "2024-04-03T13:41:17.487914Z",
     "start_time": "2024-04-03T13:39:24.312974Z"
    }
   },
   "id": "eb0cc519aeb43a49",
   "execution_count": 74
  },
  {
   "cell_type": "code",
   "outputs": [],
   "source": [],
   "metadata": {
    "collapsed": false
   },
   "id": "ea5b67d6edf49df2"
  }
 ],
 "metadata": {
  "kernelspec": {
   "display_name": "Python 3",
   "language": "python",
   "name": "python3"
  },
  "language_info": {
   "codemirror_mode": {
    "name": "ipython",
    "version": 2
   },
   "file_extension": ".py",
   "mimetype": "text/x-python",
   "name": "python",
   "nbconvert_exporter": "python",
   "pygments_lexer": "ipython2",
   "version": "2.7.6"
  }
 },
 "nbformat": 4,
 "nbformat_minor": 5
}
