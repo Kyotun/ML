{
 "cells": [
  {
   "cell_type": "markdown",
   "source": [
    "# Importing the libs"
   ],
   "metadata": {
    "collapsed": false
   },
   "id": "bbbea7b84dcc0a11"
  },
  {
   "cell_type": "code",
   "outputs": [],
   "source": [
    "import numpy as np\n",
    "import pandas as pd\n",
    "import torch\n",
    "import torch.nn as nn\n",
    "import torch.nn.parallel\n",
    "import torch.optim as optim\n",
    "import torch.utils.data\n",
    "from torch.autograd import Variable"
   ],
   "metadata": {
    "collapsed": false,
    "ExecuteTime": {
     "end_time": "2024-04-03T12:37:42.771298Z",
     "start_time": "2024-04-03T12:37:42.769098Z"
    }
   },
   "id": "a4e27b4356ff7341",
   "execution_count": 35
  },
  {
   "cell_type": "markdown",
   "source": [
    "# Importing the datasets"
   ],
   "metadata": {
    "collapsed": false
   },
   "id": "76ea51b02de6a10b"
  },
  {
   "cell_type": "code",
   "outputs": [],
   "source": [
    "# We won't be using this dataset.\n",
    "movies = pd.read_csv('data/ml-1m/movies.dat', sep = '::', header = None, engine = 'python', encoding = 'latin-1')\n",
    "users = pd.read_csv('data/ml-1m/users.dat', sep = '::', header = None, engine = 'python', encoding = 'latin-1')\n",
    "ratings = pd.read_csv('data/ml-1m/ratings.dat', sep = '::', header = None, engine = 'python', encoding = 'latin-1')"
   ],
   "metadata": {
    "collapsed": false,
    "ExecuteTime": {
     "end_time": "2024-04-03T12:37:45.152921Z",
     "start_time": "2024-04-03T12:37:42.789390Z"
    }
   },
   "id": "209e1c040acc67c9",
   "execution_count": 36
  },
  {
   "cell_type": "markdown",
   "source": [
    "# Prepare the training & test sets"
   ],
   "metadata": {
    "collapsed": false
   },
   "id": "2df86c45a5f1a22e"
  },
  {
   "cell_type": "code",
   "outputs": [],
   "source": [
    "training_set = pd.read_csv('data/ml-100k/u1.base', delimiter = '\\t')\n",
    "training_set = np.array(training_set, dtype = 'int')\n",
    "test_set = pd.read_csv('data/ml-100k/u1.test', delimiter = '\\t')\n",
    "test_set = np.array(test_set, dtype = 'int')"
   ],
   "metadata": {
    "collapsed": false,
    "ExecuteTime": {
     "end_time": "2024-04-03T12:37:45.174977Z",
     "start_time": "2024-04-03T12:37:45.154148Z"
    }
   },
   "id": "9833a02639d392ee",
   "execution_count": 37
  },
  {
   "cell_type": "markdown",
   "source": [
    "# Get the number of users and movies"
   ],
   "metadata": {
    "collapsed": false
   },
   "id": "ec1542e9533577af"
  },
  {
   "cell_type": "code",
   "outputs": [
    {
     "data": {
      "text/plain": "943"
     },
     "execution_count": 38,
     "metadata": {},
     "output_type": "execute_result"
    }
   ],
   "source": [
    "nb_users = int(max(max(training_set[:, 0], ), max(test_set[:, 0])))\n",
    "nb_users"
   ],
   "metadata": {
    "collapsed": false,
    "ExecuteTime": {
     "end_time": "2024-04-03T12:37:45.182187Z",
     "start_time": "2024-04-03T12:37:45.175929Z"
    }
   },
   "id": "d8e98ca33ed6acd5",
   "execution_count": 38
  },
  {
   "cell_type": "code",
   "outputs": [
    {
     "data": {
      "text/plain": "1682"
     },
     "execution_count": 39,
     "metadata": {},
     "output_type": "execute_result"
    }
   ],
   "source": [
    "nb_movies = int(max(max(training_set[:, 1], ), max(test_set[:, 1])))\n",
    "nb_movies"
   ],
   "metadata": {
    "collapsed": false,
    "ExecuteTime": {
     "end_time": "2024-04-03T12:37:45.189426Z",
     "start_time": "2024-04-03T12:37:45.183539Z"
    }
   },
   "id": "d676f6d28ced2502",
   "execution_count": 39
  },
  {
   "cell_type": "markdown",
   "source": [
    "# Converting & preparing data"
   ],
   "metadata": {
    "collapsed": false
   },
   "id": "54c3621fa4a81da8"
  },
  {
   "cell_type": "code",
   "outputs": [],
   "source": [
    "def convert(data):\n",
    "  new_data = []\n",
    "  for id_users in range(1, nb_users + 1):\n",
    "    id_movies = data[:, 1] [data[:, 0] == id_users]\n",
    "    id_ratings = data[:, 2] [data[:, 0] == id_users]\n",
    "    ratings = np.zeros(nb_movies)\n",
    "    ratings[id_movies - 1] = id_ratings\n",
    "    new_data.append(list(ratings))\n",
    "  return new_data\n",
    "training_set = convert(training_set)\n",
    "test_set = convert(test_set)"
   ],
   "metadata": {
    "collapsed": false,
    "ExecuteTime": {
     "end_time": "2024-04-03T12:37:45.376798Z",
     "start_time": "2024-04-03T12:37:45.190547Z"
    }
   },
   "id": "a1c3eb00ab75c7e2",
   "execution_count": 40
  },
  {
   "cell_type": "markdown",
   "source": [
    "# Convert data to tensors"
   ],
   "metadata": {
    "collapsed": false
   },
   "id": "d34485b87a355fe6"
  },
  {
   "cell_type": "code",
   "outputs": [
    {
     "data": {
      "text/plain": "tensor([[0., 3., 4.,  ..., 0., 0., 0.],\n        [4., 0., 0.,  ..., 0., 0., 0.],\n        [0., 0., 0.,  ..., 0., 0., 0.],\n        ...,\n        [5., 0., 0.,  ..., 0., 0., 0.],\n        [0., 0., 0.,  ..., 0., 0., 0.],\n        [0., 5., 0.,  ..., 0., 0., 0.]])"
     },
     "execution_count": 41,
     "metadata": {},
     "output_type": "execute_result"
    }
   ],
   "source": [
    "training_set = torch.FloatTensor(training_set)\n",
    "training_set"
   ],
   "metadata": {
    "collapsed": false,
    "ExecuteTime": {
     "end_time": "2024-04-03T12:37:45.482322Z",
     "start_time": "2024-04-03T12:37:45.379762Z"
    }
   },
   "id": "396e6bc4b9baf998",
   "execution_count": 41
  },
  {
   "cell_type": "code",
   "outputs": [
    {
     "data": {
      "text/plain": "tensor([[0., 0., 0.,  ..., 0., 0., 0.],\n        [0., 0., 0.,  ..., 0., 0., 0.],\n        [0., 0., 0.,  ..., 0., 0., 0.],\n        ...,\n        [0., 0., 0.,  ..., 0., 0., 0.],\n        [0., 0., 0.,  ..., 0., 0., 0.],\n        [0., 0., 0.,  ..., 0., 0., 0.]])"
     },
     "execution_count": 42,
     "metadata": {},
     "output_type": "execute_result"
    }
   ],
   "source": [
    "test_set = torch.FloatTensor(test_set)\n",
    "test_set"
   ],
   "metadata": {
    "collapsed": false,
    "ExecuteTime": {
     "end_time": "2024-04-03T12:37:45.574533Z",
     "start_time": "2024-04-03T12:37:45.482995Z"
    }
   },
   "id": "25642c60dc95fd46",
   "execution_count": 42
  },
  {
   "cell_type": "markdown",
   "source": [
    "# Create the SAE Class"
   ],
   "metadata": {
    "collapsed": false
   },
   "id": "67f91211aae6f77"
  },
  {
   "cell_type": "code",
   "outputs": [],
   "source": [
    "class SAE(nn.Module):\n",
    "    def __init__(self, ):\n",
    "        super(SAE, self).__init__()\n",
    "        self.fc1 = nn.Linear(nb_movies, 20)\n",
    "        self.fc2 = nn.Linear(20, 10)\n",
    "        self.fc3 = nn.Linear(10, 20)\n",
    "        self.fc4 = nn.Linear(20, nb_movies)\n",
    "        self.activation = nn.Sigmoid()\n",
    "    def forward(self, x):\n",
    "        x = self.activation(self.fc1(x))\n",
    "        x = self.activation(self.fc2(x))\n",
    "        x = self.activation(self.fc3(x))\n",
    "        x = self.fc4(x)\n",
    "        return x"
   ],
   "metadata": {
    "collapsed": false,
    "ExecuteTime": {
     "end_time": "2024-04-03T12:38:04.178281Z",
     "start_time": "2024-04-03T12:38:04.175637Z"
    }
   },
   "id": "883a6ca0f0d0bae4",
   "execution_count": 44
  },
  {
   "cell_type": "code",
   "outputs": [],
   "source": [
    "# Create instances and define parameters\n",
    "sae = SAE()\n",
    "criterion = nn.MSELoss()\n",
    "optimizer = optim.RMSprop(sae.parameters(), lr = 0.01, weight_decay = 0.5)"
   ],
   "metadata": {
    "collapsed": false,
    "ExecuteTime": {
     "end_time": "2024-04-03T12:39:45.888751Z",
     "start_time": "2024-04-03T12:39:45.419006Z"
    }
   },
   "id": "a003d7c949af92c1",
   "execution_count": 45
  },
  {
   "cell_type": "code",
   "outputs": [],
   "source": [],
   "metadata": {
    "collapsed": false
   },
   "id": "727a22c8946882d4"
  }
 ],
 "metadata": {
  "kernelspec": {
   "display_name": "Python 3",
   "language": "python",
   "name": "python3"
  },
  "language_info": {
   "codemirror_mode": {
    "name": "ipython",
    "version": 2
   },
   "file_extension": ".py",
   "mimetype": "text/x-python",
   "name": "python",
   "nbconvert_exporter": "python",
   "pygments_lexer": "ipython2",
   "version": "2.7.6"
  }
 },
 "nbformat": 4,
 "nbformat_minor": 5
}
