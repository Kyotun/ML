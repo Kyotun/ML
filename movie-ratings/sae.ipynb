{
 "cells": [
  {
   "cell_type": "markdown",
   "source": [
    "# Importing the libs"
   ],
   "metadata": {
    "collapsed": false
   },
   "id": "bbbea7b84dcc0a11"
  },
  {
   "cell_type": "code",
   "outputs": [],
   "source": [
    "import numpy as np\n",
    "import pandas as pd\n",
    "import torch\n",
    "import torch.nn as nn\n",
    "import torch.nn.parallel\n",
    "import torch.optim as optim\n",
    "import torch.utils.data\n",
    "from torch.autograd import Variable"
   ],
   "metadata": {
    "collapsed": false,
    "ExecuteTime": {
     "end_time": "2024-04-03T13:53:17.461396Z",
     "start_time": "2024-04-03T13:53:17.459266Z"
    }
   },
   "id": "a4e27b4356ff7341",
   "execution_count": 76
  },
  {
   "cell_type": "markdown",
   "source": [
    "# Importing the datasets"
   ],
   "metadata": {
    "collapsed": false
   },
   "id": "76ea51b02de6a10b"
  },
  {
   "cell_type": "code",
   "outputs": [],
   "source": [
    "# We won't be using this dataset.\n",
    "movies = pd.read_csv('data/ml-1m/movies.dat', sep = '::', header = None, engine = 'python', encoding = 'latin-1')\n",
    "users = pd.read_csv('data/ml-1m/users.dat', sep = '::', header = None, engine = 'python', encoding = 'latin-1')\n",
    "ratings = pd.read_csv('data/ml-1m/ratings.dat', sep = '::', header = None, engine = 'python', encoding = 'latin-1')"
   ],
   "metadata": {
    "collapsed": false,
    "ExecuteTime": {
     "end_time": "2024-04-03T13:53:19.898022Z",
     "start_time": "2024-04-03T13:53:17.484269Z"
    }
   },
   "id": "209e1c040acc67c9",
   "execution_count": 77
  },
  {
   "cell_type": "markdown",
   "source": [
    "# Prepare the training & test sets"
   ],
   "metadata": {
    "collapsed": false
   },
   "id": "2df86c45a5f1a22e"
  },
  {
   "cell_type": "code",
   "outputs": [],
   "source": [
    "training_set = pd.read_csv('data/ml-100k/u1.base', delimiter = '\\t')\n",
    "training_set = np.array(training_set, dtype = 'int')\n",
    "test_set = pd.read_csv('data/ml-100k/u1.test', delimiter = '\\t')\n",
    "test_set = np.array(test_set, dtype = 'int')"
   ],
   "metadata": {
    "collapsed": false,
    "ExecuteTime": {
     "end_time": "2024-04-03T13:53:19.919610Z",
     "start_time": "2024-04-03T13:53:19.899360Z"
    }
   },
   "id": "9833a02639d392ee",
   "execution_count": 78
  },
  {
   "cell_type": "markdown",
   "source": [
    "# Get the number of users and movies"
   ],
   "metadata": {
    "collapsed": false
   },
   "id": "ec1542e9533577af"
  },
  {
   "cell_type": "code",
   "outputs": [
    {
     "data": {
      "text/plain": "943"
     },
     "execution_count": 79,
     "metadata": {},
     "output_type": "execute_result"
    }
   ],
   "source": [
    "nb_users = int(max(max(training_set[:, 0], ), max(test_set[:, 0])))\n",
    "nb_users"
   ],
   "metadata": {
    "collapsed": false,
    "ExecuteTime": {
     "end_time": "2024-04-03T13:53:19.926111Z",
     "start_time": "2024-04-03T13:53:19.920263Z"
    }
   },
   "id": "d8e98ca33ed6acd5",
   "execution_count": 79
  },
  {
   "cell_type": "code",
   "outputs": [
    {
     "data": {
      "text/plain": "1682"
     },
     "execution_count": 80,
     "metadata": {},
     "output_type": "execute_result"
    }
   ],
   "source": [
    "nb_movies = int(max(max(training_set[:, 1], ), max(test_set[:, 1])))\n",
    "nb_movies"
   ],
   "metadata": {
    "collapsed": false,
    "ExecuteTime": {
     "end_time": "2024-04-03T13:53:19.932805Z",
     "start_time": "2024-04-03T13:53:19.927375Z"
    }
   },
   "id": "d676f6d28ced2502",
   "execution_count": 80
  },
  {
   "cell_type": "markdown",
   "source": [
    "# Converting & preparing data"
   ],
   "metadata": {
    "collapsed": false
   },
   "id": "54c3621fa4a81da8"
  },
  {
   "cell_type": "code",
   "outputs": [],
   "source": [
    "def convert(data):\n",
    "  new_data = []\n",
    "  for id_users in range(1, nb_users + 1):\n",
    "      \n",
    "    # Get the current user's movie ids\n",
    "    id_movies = data[:, 1][data[:, 0] == id_users]\n",
    "    \n",
    "    # Get the current user's rating scores \n",
    "    id_ratings = data[:, 2][data[:, 0] == id_users]\n",
    "    \n",
    "    ratings = np.zeros(nb_movies)\n",
    "    # Assign the ratings to movies, which they belong\n",
    "    ratings[id_movies - 1] = id_ratings\n",
    "    new_data.append(list(ratings))\n",
    "  return new_data\n",
    "training_set = convert(training_set)\n",
    "test_set = convert(test_set)"
   ],
   "metadata": {
    "collapsed": false,
    "ExecuteTime": {
     "end_time": "2024-04-03T13:53:20.117666Z",
     "start_time": "2024-04-03T13:53:19.933453Z"
    }
   },
   "id": "a1c3eb00ab75c7e2",
   "execution_count": 81
  },
  {
   "cell_type": "markdown",
   "source": [
    "# Convert data to tensors"
   ],
   "metadata": {
    "collapsed": false
   },
   "id": "d34485b87a355fe6"
  },
  {
   "cell_type": "code",
   "outputs": [
    {
     "data": {
      "text/plain": "tensor([[0., 3., 4.,  ..., 0., 0., 0.],\n        [4., 0., 0.,  ..., 0., 0., 0.],\n        [0., 0., 0.,  ..., 0., 0., 0.],\n        ...,\n        [5., 0., 0.,  ..., 0., 0., 0.],\n        [0., 0., 0.,  ..., 0., 0., 0.],\n        [0., 5., 0.,  ..., 0., 0., 0.]])"
     },
     "execution_count": 82,
     "metadata": {},
     "output_type": "execute_result"
    }
   ],
   "source": [
    "training_set = torch.FloatTensor(training_set)\n",
    "training_set"
   ],
   "metadata": {
    "collapsed": false,
    "ExecuteTime": {
     "end_time": "2024-04-03T13:53:20.206174Z",
     "start_time": "2024-04-03T13:53:20.118404Z"
    }
   },
   "id": "396e6bc4b9baf998",
   "execution_count": 82
  },
  {
   "cell_type": "code",
   "outputs": [
    {
     "data": {
      "text/plain": "tensor([[0., 0., 0.,  ..., 0., 0., 0.],\n        [0., 0., 0.,  ..., 0., 0., 0.],\n        [0., 0., 0.,  ..., 0., 0., 0.],\n        ...,\n        [0., 0., 0.,  ..., 0., 0., 0.],\n        [0., 0., 0.,  ..., 0., 0., 0.],\n        [0., 0., 0.,  ..., 0., 0., 0.]])"
     },
     "execution_count": 83,
     "metadata": {},
     "output_type": "execute_result"
    }
   ],
   "source": [
    "test_set = torch.FloatTensor(test_set)\n",
    "test_set"
   ],
   "metadata": {
    "collapsed": false,
    "ExecuteTime": {
     "end_time": "2024-04-03T13:53:20.295330Z",
     "start_time": "2024-04-03T13:53:20.206876Z"
    }
   },
   "id": "25642c60dc95fd46",
   "execution_count": 83
  },
  {
   "cell_type": "markdown",
   "source": [
    "# Create the SAE Class"
   ],
   "metadata": {
    "collapsed": false
   },
   "id": "67f91211aae6f77"
  },
  {
   "cell_type": "code",
   "outputs": [],
   "source": [
    "class SAE(nn.Module):\n",
    "    def __init__(self, ):\n",
    "        super(SAE, self).__init__()\n",
    "        self.fc1 = nn.Linear(nb_movies, 20)\n",
    "        self.fc2 = nn.Linear(20, 10)\n",
    "        self.fc3 = nn.Linear(10, 20)\n",
    "        self.fc4 = nn.Linear(20, nb_movies)\n",
    "        self.activation = nn.Sigmoid()\n",
    "    def forward(self, x):\n",
    "        x = self.activation(self.fc1(x))\n",
    "        x = self.activation(self.fc2(x))\n",
    "        x = self.activation(self.fc3(x))\n",
    "        x = self.fc4(x)\n",
    "        return x"
   ],
   "metadata": {
    "collapsed": false,
    "ExecuteTime": {
     "end_time": "2024-04-03T13:53:20.298509Z",
     "start_time": "2024-04-03T13:53:20.296047Z"
    }
   },
   "id": "883a6ca0f0d0bae4",
   "execution_count": 84
  },
  {
   "cell_type": "code",
   "outputs": [],
   "source": [
    "# Create instances and define parameters\n",
    "sae = SAE()\n",
    "criterion = nn.MSELoss()\n",
    "optimizer = optim.RMSprop(sae.parameters(), lr = 0.01, weight_decay = 0.5)"
   ],
   "metadata": {
    "collapsed": false,
    "ExecuteTime": {
     "end_time": "2024-04-03T13:53:20.301774Z",
     "start_time": "2024-04-03T13:53:20.299209Z"
    }
   },
   "id": "a003d7c949af92c1",
   "execution_count": 85
  },
  {
   "cell_type": "markdown",
   "source": [
    "# Training"
   ],
   "metadata": {
    "collapsed": false
   },
   "id": "26feeae0910e538e"
  },
  {
   "cell_type": "code",
   "outputs": [],
   "source": [
    "# Define number of epoch\n",
    "nb_epoch = 200"
   ],
   "metadata": {
    "collapsed": false,
    "ExecuteTime": {
     "end_time": "2024-04-03T13:53:20.305011Z",
     "start_time": "2024-04-03T13:53:20.303643Z"
    }
   },
   "id": "20740313d36f931e",
   "execution_count": 86
  },
  {
   "cell_type": "code",
   "outputs": [
    {
     "name": "stdout",
     "output_type": "stream",
     "text": [
      "epoch: 1loss: tensor(1.7725)\n",
      "epoch: 2loss: tensor(1.0967)\n",
      "epoch: 3loss: tensor(1.0536)\n",
      "epoch: 4loss: tensor(1.0384)\n",
      "epoch: 5loss: tensor(1.0309)\n",
      "epoch: 6loss: tensor(1.0271)\n",
      "epoch: 7loss: tensor(1.0239)\n",
      "epoch: 8loss: tensor(1.0220)\n",
      "epoch: 9loss: tensor(1.0208)\n",
      "epoch: 10loss: tensor(1.0198)\n",
      "epoch: 11loss: tensor(1.0188)\n",
      "epoch: 12loss: tensor(1.0184)\n",
      "epoch: 13loss: tensor(1.0178)\n",
      "epoch: 14loss: tensor(1.0177)\n",
      "epoch: 15loss: tensor(1.0172)\n",
      "epoch: 16loss: tensor(1.0168)\n",
      "epoch: 17loss: tensor(1.0167)\n",
      "epoch: 18loss: tensor(1.0166)\n",
      "epoch: 19loss: tensor(1.0165)\n",
      "epoch: 20loss: tensor(1.0162)\n",
      "epoch: 21loss: tensor(1.0159)\n",
      "epoch: 22loss: tensor(1.0161)\n",
      "epoch: 23loss: tensor(1.0156)\n",
      "epoch: 24loss: tensor(1.0158)\n",
      "epoch: 25loss: tensor(1.0158)\n",
      "epoch: 26loss: tensor(1.0156)\n",
      "epoch: 27loss: tensor(1.0155)\n",
      "epoch: 28loss: tensor(1.0150)\n",
      "epoch: 29loss: tensor(1.0139)\n",
      "epoch: 30loss: tensor(1.0121)\n",
      "epoch: 31loss: tensor(1.0099)\n",
      "epoch: 32loss: tensor(1.0081)\n",
      "epoch: 33loss: tensor(1.0055)\n",
      "epoch: 34loss: tensor(1.0054)\n",
      "epoch: 35loss: tensor(1.0010)\n",
      "epoch: 36loss: tensor(0.9992)\n",
      "epoch: 37loss: tensor(0.9956)\n",
      "epoch: 38loss: tensor(0.9956)\n",
      "epoch: 39loss: tensor(0.9938)\n",
      "epoch: 40loss: tensor(0.9922)\n",
      "epoch: 41loss: tensor(0.9903)\n",
      "epoch: 42loss: tensor(0.9901)\n",
      "epoch: 43loss: tensor(0.9882)\n",
      "epoch: 44loss: tensor(0.9867)\n",
      "epoch: 45loss: tensor(0.9855)\n",
      "epoch: 46loss: tensor(0.9817)\n",
      "epoch: 47loss: tensor(0.9766)\n",
      "epoch: 48loss: tensor(0.9800)\n",
      "epoch: 49loss: tensor(0.9823)\n",
      "epoch: 50loss: tensor(0.9864)\n",
      "epoch: 51loss: tensor(0.9835)\n",
      "epoch: 52loss: tensor(0.9816)\n",
      "epoch: 53loss: tensor(0.9747)\n",
      "epoch: 54loss: tensor(0.9839)\n",
      "epoch: 55loss: tensor(0.9831)\n",
      "epoch: 56loss: tensor(0.9756)\n",
      "epoch: 57loss: tensor(0.9717)\n",
      "epoch: 58loss: tensor(0.9720)\n",
      "epoch: 59loss: tensor(0.9747)\n",
      "epoch: 60loss: tensor(0.9711)\n",
      "epoch: 61loss: tensor(0.9673)\n",
      "epoch: 62loss: tensor(0.9707)\n",
      "epoch: 63loss: tensor(0.9678)\n",
      "epoch: 64loss: tensor(0.9700)\n",
      "epoch: 65loss: tensor(0.9699)\n",
      "epoch: 66loss: tensor(0.9637)\n",
      "epoch: 67loss: tensor(0.9600)\n",
      "epoch: 68loss: tensor(0.9635)\n",
      "epoch: 69loss: tensor(0.9643)\n",
      "epoch: 70loss: tensor(0.9600)\n",
      "epoch: 71loss: tensor(0.9568)\n",
      "epoch: 72loss: tensor(0.9551)\n",
      "epoch: 73loss: tensor(0.9532)\n",
      "epoch: 74loss: tensor(0.9585)\n",
      "epoch: 75loss: tensor(0.9592)\n",
      "epoch: 76loss: tensor(0.9563)\n",
      "epoch: 77loss: tensor(0.9538)\n",
      "epoch: 78loss: tensor(0.9562)\n",
      "epoch: 79loss: tensor(0.9587)\n",
      "epoch: 80loss: tensor(0.9568)\n",
      "epoch: 81loss: tensor(0.9509)\n",
      "epoch: 82loss: tensor(0.9499)\n",
      "epoch: 83loss: tensor(0.9495)\n",
      "epoch: 84loss: tensor(0.9505)\n",
      "epoch: 85loss: tensor(0.9471)\n",
      "epoch: 86loss: tensor(0.9476)\n",
      "epoch: 87loss: tensor(0.9454)\n",
      "epoch: 88loss: tensor(0.9454)\n",
      "epoch: 89loss: tensor(0.9455)\n",
      "epoch: 90loss: tensor(0.9455)\n",
      "epoch: 91loss: tensor(0.9418)\n",
      "epoch: 92loss: tensor(0.9423)\n",
      "epoch: 93loss: tensor(0.9424)\n",
      "epoch: 94loss: tensor(0.9411)\n",
      "epoch: 95loss: tensor(0.9404)\n",
      "epoch: 96loss: tensor(0.9402)\n",
      "epoch: 97loss: tensor(0.9390)\n",
      "epoch: 98loss: tensor(0.9397)\n",
      "epoch: 99loss: tensor(0.9381)\n",
      "epoch: 100loss: tensor(0.9376)\n",
      "epoch: 101loss: tensor(0.9367)\n",
      "epoch: 102loss: tensor(0.9370)\n",
      "epoch: 103loss: tensor(0.9354)\n",
      "epoch: 104loss: tensor(0.9364)\n",
      "epoch: 105loss: tensor(0.9353)\n",
      "epoch: 106loss: tensor(0.9363)\n",
      "epoch: 107loss: tensor(0.9333)\n",
      "epoch: 108loss: tensor(0.9353)\n",
      "epoch: 109loss: tensor(0.9334)\n",
      "epoch: 110loss: tensor(0.9344)\n",
      "epoch: 111loss: tensor(0.9331)\n",
      "epoch: 112loss: tensor(0.9342)\n",
      "epoch: 113loss: tensor(0.9326)\n",
      "epoch: 114loss: tensor(0.9330)\n",
      "epoch: 115loss: tensor(0.9314)\n",
      "epoch: 116loss: tensor(0.9322)\n",
      "epoch: 117loss: tensor(0.9322)\n",
      "epoch: 118loss: tensor(0.9325)\n",
      "epoch: 119loss: tensor(0.9308)\n",
      "epoch: 120loss: tensor(0.9313)\n",
      "epoch: 121loss: tensor(0.9305)\n",
      "epoch: 122loss: tensor(0.9309)\n",
      "epoch: 123loss: tensor(0.9300)\n",
      "epoch: 124loss: tensor(0.9306)\n",
      "epoch: 125loss: tensor(0.9295)\n",
      "epoch: 126loss: tensor(0.9296)\n",
      "epoch: 127loss: tensor(0.9284)\n",
      "epoch: 128loss: tensor(0.9289)\n",
      "epoch: 129loss: tensor(0.9279)\n",
      "epoch: 130loss: tensor(0.9285)\n",
      "epoch: 131loss: tensor(0.9280)\n",
      "epoch: 132loss: tensor(0.9285)\n",
      "epoch: 133loss: tensor(0.9268)\n",
      "epoch: 134loss: tensor(0.9276)\n",
      "epoch: 135loss: tensor(0.9262)\n",
      "epoch: 136loss: tensor(0.9275)\n",
      "epoch: 137loss: tensor(0.9258)\n",
      "epoch: 138loss: tensor(0.9262)\n",
      "epoch: 139loss: tensor(0.9255)\n",
      "epoch: 140loss: tensor(0.9258)\n",
      "epoch: 141loss: tensor(0.9247)\n",
      "epoch: 142loss: tensor(0.9259)\n",
      "epoch: 143loss: tensor(0.9245)\n",
      "epoch: 144loss: tensor(0.9250)\n",
      "epoch: 145loss: tensor(0.9243)\n",
      "epoch: 146loss: tensor(0.9246)\n",
      "epoch: 147loss: tensor(0.9234)\n",
      "epoch: 148loss: tensor(0.9244)\n",
      "epoch: 149loss: tensor(0.9231)\n",
      "epoch: 150loss: tensor(0.9237)\n",
      "epoch: 151loss: tensor(0.9221)\n",
      "epoch: 152loss: tensor(0.9231)\n",
      "epoch: 153loss: tensor(0.9226)\n",
      "epoch: 154loss: tensor(0.9231)\n",
      "epoch: 155loss: tensor(0.9217)\n",
      "epoch: 156loss: tensor(0.9228)\n",
      "epoch: 157loss: tensor(0.9212)\n",
      "epoch: 158loss: tensor(0.9219)\n",
      "epoch: 159loss: tensor(0.9207)\n",
      "epoch: 160loss: tensor(0.9218)\n",
      "epoch: 161loss: tensor(0.9207)\n",
      "epoch: 162loss: tensor(0.9216)\n",
      "epoch: 163loss: tensor(0.9201)\n",
      "epoch: 164loss: tensor(0.9214)\n",
      "epoch: 165loss: tensor(0.9196)\n",
      "epoch: 166loss: tensor(0.9207)\n",
      "epoch: 167loss: tensor(0.9196)\n",
      "epoch: 168loss: tensor(0.9202)\n",
      "epoch: 169loss: tensor(0.9193)\n",
      "epoch: 170loss: tensor(0.9202)\n",
      "epoch: 171loss: tensor(0.9187)\n",
      "epoch: 172loss: tensor(0.9198)\n",
      "epoch: 173loss: tensor(0.9186)\n",
      "epoch: 174loss: tensor(0.9195)\n",
      "epoch: 175loss: tensor(0.9184)\n",
      "epoch: 176loss: tensor(0.9192)\n",
      "epoch: 177loss: tensor(0.9184)\n",
      "epoch: 178loss: tensor(0.9187)\n",
      "epoch: 179loss: tensor(0.9178)\n",
      "epoch: 180loss: tensor(0.9183)\n",
      "epoch: 181loss: tensor(0.9177)\n",
      "epoch: 182loss: tensor(0.9181)\n",
      "epoch: 183loss: tensor(0.9174)\n",
      "epoch: 184loss: tensor(0.9178)\n",
      "epoch: 185loss: tensor(0.9172)\n",
      "epoch: 186loss: tensor(0.9175)\n",
      "epoch: 187loss: tensor(0.9167)\n",
      "epoch: 188loss: tensor(0.9171)\n",
      "epoch: 189loss: tensor(0.9165)\n",
      "epoch: 190loss: tensor(0.9171)\n",
      "epoch: 191loss: tensor(0.9163)\n",
      "epoch: 192loss: tensor(0.9167)\n",
      "epoch: 193loss: tensor(0.9162)\n",
      "epoch: 194loss: tensor(0.9168)\n",
      "epoch: 195loss: tensor(0.9161)\n",
      "epoch: 196loss: tensor(0.9163)\n",
      "epoch: 197loss: tensor(0.9156)\n",
      "epoch: 198loss: tensor(0.9160)\n",
      "epoch: 199loss: tensor(0.9150)\n",
      "epoch: 200loss: tensor(0.9158)\n"
     ]
    }
   ],
   "source": [
    "for epoch in range(1, nb_epoch + 1):\n",
    "  train_loss = 0\n",
    "  # s -> number of users who rated at least one movie\n",
    "  # set it float to observe RMSE\n",
    "  s = 0.\n",
    "  for id_user in range(nb_users):\n",
    "    # To add a fake dimension in first position we use Variable squeeze 0\n",
    "    input = Variable(training_set[id_user]).unsqueeze(0)\n",
    "    target = input.clone()\n",
    "    # torch.sum(target.data > 0) > 0, Means that user rated at least one movie\n",
    "    if torch.sum(target.data > 0) > 0:\n",
    "      output = sae(input)\n",
    "      # We don't compute gradient with respect to target, save computation\n",
    "      target.require_grad = False\n",
    "      # Save computation\n",
    "      output[target == 0] = 0\n",
    "      # Calculate the loss with output and target\n",
    "      loss = criterion(output, target)\n",
    "      # Make sure that we don't divide with 0\n",
    "      mean_corrector = nb_movies/float(torch.sum(target.data > 0) + 1e-10)\n",
    "      # Decide the step direction\n",
    "      loss.backward()\n",
    "      train_loss += np.sqrt(loss.data*mean_corrector)\n",
    "      s += 1.\n",
    "      # Decide the step intensity\n",
    "      optimizer.step()\n",
    "  print('epoch: '+str(epoch)+'loss: '+ str(train_loss/s))"
   ],
   "metadata": {
    "collapsed": false,
    "ExecuteTime": {
     "end_time": "2024-04-03T13:55:35.857435Z",
     "start_time": "2024-04-03T13:53:20.305581Z"
    }
   },
   "id": "eb0cc519aeb43a49",
   "execution_count": 87
  },
  {
   "cell_type": "markdown",
   "source": [
    "# Testing the SAE"
   ],
   "metadata": {
    "collapsed": false
   },
   "id": "595d3799c300dc09"
  },
  {
   "cell_type": "code",
   "outputs": [
    {
     "name": "stdout",
     "output_type": "stream",
     "text": [
      "test loss: tensor(0.9574)\n"
     ]
    }
   ],
   "source": [
    "test_loss = 0\n",
    "s = 0.\n",
    "for id_user in range(nb_users):\n",
    "  input = Variable(training_set[id_user]).unsqueeze(0)\n",
    "  target = Variable(test_set[id_user]).unsqueeze(0) \n",
    "  if torch.sum(target.data > 0) > 0:\n",
    "    output = sae(input)\n",
    "    target.require_grad = False\n",
    "    output[target == 0] = 0\n",
    "    loss = criterion(output, target)\n",
    "    mean_corrector = nb_movies/float(torch.sum(target.data > 0) + 1e-10)\n",
    "    test_loss += np.sqrt(loss.data*mean_corrector)\n",
    "    s += 1.\n",
    "print('test loss: '+str(test_loss/s))"
   ],
   "metadata": {
    "collapsed": false,
    "ExecuteTime": {
     "end_time": "2024-04-03T13:55:35.921453Z",
     "start_time": "2024-04-03T13:55:35.858560Z"
    }
   },
   "id": "557fe3e2f49f9fac",
   "execution_count": 88
  },
  {
   "cell_type": "code",
   "outputs": [],
   "source": [],
   "metadata": {
    "collapsed": false,
    "ExecuteTime": {
     "end_time": "2024-04-03T13:55:35.923850Z",
     "start_time": "2024-04-03T13:55:35.922298Z"
    }
   },
   "id": "e783c967b15a328f",
   "execution_count": 88
  }
 ],
 "metadata": {
  "kernelspec": {
   "display_name": "Python 3",
   "language": "python",
   "name": "python3"
  },
  "language_info": {
   "codemirror_mode": {
    "name": "ipython",
    "version": 2
   },
   "file_extension": ".py",
   "mimetype": "text/x-python",
   "name": "python",
   "nbconvert_exporter": "python",
   "pygments_lexer": "ipython2",
   "version": "2.7.6"
  }
 },
 "nbformat": 4,
 "nbformat_minor": 5
}
